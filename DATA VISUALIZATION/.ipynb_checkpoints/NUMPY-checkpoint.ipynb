{
 "cells": [
  {
   "cell_type": "code",
   "execution_count": 24,
   "metadata": {},
   "outputs": [],
   "source": [
    "import numpy as np"
   ]
  },
  {
   "cell_type": "code",
   "execution_count": 6,
   "metadata": {},
   "outputs": [
    {
     "name": "stdout",
     "output_type": "stream",
     "text": [
      "[1 2 3 4 5]\n",
      "<class 'numpy.ndarray'>\n",
      "(5,)\n"
     ]
    }
   ],
   "source": [
    "a=np.array([1,2,3,4,5])\n",
    "print(a)\n",
    "print(type(a))\n",
    "\n",
    "print(a.shape)  #5, denotes that its 1d array having 5 rows"
   ]
  },
  {
   "cell_type": "code",
   "execution_count": 13,
   "metadata": {},
   "outputs": [
    {
     "name": "stdout",
     "output_type": "stream",
     "text": [
      "[[1 2 3]\n",
      " [4 5 6]]\n",
      "\n",
      "(2, 3)\n",
      "5\n"
     ]
    }
   ],
   "source": [
    "b=np.array([[1,2,3],[4,5,6]])  # THIS IS KIND OF 2D ARRAY\n",
    "print(b)\n",
    "print()\n",
    "print(b.shape)\n",
    "print(b[1][1])"
   ]
  },
  {
   "cell_type": "markdown",
   "metadata": {},
   "source": [
    "# CREATING CUSTOM ARRAYS OF ZEROS , ONES AND OTHER CHOICES"
   ]
  },
  {
   "cell_type": "code",
   "execution_count": 17,
   "metadata": {},
   "outputs": [
    {
     "name": "stdout",
     "output_type": "stream",
     "text": [
      "[[0. 0. 0.]\n",
      " [0. 0. 0.]\n",
      " [0. 0. 0.]]\n",
      "<class 'numpy.ndarray'>\n",
      "[[1. 1. 1.]\n",
      " [1. 1. 1.]]\n"
     ]
    }
   ],
   "source": [
    "c=np.zeros((3,3))\n",
    "print(c)\n",
    "print(type(c))\n",
    "\n",
    "b=np.ones((2,3))\n",
    "print(b)"
   ]
  },
  {
   "cell_type": "code",
   "execution_count": 18,
   "metadata": {},
   "outputs": [
    {
     "name": "stdout",
     "output_type": "stream",
     "text": [
      "[[5 5]\n",
      " [5 5]\n",
      " [5 5]]\n"
     ]
    }
   ],
   "source": [
    "c= np.full((3,2),5)  # CREATING CUTOM ARRAY\n",
    "print(c)"
   ]
  },
  {
   "cell_type": "markdown",
   "metadata": {},
   "source": [
    "# CREATING IDENTITY MATRIX\n"
   ]
  },
  {
   "cell_type": "code",
   "execution_count": 19,
   "metadata": {},
   "outputs": [
    {
     "name": "stdout",
     "output_type": "stream",
     "text": [
      "[[1. 0. 0. 0.]\n",
      " [0. 1. 0. 0.]\n",
      " [0. 0. 1. 0.]\n",
      " [0. 0. 0. 1.]]\n"
     ]
    }
   ],
   "source": [
    "d=np.eye(4)\n",
    "print(d)"
   ]
  },
  {
   "cell_type": "markdown",
   "metadata": {},
   "source": [
    "# RANDOM MATRIX"
   ]
  },
  {
   "cell_type": "code",
   "execution_count": 22,
   "metadata": {},
   "outputs": [
    {
     "name": "stdout",
     "output_type": "stream",
     "text": [
      "[[0.91541599 0.32136891 0.41142978]\n",
      " [0.03352637 0.13325498 0.43119721]]\n"
     ]
    }
   ],
   "source": [
    "ran = np.random.random((2,3))\n",
    "print(ran)"
   ]
  },
  {
   "cell_type": "code",
   "execution_count": 24,
   "metadata": {},
   "outputs": [
    {
     "name": "stdout",
     "output_type": "stream",
     "text": [
      "[0.32136891 0.13325498]\n"
     ]
    }
   ],
   "source": [
    "print(ran[ : ,1]) #THIS WILL PRINT ALL THE ELEMENTS OF 1ST COLUMN"
   ]
  },
  {
   "cell_type": "code",
   "execution_count": 27,
   "metadata": {},
   "outputs": [
    {
     "name": "stdout",
     "output_type": "stream",
     "text": [
      "[[0.91541599 0.32136891 0.41142978]\n",
      " [0.03352637 1.         1.        ]]\n"
     ]
    }
   ],
   "source": [
    "ran[1,1:3] = 1 #THIS WOULD UPDATE THE 1ST ROW'S 1ST AND 2ND ELEMENT ELIMINATING THE 3RD ONE\n",
    "print(ran)"
   ]
  },
  {
   "cell_type": "code",
   "execution_count": 31,
   "metadata": {},
   "outputs": [
    {
     "name": "stdout",
     "output_type": "stream",
     "text": [
      "[[0.91541599 0.32136891 7.        ]\n",
      " [5.         5.         5.        ]]\n",
      "\n",
      "\n",
      "[[0.91541599 0.32136891 7.        ]\n",
      " [5.         5.         7.        ]]\n"
     ]
    }
   ],
   "source": [
    "ran[1,:] = 5\n",
    "print(ran)\n",
    "print()\n",
    "print()\n",
    "ran[ :,-1] = 7\n",
    "print(ran)"
   ]
  },
  {
   "cell_type": "markdown",
   "metadata": {},
   "source": [
    "# ALL numpy ARRAY HAS SOME DATATYPE "
   ]
  },
  {
   "cell_type": "code",
   "execution_count": 33,
   "metadata": {},
   "outputs": [
    {
     "name": "stdout",
     "output_type": "stream",
     "text": [
      "float64\n"
     ]
    }
   ],
   "source": [
    "print(ran.dtype)"
   ]
  },
  {
   "cell_type": "code",
   "execution_count": 37,
   "metadata": {},
   "outputs": [
    {
     "name": "stdout",
     "output_type": "stream",
     "text": [
      "[[ 6  8]\n",
      " [10 12]]\n",
      "[[ 6  8]\n",
      " [10 12]]\n",
      "\n",
      "[[ 5 12]\n",
      " [21 32]]\n",
      "[[ 5 12]\n",
      " [21 32]]\n",
      "\n",
      "[[0.2        0.33333333]\n",
      " [0.42857143 0.5       ]]\n",
      "[[0.2        0.33333333]\n",
      " [0.42857143 0.5       ]]\n",
      "\n",
      "[[1.         1.41421356]\n",
      " [1.73205081 2.        ]]\n",
      "\n",
      "[[2.23606798 2.44948974]\n",
      " [2.64575131 2.82842712]]\n"
     ]
    }
   ],
   "source": [
    "#ELEMENT WISE ADDDITION \n",
    "x = np.array([[1,2],[3,4]])\n",
    "y= np.array([[5,6],[7,8]])\n",
    "print(x+y)\n",
    "print(np.add(x,y))\n",
    "print()\n",
    "print(x*y)\n",
    "print(np.multiply(x,y))\n",
    "print()\n",
    "print(x/y)\n",
    "print(np.divide(x,y))\n",
    "print()\n",
    "print(np.sqrt(x))\n",
    "print()\n",
    "print(np.sqrt(y))"
   ]
  },
  {
   "cell_type": "markdown",
   "metadata": {},
   "source": [
    "# MATRIX MULTIPLICATION / DOT PRODUCT , DOT PRODUCT OF TWO VECTORS WILL GIVE US A SCALAR"
   ]
  },
  {
   "cell_type": "code",
   "execution_count": 86,
   "metadata": {},
   "outputs": [
    {
     "name": "stdout",
     "output_type": "stream",
     "text": [
      "[[19 22]\n",
      " [43 50]]\n",
      "\n",
      "[[19 22]\n",
      " [43 50]]\n",
      "\n",
      "\n",
      "30\n"
     ]
    }
   ],
   "source": [
    "x=np.array([[1,2],[3,4]])\n",
    "y = np.array([[5,6],[7,8]])\n",
    "print(x.dot(y))\n",
    "print()\n",
    "print(np.dot(x,y))\n",
    "\n",
    "a=np.array([1,2,3,4])\n",
    "b=np.array([1,2,3,4])\n",
    "print(\"\\n\")\n",
    "print(a.dot(b))"
   ]
  },
  {
   "cell_type": "code",
   "execution_count": 41,
   "metadata": {},
   "outputs": [
    {
     "name": "stdout",
     "output_type": "stream",
     "text": [
      "15\n"
     ]
    }
   ],
   "source": [
    "print(sum(a))"
   ]
  },
  {
   "cell_type": "code",
   "execution_count": 44,
   "metadata": {},
   "outputs": [
    {
     "name": "stdout",
     "output_type": "stream",
     "text": [
      "[4 6]\n",
      "[3 7]\n"
     ]
    }
   ],
   "source": [
    "print(np.sum(x,axis=0)) # AXIS = 0 PARAMETER WILL SUM ALONG THE COLUMNS , AXIS = 1 WILL GIVE SUM ALONG THE ROW\n",
    "print(np.sum(x,axis=1))"
   ]
  },
  {
   "cell_type": "markdown",
   "metadata": {},
   "source": [
    "# STACKING OF ARRAYS , IMPORTANT FOR ML"
   ]
  },
  {
   "cell_type": "code",
   "execution_count": 102,
   "metadata": {},
   "outputs": [
    {
     "name": "stdout",
     "output_type": "stream",
     "text": [
      "[1 2 3 4]\n",
      "[ 1  4  9 16]\n"
     ]
    }
   ],
   "source": [
    "a=np.array([1,2,3,4])\n",
    "b=np.array([1,2,3,4])\n",
    "print(a)\n",
    "b = b**2\n",
    "print(b)\n"
   ]
  },
  {
   "cell_type": "code",
   "execution_count": 103,
   "metadata": {},
   "outputs": [
    {
     "name": "stdout",
     "output_type": "stream",
     "text": [
      "[[ 1  2  3  4]\n",
      " [ 1  4  9 16]]\n",
      "\n",
      "[[ 1  1]\n",
      " [ 2  4]\n",
      " [ 3  9]\n",
      " [ 4 16]]\n"
     ]
    }
   ],
   "source": [
    "print(np.stack((a,b),axis = 0))\n",
    "print()\n",
    "print(np.stack((a,b),axis = 1))"
   ]
  },
  {
   "cell_type": "code",
   "execution_count": 104,
   "metadata": {},
   "outputs": [
    {
     "name": "stdout",
     "output_type": "stream",
     "text": [
      "[[ 1  2]\n",
      " [ 3  4]\n",
      " [ 1  4]\n",
      " [ 9 16]]\n"
     ]
    }
   ],
   "source": [
    "a = np.stack((a,b),axis =0)\n",
    "a=a.reshape((4,2)) # IF WE PUT 4,-1 OR -1,4 THEN IT WILL AUTOMATICALLY FIGURE OUT HOW MUCH ROWS AND COLUMNS ARE REQUIRED\n",
    "print(a)"
   ]
  },
  {
   "cell_type": "markdown",
   "metadata": {},
   "source": [
    "# NUMPY RANDOM GENERATORS"
   ]
  },
  {
   "cell_type": "code",
   "execution_count": 20,
   "metadata": {},
   "outputs": [],
   "source": [
    "# IF WE WANT TO GENERATE RANDOM NUMBERS IN SAME ORDER , THEN WE HAVE TO USE SEED , SUPPOSE 1ST NUMBER IS 47 THEN IT WILL GENERATE ELEMENTS IN THE SOME ORDER WHUICH WILL BE REALTED TO 47\n",
    "np.random.seed(1)"
   ]
  },
  {
   "cell_type": "code",
   "execution_count": 21,
   "metadata": {},
   "outputs": [
    {
     "name": "stdout",
     "output_type": "stream",
     "text": [
      "[0 1 2 3 4 5 6 7 8 9]\n",
      "[ 5  6  7  8  9 10 11 12 13 14]\n"
     ]
    }
   ],
   "source": [
    "a = np.arange(10)\n",
    "print(a)\n",
    "a = np.arange(10) + 5\n",
    "print(a)"
   ]
  },
  {
   "cell_type": "code",
   "execution_count": 22,
   "metadata": {},
   "outputs": [
    {
     "name": "stdout",
     "output_type": "stream",
     "text": [
      "[ 7 14 11  9  5  8  6 12 13 10]\n"
     ]
    }
   ],
   "source": [
    "np.random.shuffle(a)\n",
    "print(a)"
   ]
  },
  {
   "cell_type": "code",
   "execution_count": 23,
   "metadata": {},
   "outputs": [
    {
     "name": "stdout",
     "output_type": "stream",
     "text": [
      "[[0.38791074 0.66974604 0.93553907]\n",
      " [0.84631092 0.31327352 0.52454816]]\n",
      "\n",
      "[9 7 9]\n",
      "5\n"
     ]
    }
   ],
   "source": [
    "# THIS RETURNS VALUES FROM A STANDARD NORMAL DISTRIBUTIONS\n",
    "a=np.random.rand(2,3) # 2,3 IS SHAPE\n",
    "print(a)\n",
    "\n",
    "a=np.random.randint(5,10,3)\n",
    "print()\n",
    "print(a)\n",
    "\n",
    "# RANDOMLY PICK ONE ELEMENT FROM AN ARRAY\n",
    "element = np.random.choice([1,4,5,2,3,6,78,87,8,7])\n",
    "print(element)"
   ]
  },
  {
   "cell_type": "markdown",
   "metadata": {},
   "source": [
    "# STATISTICAL FUNCTIONS IN numpy"
   ]
  },
  {
   "cell_type": "code",
   "execution_count": 28,
   "metadata": {},
   "outputs": [
    {
     "name": "stdout",
     "output_type": "stream",
     "text": [
      "[[ 1  2 13 14]\n",
      " [15 23 12 96]]\n",
      "\n",
      "1\n",
      "96\n",
      "\n",
      "[ 1  2 12 14]\n"
     ]
    }
   ],
   "source": [
    "a = np.array([[1,2,13,14],[15,23,12,96]])\n",
    "print(a)\n",
    "print()\n",
    "print(np.min(a))\n",
    "print(np.max(a))\n",
    "print()\n",
    "print(np.min(a,axis = 0)) # MINIMUM ALONG THE COLUMNS"
   ]
  },
  {
   "cell_type": "code",
   "execution_count": 29,
   "metadata": {},
   "outputs": [
    {
     "name": "stdout",
     "output_type": "stream",
     "text": [
      "[14 96]\n"
     ]
    }
   ],
   "source": [
    "print(np.max(a,axis = 1))"
   ]
  },
  {
   "cell_type": "code",
   "execution_count": 32,
   "metadata": {},
   "outputs": [
    {
     "name": "stdout",
     "output_type": "stream",
     "text": [
      "[ 2.     3.125  3.125 13.75 ]\n",
      "\n",
      "[ 7.5 36.5]\n",
      "[ 8.  12.5 12.5 55. ]\n"
     ]
    }
   ],
   "source": [
    "# CALCULATION OF MEAN\n",
    "m=sum(a)/8\n",
    "print(m)\n",
    "print()\n",
    "print(np.mean(a,axis = 1))\n",
    "print(np.mean(a,axis = 0))"
   ]
  },
  {
   "cell_type": "code",
   "execution_count": 33,
   "metadata": {},
   "outputs": [
    {
     "name": "stdout",
     "output_type": "stream",
     "text": [
      "13.5\n"
     ]
    }
   ],
   "source": [
    "# CALCULATION OF MEADIAN\n",
    "print(np.median(a))"
   ]
  },
  {
   "cell_type": "markdown",
   "metadata": {},
   "source": [
    "# MEAN VS AVERAGE , AVERAGE IS WEIGHTED , IN CASE OF AVERAGE EVERY ELEMENT IS MULTIPLIED BY THEIR RESPECTIOVE WEIGHS THEN THERE AVERAGE IS TAKEN."
   ]
  },
  {
   "cell_type": "code",
   "execution_count": 34,
   "metadata": {},
   "outputs": [
    {
     "name": "stdout",
     "output_type": "stream",
     "text": [
      "2.4\n"
     ]
    }
   ],
   "source": [
    "c= np.array([1,5,4,2,0])\n",
    "print(np.mean(c))"
   ]
  },
  {
   "cell_type": "code",
   "execution_count": 35,
   "metadata": {},
   "outputs": [
    {
     "name": "stdout",
     "output_type": "stream",
     "text": [
      "2.066666666666667\n"
     ]
    }
   ],
   "source": [
    "wts = np.array([1,2,3,4,5])\n",
    "print(np.average(c,weights = wts)) # WEIGHTS PARAMETER IS GIVEN I, SEE MEAN AND AVERAGE ARE DIFFERENT."
   ]
  },
  {
   "cell_type": "markdown",
   "metadata": {},
   "source": [
    "# STANDARD DEVIATION"
   ]
  },
  {
   "cell_type": "code",
   "execution_count": 38,
   "metadata": {},
   "outputs": [
    {
     "name": "stdout",
     "output_type": "stream",
     "text": [
      "1.854723699099141\n",
      "\n",
      "1.854723699099141\n"
     ]
    }
   ],
   "source": [
    "u= np.mean(c)\n",
    "std = np.sqrt(np.mean(abs(c-u)**2))\n",
    "print(std)\n",
    "print()\n",
    "print(np.std(c)) # std IS THE INBUILT FUNCTION FOR CALCULATION OF STANDARD DEVIATION\n"
   ]
  },
  {
   "cell_type": "markdown",
   "metadata": {},
   "source": [
    "# VARIANCE - SQUARE OF STANDARD DEVIATION"
   ]
  },
  {
   "cell_type": "code",
   "execution_count": 40,
   "metadata": {},
   "outputs": [
    {
     "name": "stdout",
     "output_type": "stream",
     "text": [
      "3.440000000000001\n",
      "\n",
      "3.4400000000000004\n"
     ]
    }
   ],
   "source": [
    "print(std**2)\n",
    "print()\n",
    "print(np.var(c)) # var IS THE INBUILT FUNCTION IN numpy FOR CALCULATION OF VARIANCE"
   ]
  },
  {
   "cell_type": "code",
   "execution_count": null,
   "metadata": {},
   "outputs": [],
   "source": []
  },
  {
   "cell_type": "code",
   "execution_count": null,
   "metadata": {},
   "outputs": [],
   "source": []
  },
  {
   "cell_type": "code",
   "execution_count": null,
   "metadata": {},
   "outputs": [],
   "source": []
  },
  {
   "cell_type": "code",
   "execution_count": null,
   "metadata": {},
   "outputs": [],
   "source": []
  },
  {
   "cell_type": "code",
   "execution_count": null,
   "metadata": {},
   "outputs": [],
   "source": []
  },
  {
   "cell_type": "code",
   "execution_count": null,
   "metadata": {},
   "outputs": [],
   "source": []
  },
  {
   "cell_type": "code",
   "execution_count": null,
   "metadata": {},
   "outputs": [],
   "source": []
  }
 ],
 "metadata": {
  "kernelspec": {
   "display_name": "Python 3",
   "language": "python",
   "name": "python3"
  },
  "language_info": {
   "codemirror_mode": {
    "name": "ipython",
    "version": 3
   },
   "file_extension": ".py",
   "mimetype": "text/x-python",
   "name": "python",
   "nbconvert_exporter": "python",
   "pygments_lexer": "ipython3",
   "version": "3.8.2"
  }
 },
 "nbformat": 4,
 "nbformat_minor": 4
}
