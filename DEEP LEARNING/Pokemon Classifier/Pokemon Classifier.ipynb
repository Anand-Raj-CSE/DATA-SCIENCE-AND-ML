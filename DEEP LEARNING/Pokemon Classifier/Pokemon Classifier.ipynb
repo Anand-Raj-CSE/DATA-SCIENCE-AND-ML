{
 "cells": [
  {
   "cell_type": "markdown",
   "id": "79bb297c",
   "metadata": {},
   "source": [
    "# We are going to work only for Bulbasaur, Meowth and Pikachu as the whole 1 Gb data will take lots of time. \n",
    "- Link for whole 1gb dataset :- https://www.kaggle.com/thedagger/pokemon-generation-one\n"
   ]
  },
  {
   "cell_type": "code",
   "execution_count": 1,
   "id": "f766d38b",
   "metadata": {},
   "outputs": [],
   "source": [
    "import os\n",
    "\n",
    "from pathlib import Path\n",
    "from keras.preprocessing import image\n",
    "import matplotlib.pyplot as plt"
   ]
  },
  {
   "cell_type": "code",
   "execution_count": 2,
   "id": "e9f58814",
   "metadata": {},
   "outputs": [],
   "source": [
    "p = Path(\"./Dataset/\")"
   ]
  },
  {
   "cell_type": "code",
   "execution_count": 3,
   "id": "af1765e2",
   "metadata": {},
   "outputs": [
    {
     "name": "stdout",
     "output_type": "stream",
     "text": [
      "<class 'pathlib.WindowsPath'>\n",
      "<class 'pathlib.WindowsPath'>\n",
      "<class 'pathlib.WindowsPath'>\n"
     ]
    }
   ],
   "source": [
    "dirs = p.glob(\"*\") # this would generate all the directories\n",
    "for d in dirs:\n",
    "    print(type(d))\n"
   ]
  },
  {
   "cell_type": "code",
   "execution_count": 4,
   "id": "51f33d47",
   "metadata": {},
   "outputs": [],
   "source": [
    "# Creating arrays for storing the imaage data and for storing the labels\n",
    "image_data = []\n",
    "labels = []\n",
    "# labels needs to be mapped so we would need a dictionary\n",
    "label_dict = {\"Pikachu\":0,\"Meowth\":2,\"Bulbasaur\":1}\n",
    "label2pokemon= {0:\"Pikachu\",1:\"Bulbasaur\",2:\"Meowth\"}\n",
    "iamge_paths = [] #optional"
   ]
  },
  {
   "cell_type": "code",
   "execution_count": 5,
   "id": "3ad8f545",
   "metadata": {},
   "outputs": [
    {
     "name": "stdout",
     "output_type": "stream",
     "text": [
      "<class 'pathlib.WindowsPath'>\n",
      "<class 'str'>\n",
      "<class 'pathlib.WindowsPath'>\n",
      "<class 'str'>\n",
      "<class 'pathlib.WindowsPath'>\n",
      "<class 'str'>\n"
     ]
    }
   ],
   "source": [
    "dirs = p.glob(\"*\")\n",
    "for folder_dir in dirs:\n",
    "    print(type(folder_dir))\n",
    "    print(type(str(folder_dir)))"
   ]
  },
  {
   "cell_type": "code",
   "execution_count": 6,
   "id": "a954836d",
   "metadata": {},
   "outputs": [
    {
     "name": "stdout",
     "output_type": "stream",
     "text": [
      "Dataset\\Bulbasaur\n",
      "173\n",
      "Dataset\\Meowth\n",
      "70\n",
      "Dataset\\Pikachu\n",
      "199\n"
     ]
    }
   ],
   "source": [
    "dirs = p.glob(\"*\")\n",
    "for folder_dir in dirs:\n",
    "    label = str(folder_dir).split(\"\\\\\")[-1]\n",
    "    \n",
    "    # count the image that we are in\n",
    "    cnt = 0\n",
    "    print(folder_dir)\n",
    "    \n",
    "    # Iterate over the folder directory and pick all the images of pokemon\n",
    "    for image_path in folder_dir.glob(\"*.jpg\"):\n",
    "        img = image.load_img(image_path,target_size=(40,40))\n",
    "        img_array = image.img_to_array(img)\n",
    "        image_data.append(img_array)\n",
    "        labels.append(label_dict[label])\n",
    "        cnt+=1\n",
    "    print(cnt)\n",
    "        "
   ]
  },
  {
   "cell_type": "markdown",
   "id": "a95cd336",
   "metadata": {},
   "source": [
    "# Image Visualization"
   ]
  },
  {
   "cell_type": "code",
   "execution_count": 7,
   "id": "e0aa0101",
   "metadata": {},
   "outputs": [],
   "source": [
    "import numpy as np"
   ]
  },
  {
   "cell_type": "code",
   "execution_count": 8,
   "id": "8b9630c5",
   "metadata": {},
   "outputs": [
    {
     "name": "stdout",
     "output_type": "stream",
     "text": [
      "442\n",
      "442\n"
     ]
    }
   ],
   "source": [
    "print(len(image_data))\n",
    "print(len(labels))"
   ]
  },
  {
   "cell_type": "code",
   "execution_count": 9,
   "id": "1a2e7ac8",
   "metadata": {},
   "outputs": [
    {
     "name": "stdout",
     "output_type": "stream",
     "text": [
      "[1, 1, 1, 1, 1, 1, 1, 1, 1, 1, 1, 1, 1, 1, 1, 1, 1, 1, 1, 1, 1, 1, 1, 1, 1, 1, 1, 1, 1, 1, 1, 1, 1, 1, 1, 1, 1, 1, 1, 1, 1, 1, 1, 1, 1, 1, 1, 1, 1, 1, 1, 1, 1, 1, 1, 1, 1, 1, 1, 1, 1, 1, 1, 1, 1, 1, 1, 1, 1, 1, 1, 1, 1, 1, 1, 1, 1, 1, 1, 1, 1, 1, 1, 1, 1, 1, 1, 1, 1, 1, 1, 1, 1, 1, 1, 1, 1, 1, 1, 1, 1, 1, 1, 1, 1, 1, 1, 1, 1, 1, 1, 1, 1, 1, 1, 1, 1, 1, 1, 1, 1, 1, 1, 1, 1, 1, 1, 1, 1, 1, 1, 1, 1, 1, 1, 1, 1, 1, 1, 1, 1, 1, 1, 1, 1, 1, 1, 1, 1, 1, 1, 1, 1, 1, 1, 1, 1, 1, 1, 1, 1, 1, 1, 1, 1, 1, 1, 1, 1, 1, 1, 1, 1, 2, 2, 2, 2, 2, 2, 2, 2, 2, 2, 2, 2, 2, 2, 2, 2, 2, 2, 2, 2, 2, 2, 2, 2, 2, 2, 2, 2, 2, 2, 2, 2, 2, 2, 2, 2, 2, 2, 2, 2, 2, 2, 2, 2, 2, 2, 2, 2, 2, 2, 2, 2, 2, 2, 2, 2, 2, 2, 2, 2, 2, 2, 2, 2, 2, 2, 2, 2, 2, 2, 0, 0, 0, 0, 0, 0, 0, 0, 0, 0, 0, 0, 0, 0, 0, 0, 0, 0, 0, 0, 0, 0, 0, 0, 0, 0, 0, 0, 0, 0, 0, 0, 0, 0, 0, 0, 0, 0, 0, 0, 0, 0, 0, 0, 0, 0, 0, 0, 0, 0, 0, 0, 0, 0, 0, 0, 0, 0, 0, 0, 0, 0, 0, 0, 0, 0, 0, 0, 0, 0, 0, 0, 0, 0, 0, 0, 0, 0, 0, 0, 0, 0, 0, 0, 0, 0, 0, 0, 0, 0, 0, 0, 0, 0, 0, 0, 0, 0, 0, 0, 0, 0, 0, 0, 0, 0, 0, 0, 0, 0, 0, 0, 0, 0, 0, 0, 0, 0, 0, 0, 0, 0, 0, 0, 0, 0, 0, 0, 0, 0, 0, 0, 0, 0, 0, 0, 0, 0, 0, 0, 0, 0, 0, 0, 0, 0, 0, 0, 0, 0, 0, 0, 0, 0, 0, 0, 0, 0, 0, 0, 0, 0, 0, 0, 0, 0, 0, 0, 0, 0, 0, 0, 0, 0, 0, 0, 0, 0, 0, 0, 0, 0, 0, 0, 0, 0, 0, 0, 0, 0, 0, 0, 0, 0, 0, 0, 0, 0, 0]\n"
     ]
    }
   ],
   "source": [
    "print(labels)"
   ]
  },
  {
   "cell_type": "code",
   "execution_count": 10,
   "id": "438a3db2",
   "metadata": {},
   "outputs": [],
   "source": [
    "# Storing Data in form of numpy array\n",
    "X = np.array(image_data)\n",
    "Y = np.array(labels)"
   ]
  },
  {
   "cell_type": "code",
   "execution_count": 11,
   "id": "88d811d1",
   "metadata": {},
   "outputs": [
    {
     "name": "stdout",
     "output_type": "stream",
     "text": [
      "(442, 40, 40, 3)\n",
      "(442,)\n"
     ]
    }
   ],
   "source": [
    "print(X.shape)\n",
    "print(Y.shape)"
   ]
  },
  {
   "cell_type": "markdown",
   "id": "a1fc7c22",
   "metadata": {},
   "source": [
    "## We have 442 images each of size 40*40 and has 3 channels, RGB. Lets draw some pokemon"
   ]
  },
  {
   "cell_type": "code",
   "execution_count": 12,
   "id": "77e1f894",
   "metadata": {},
   "outputs": [],
   "source": [
    "# Draw image\n",
    "def draw_img(img,label):\n",
    "    plt.title(label2pokemon[label])\n",
    "    plt.style.use(\"seaborn\")\n",
    "    plt.axis(\"off\")\n",
    "    plt.imshow(img)\n",
    "    plt.show()"
   ]
  },
  {
   "cell_type": "code",
   "execution_count": 13,
   "id": "21f6e452",
   "metadata": {},
   "outputs": [
    {
     "data": {
      "image/png": "[encoded data removed]",
      "text/plain": [
       "<Figure size 432x288 with 1 Axes>"
      ]
     },
     "metadata": {
      "needs_background": "light"
     },
     "output_type": "display_data"
    }
   ],
   "source": [
    "draw_img(X[0]/255.0,Y[0]) # We can see "
   ]
  },
  {
   "cell_type": "code",
   "execution_count": 14,
   "id": "0f678ed0",
   "metadata": {},
   "outputs": [
    {
     "data": {
      "image/png": "[encoded data removed]",
      "text/plain": [
       "<Figure size 576x396 with 1 Axes>"
      ]
     },
     "metadata": {},
     "output_type": "display_data"
    },
    {
     "data": {
      "image/png": "[encoded data removed]",
      "text/plain": [
       "<Figure size 576x396 with 1 Axes>"
      ]
     },
     "metadata": {},
     "output_type": "display_data"
    },
    {
     "data": {
      "image/png": "[encoded data removed]",
      "text/plain": [
       "<Figure size 576x396 with 1 Axes>"
      ]
     },
     "metadata": {},
     "output_type": "display_data"
    },
    {
     "data": {
      "image/png": "[encoded data removed]",
      "text/plain": [
       "<Figure size 576x396 with 1 Axes>"
      ]
     },
     "metadata": {},
     "output_type": "display_data"
    },
    {
     "data": {
      "image/png": "[encoded data removed]",
      "text/plain": [
       "<Figure size 576x396 with 1 Axes>"
      ]
     },
     "metadata": {},
     "output_type": "display_data"
    },
    {
     "data": {
      "image/png": "[encoded data removed]",
      "text/plain": [
       "<Figure size 576x396 with 1 Axes>"
      ]
     },
     "metadata": {},
     "output_type": "display_data"
    },
    {
     "data": {
      "image/png": "[encoded data removed]",
      "text/plain": [
       "<Figure size 576x396 with 1 Axes>"
      ]
     },
     "metadata": {},
     "output_type": "display_data"
    },
    {
     "data": {
      "image/png": "[encoded data removed]",
      "text/plain": [
       "<Figure size 576x396 with 1 Axes>"
      ]
     },
     "metadata": {},
     "output_type": "display_data"
    },
    {
     "data": {
      "image/png": "[encoded data removed]",
      "text/plain": [
       "<Figure size 576x396 with 1 Axes>"
      ]
     },
     "metadata": {},
     "output_type": "display_data"
    },
    {
     "data": {
      "image/png": "[encoded data removed]",
      "text/plain": [
       "<Figure size 576x396 with 1 Axes>"
      ]
     },
     "metadata": {},
     "output_type": "display_data"
    }
   ],
   "source": [
    "# Drawing Random 10 pokemons\n",
    "for i in range(10):\n",
    "    rand_idx = np.random.randint(300)\n",
    "    draw_img(X[rand_idx]/255.0,Y[rand_idx])"
   ]
  },
  {
   "cell_type": "markdown",
   "id": "b5564216",
   "metadata": {},
   "source": [
    "# Sppliting the data for training and testing purpose"
   ]
  },
  {
   "cell_type": "code",
   "execution_count": 15,
   "id": "dd1a6f92",
   "metadata": {},
   "outputs": [],
   "source": [
    "split = int(X.shape[0]*.8)\n",
    "\n",
    "X_ = np.array(X)\n",
    "Y_ = np.array(Y)"
   ]
  },
  {
   "cell_type": "code",
   "execution_count": 16,
   "id": "cf6beac1",
   "metadata": {},
   "outputs": [],
   "source": [
    "# Training data\n",
    "X = X_[:split,:]\n",
    "Y = Y_[:split]"
   ]
  },
  {
   "cell_type": "code",
   "execution_count": 17,
   "id": "702e9e82",
   "metadata": {},
   "outputs": [],
   "source": [
    "# Testing data\n",
    "Xtest = X_[split:,:]\n",
    "Ytest = Y_[split:]"
   ]
  },
  {
   "cell_type": "code",
   "execution_count": 18,
   "id": "5954a1f3",
   "metadata": {},
   "outputs": [
    {
     "name": "stdout",
     "output_type": "stream",
     "text": [
      "(353, 40, 40, 3) (353,)\n",
      "(89, 40, 40, 3) (89,)\n"
     ]
    }
   ],
   "source": [
    "print(X.shape,Y.shape)\n",
    "print(Xtest.shape,Ytest.shape)"
   ]
  },
  {
   "cell_type": "code",
   "execution_count": 19,
   "id": "2ed34db4",
   "metadata": {},
   "outputs": [],
   "source": [
    "class NeuralNetwork():\n",
    "    def __init__(self,input_size,layers,output_size):\n",
    "        np.random.seed(0)\n",
    "        \n",
    "        model = {}\n",
    "        \n",
    "        # First Layer\n",
    "        model['W1'] = np.random.randn(input_size,layers[0]) #this would generate a normal distribution.\n",
    "        model['b1'] = np.zeros((1,layers[0]))\n",
    "        \n",
    "        #Second Layer\n",
    "        model['W2'] = np.random.randn(layers[0],layers[1]) \n",
    "        model['b2'] = np.zeros((1,layers[1]))\n",
    "        \n",
    "        #Third Layer/Output layer\n",
    "        model['W3'] = np.random.randn(layers[1],output_size) \n",
    "        model['b3'] = np.zeros((1,output_size))\n",
    "        \n",
    "        self.model=model\n",
    "        self.activation_output = None\n",
    "        \n",
    "        \n",
    "    # Defining forward propagation\n",
    "    def forward(self,x):\n",
    "        \n",
    "        W1,W2,W3 = self.model['W1'],self.model['W2'],self.model['W3']\n",
    "        b1,b2,b3 = self.model['b1'],self.model['b2'],self.model['b3']\n",
    "        \n",
    "        z1 = np.dot(x,W1)+b1\n",
    "        a1 = np.tanh(z1) # tanh is a function like sigmoid as it converts any input in range -1 to 1, sigmoid does in range 0 and 1\n",
    "        \n",
    "        z2 = np.dot(a1,W2)+b2\n",
    "        a2 = np.tanh(z2)\n",
    "        \n",
    "        z3 = np.dot(a2,W3)+b3\n",
    "        y_ = softmax(z3)\n",
    "        \n",
    "        self.activation_output = (a1,a2,y_)\n",
    "        return y_\n",
    "        \n",
    "        \n",
    "    # Defining Back propagation - one of the toughest topics to understand in deep learning\n",
    "    def backward(self,x,y,learning_rate=0.001):\n",
    "        W1,W2,W3 = self.model['W1'],self.model['W2'],self.model['W3']\n",
    "        b1,b2,b3 = self.model['b1'],self.model['b2'],self.model['b3']\n",
    "        m = x.shape[0]\n",
    "        \n",
    "        a1,a2,y_ = self.activation_output\n",
    "        \n",
    "        \n",
    "        delta3 = y_ - y\n",
    "        dw3 = np.dot(a2.T,delta3) # its derivative of W\n",
    "        db3 = np.sum(delta3,axis=0)/float(m)\n",
    "        \n",
    "        delta2 = (1-np.square(a2))*np.dot(delta3,W3.T)\n",
    "        dw2 = np.dot(a1.T,delta2)\n",
    "        db2 = np.sum(delta2,axis=0)/float(m)\n",
    "        \n",
    "        delta1 = (1-np.square(a1))*np.dot(delta2,W2.T)\n",
    "        dw1 = np.dot(X.T,delta1)\n",
    "        db1 = np.sum(delta1,axis=0)/float(m)\n",
    "        \n",
    "        # Update the model parameters using gradient descent\n",
    "        self.model[\"W1\"] -= learning_rate*dw1\n",
    "        self.model[\"b1\"] -= learning_rate*db1\n",
    "        self.model[\"W2\"] -= learning_rate*dw2\n",
    "        self.model[\"b2\"] -= learning_rate*db2\n",
    "        self.model[\"W3\"] -= learning_rate*dw3\n",
    "        self.model[\"b3\"] -= learning_rate*db3\n",
    "\n",
    "        \n",
    "    def predict(self,x):\n",
    "        y_out = self.forward(x)\n",
    "        return np.argmax(y_out,axis=1)\n",
    "    \n",
    "    def summary(self):\n",
    "        W1,W2,W3 = self.model['W1'],self.model['W2'],self.model['W3']\n",
    "        a1,a2,y_ = self.activation_output\n",
    "        \n",
    "        print(\"W1 \",W1.shape)\n",
    "        print(\"A1 \",a1.shape)\n",
    "        \n",
    "        print(\"W2 \",W2.shape)\n",
    "        print(\"A2 \",a2.shape)\n",
    "        \n",
    "        print(\"W3 \",W3.shape)\n",
    "        print(\"y_ \",y_.shape)\n",
    "        \n",
    "def softmax(a):\n",
    "    \"\"\"Softmax is a function that does e^a(i)/sum(e^a(i)) , suppose a=[1,2,3] then its softmax would be e^1/(e^1+e^2+e^3) , \n",
    "    e^2/(e^1+e^2+e^3), e^3/(e^1+e^2+e^3). Here we can see that the sum is going to be 1 for all the values that we have we have \n",
    "    calculated so far.\n",
    "    \"\"\"\n",
    "    e_pa = np.exp(a) # numpy does broadcasting for a vector so e_pa is a vector\n",
    "    ans = e_pa/np.sum(e_pa,axis=1,keepdims=True) # axis is 0 for colums which is by default and axis 1 is for rows. Keepdims explained below\n",
    "    return ans"
   ]
  },
  {
   "cell_type": "code",
   "execution_count": 20,
   "id": "99ffd29f",
   "metadata": {},
   "outputs": [],
   "source": [
    "def loss(y_out,p):\n",
    "    l = -np.mean(y_out*np.log(p))\n",
    "    return l\n",
    "\n",
    "def one_hot(y,depth):\n",
    "    \n",
    "    m = y.shape[0]\n",
    "    y_oht = np.zeros((m,depth))\n",
    "    y_oht[np.arange(m),y] = 1\n",
    "    return y_oht"
   ]
  },
  {
   "cell_type": "code",
   "execution_count": 21,
   "id": "daafd83d",
   "metadata": {},
   "outputs": [],
   "source": [
    "def train(X,Y,model,epochs,learning_rate,logs=True):   # Logs tell wheather to print epoch and loss or not\n",
    "    \n",
    "    training_loss = []\n",
    "    \n",
    "    classes = 3\n",
    "    Y_OHT = one_hot(Y,classes)\n",
    "    \n",
    "    for ix in range(epochs):\n",
    "        \n",
    "        Y_ = model.forward(X)\n",
    "        l = loss(Y_OHT,Y_)\n",
    "        training_loss.append(l)\n",
    "        model.backward(X,Y_OHT,learning_rate)\n",
    "        \n",
    "        if(logs):\n",
    "            print(\"Epoch %d Loss %.4f\"%(ix,l))\n",
    "            \n",
    "    return training_loss"
   ]
  },
  {
   "cell_type": "code",
   "execution_count": 22,
   "id": "b3016617",
   "metadata": {},
   "outputs": [],
   "source": [
    "model = NeuralNetwork(input_size=4800,layers=[100,50],output_size=3) # Each image has 40*40*3 features so 4800 is input size."
   ]
  },
  {
   "cell_type": "code",
   "execution_count": 23,
   "id": "b7572a9d",
   "metadata": {},
   "outputs": [
    {
     "name": "stdout",
     "output_type": "stream",
     "text": [
      "(353, 40, 40, 3)\n"
     ]
    }
   ],
   "source": [
    "print(X.shape)"
   ]
  },
  {
   "cell_type": "code",
   "execution_count": 24,
   "id": "f9225997",
   "metadata": {},
   "outputs": [
    {
     "name": "stdout",
     "output_type": "stream",
     "text": [
      "(353, 4800)\n",
      "(89, 4800)\n"
     ]
    }
   ],
   "source": [
    "X = X.reshape(X.shape[0],-1)\n",
    "print(X.shape)\n",
    "\n",
    "Xtest = Xtest.reshape(Xtest.shape[0],-1)\n",
    "print(Xtest.shape)"
   ]
  },
  {
   "cell_type": "code",
   "execution_count": 25,
   "id": "a07f2d38",
   "metadata": {},
   "outputs": [
    {
     "name": "stdout",
     "output_type": "stream",
     "text": [
      "Epoch 0 Loss 3.7260\n",
      "Epoch 1 Loss 1.8564\n",
      "Epoch 2 Loss 2.2376\n",
      "Epoch 3 Loss 1.4095\n",
      "Epoch 4 Loss 2.0170\n",
      "Epoch 5 Loss 2.0462\n",
      "Epoch 6 Loss 0.6253\n",
      "Epoch 7 Loss 0.9376\n",
      "Epoch 8 Loss 1.5878\n",
      "Epoch 9 Loss 1.2657\n",
      "Epoch 10 Loss 1.6426\n",
      "Epoch 11 Loss 1.2753\n",
      "Epoch 12 Loss 1.8670\n",
      "Epoch 13 Loss 1.0347\n",
      "Epoch 14 Loss 1.3279\n",
      "Epoch 15 Loss 1.1523\n",
      "Epoch 16 Loss 1.6465\n",
      "Epoch 17 Loss 0.9240\n",
      "Epoch 18 Loss 1.1303\n",
      "Epoch 19 Loss 0.8621\n",
      "Epoch 20 Loss 1.2875\n",
      "Epoch 21 Loss 0.7317\n",
      "Epoch 22 Loss 0.9091\n",
      "Epoch 23 Loss 0.7135\n",
      "Epoch 24 Loss 1.1581\n",
      "Epoch 25 Loss 0.4455\n",
      "Epoch 26 Loss 0.5340\n",
      "Epoch 27 Loss 0.3482\n",
      "Epoch 28 Loss 0.5775\n",
      "Epoch 29 Loss 0.6062\n",
      "Epoch 30 Loss 1.0361\n",
      "Epoch 31 Loss 0.4431\n",
      "Epoch 32 Loss 0.5295\n",
      "Epoch 33 Loss 0.5091\n",
      "Epoch 34 Loss 0.8053\n",
      "Epoch 35 Loss 0.3956\n",
      "Epoch 36 Loss 0.5145\n",
      "Epoch 37 Loss 0.5818\n",
      "Epoch 38 Loss 0.8433\n",
      "Epoch 39 Loss 0.3412\n",
      "Epoch 40 Loss 0.3936\n",
      "Epoch 41 Loss 0.4359\n",
      "Epoch 42 Loss 0.6225\n",
      "Epoch 43 Loss 0.3376\n",
      "Epoch 44 Loss 0.4837\n",
      "Epoch 45 Loss 0.3310\n",
      "Epoch 46 Loss 0.5463\n",
      "Epoch 47 Loss 0.2793\n",
      "Epoch 48 Loss 0.4293\n",
      "Epoch 49 Loss 0.3025\n",
      "Epoch 50 Loss 0.4792\n",
      "Epoch 51 Loss 0.2684\n",
      "Epoch 52 Loss 0.4239\n",
      "Epoch 53 Loss 0.2741\n",
      "Epoch 54 Loss 0.4777\n",
      "Epoch 55 Loss 0.2687\n",
      "Epoch 56 Loss 0.4218\n",
      "Epoch 57 Loss 0.3184\n",
      "Epoch 58 Loss 0.4856\n",
      "Epoch 59 Loss 0.4364\n",
      "Epoch 60 Loss 0.5752\n",
      "Epoch 61 Loss 0.5725\n",
      "Epoch 62 Loss 0.6844\n",
      "Epoch 63 Loss 0.5737\n",
      "Epoch 64 Loss 0.6127\n",
      "Epoch 65 Loss 0.4312\n",
      "Epoch 66 Loss 0.4514\n",
      "Epoch 67 Loss 0.2808\n",
      "Epoch 68 Loss 0.2774\n",
      "Epoch 69 Loss 0.1736\n",
      "Epoch 70 Loss 0.1859\n",
      "Epoch 71 Loss 0.1697\n",
      "Epoch 72 Loss 0.1950\n",
      "Epoch 73 Loss 0.1833\n",
      "Epoch 74 Loss 0.2109\n",
      "Epoch 75 Loss 0.1850\n",
      "Epoch 76 Loss 0.2223\n",
      "Epoch 77 Loss 0.1752\n",
      "Epoch 78 Loss 0.2183\n",
      "Epoch 79 Loss 0.1572\n",
      "Epoch 80 Loss 0.1927\n",
      "Epoch 81 Loss 0.1361\n",
      "Epoch 82 Loss 0.1569\n",
      "Epoch 83 Loss 0.1188\n",
      "Epoch 84 Loss 0.1273\n",
      "Epoch 85 Loss 0.1063\n",
      "Epoch 86 Loss 0.1099\n",
      "Epoch 87 Loss 0.0974\n",
      "Epoch 88 Loss 0.1006\n",
      "Epoch 89 Loss 0.0922\n",
      "Epoch 90 Loss 0.0961\n",
      "Epoch 91 Loss 0.0897\n",
      "Epoch 92 Loss 0.0941\n",
      "Epoch 93 Loss 0.0889\n",
      "Epoch 94 Loss 0.0937\n",
      "Epoch 95 Loss 0.0889\n",
      "Epoch 96 Loss 0.0936\n",
      "Epoch 97 Loss 0.0888\n",
      "Epoch 98 Loss 0.0927\n",
      "Epoch 99 Loss 0.0874\n",
      "Epoch 100 Loss 0.0899\n",
      "Epoch 101 Loss 0.0839\n",
      "Epoch 102 Loss 0.0843\n",
      "Epoch 103 Loss 0.0778\n",
      "Epoch 104 Loss 0.0760\n",
      "Epoch 105 Loss 0.0695\n",
      "Epoch 106 Loss 0.0664\n",
      "Epoch 107 Loss 0.0607\n",
      "Epoch 108 Loss 0.0575\n",
      "Epoch 109 Loss 0.0533\n",
      "Epoch 110 Loss 0.0508\n",
      "Epoch 111 Loss 0.0482\n",
      "Epoch 112 Loss 0.0465\n",
      "Epoch 113 Loss 0.0449\n",
      "Epoch 114 Loss 0.0439\n",
      "Epoch 115 Loss 0.0429\n",
      "Epoch 116 Loss 0.0421\n",
      "Epoch 117 Loss 0.0415\n",
      "Epoch 118 Loss 0.0409\n",
      "Epoch 119 Loss 0.0404\n",
      "Epoch 120 Loss 0.0400\n",
      "Epoch 121 Loss 0.0396\n",
      "Epoch 122 Loss 0.0392\n",
      "Epoch 123 Loss 0.0389\n",
      "Epoch 124 Loss 0.0386\n",
      "Epoch 125 Loss 0.0383\n",
      "Epoch 126 Loss 0.0380\n",
      "Epoch 127 Loss 0.0377\n",
      "Epoch 128 Loss 0.0374\n",
      "Epoch 129 Loss 0.0371\n",
      "Epoch 130 Loss 0.0369\n",
      "Epoch 131 Loss 0.0366\n",
      "Epoch 132 Loss 0.0364\n",
      "Epoch 133 Loss 0.0362\n",
      "Epoch 134 Loss 0.0359\n",
      "Epoch 135 Loss 0.0357\n",
      "Epoch 136 Loss 0.0355\n",
      "Epoch 137 Loss 0.0352\n",
      "Epoch 138 Loss 0.0350\n",
      "Epoch 139 Loss 0.0348\n",
      "Epoch 140 Loss 0.0346\n",
      "Epoch 141 Loss 0.0344\n",
      "Epoch 142 Loss 0.0342\n",
      "Epoch 143 Loss 0.0340\n",
      "Epoch 144 Loss 0.0338\n",
      "Epoch 145 Loss 0.0336\n",
      "Epoch 146 Loss 0.0334\n",
      "Epoch 147 Loss 0.0332\n",
      "Epoch 148 Loss 0.0331\n",
      "Epoch 149 Loss 0.0329\n",
      "Epoch 150 Loss 0.0327\n",
      "Epoch 151 Loss 0.0325\n",
      "Epoch 152 Loss 0.0323\n",
      "Epoch 153 Loss 0.0322\n",
      "Epoch 154 Loss 0.0320\n",
      "Epoch 155 Loss 0.0318\n",
      "Epoch 156 Loss 0.0317\n",
      "Epoch 157 Loss 0.0315\n",
      "Epoch 158 Loss 0.0313\n",
      "Epoch 159 Loss 0.0312\n",
      "Epoch 160 Loss 0.0310\n",
      "Epoch 161 Loss 0.0309\n",
      "Epoch 162 Loss 0.0307\n",
      "Epoch 163 Loss 0.0306\n",
      "Epoch 164 Loss 0.0304\n",
      "Epoch 165 Loss 0.0303\n",
      "Epoch 166 Loss 0.0301\n",
      "Epoch 167 Loss 0.0300\n",
      "Epoch 168 Loss 0.0298\n",
      "Epoch 169 Loss 0.0297\n",
      "Epoch 170 Loss 0.0295\n",
      "Epoch 171 Loss 0.0294\n",
      "Epoch 172 Loss 0.0292\n",
      "Epoch 173 Loss 0.0291\n",
      "Epoch 174 Loss 0.0290\n",
      "Epoch 175 Loss 0.0288\n",
      "Epoch 176 Loss 0.0287\n",
      "Epoch 177 Loss 0.0286\n",
      "Epoch 178 Loss 0.0284\n",
      "Epoch 179 Loss 0.0283\n",
      "Epoch 180 Loss 0.0282\n",
      "Epoch 181 Loss 0.0281\n",
      "Epoch 182 Loss 0.0279\n",
      "Epoch 183 Loss 0.0278\n",
      "Epoch 184 Loss 0.0277\n",
      "Epoch 185 Loss 0.0276\n",
      "Epoch 186 Loss 0.0274\n",
      "Epoch 187 Loss 0.0273\n",
      "Epoch 188 Loss 0.0272\n",
      "Epoch 189 Loss 0.0271\n",
      "Epoch 190 Loss 0.0270\n",
      "Epoch 191 Loss 0.0269\n",
      "Epoch 192 Loss 0.0267\n",
      "Epoch 193 Loss 0.0266\n",
      "Epoch 194 Loss 0.0265\n",
      "Epoch 195 Loss 0.0264\n",
      "Epoch 196 Loss 0.0263\n",
      "Epoch 197 Loss 0.0262\n",
      "Epoch 198 Loss 0.0261\n",
      "Epoch 199 Loss 0.0260\n",
      "Epoch 200 Loss 0.0258\n",
      "Epoch 201 Loss 0.0257\n",
      "Epoch 202 Loss 0.0256\n",
      "Epoch 203 Loss 0.0255\n",
      "Epoch 204 Loss 0.0254\n",
      "Epoch 205 Loss 0.0253\n",
      "Epoch 206 Loss 0.0252\n",
      "Epoch 207 Loss 0.0251\n",
      "Epoch 208 Loss 0.0250\n",
      "Epoch 209 Loss 0.0249\n",
      "Epoch 210 Loss 0.0248\n",
      "Epoch 211 Loss 0.0247\n",
      "Epoch 212 Loss 0.0246\n",
      "Epoch 213 Loss 0.0245\n",
      "Epoch 214 Loss 0.0244\n",
      "Epoch 215 Loss 0.0243\n",
      "Epoch 216 Loss 0.0242\n",
      "Epoch 217 Loss 0.0241\n",
      "Epoch 218 Loss 0.0240\n",
      "Epoch 219 Loss 0.0239\n",
      "Epoch 220 Loss 0.0238\n",
      "Epoch 221 Loss 0.0237\n",
      "Epoch 222 Loss 0.0236\n",
      "Epoch 223 Loss 0.0235\n",
      "Epoch 224 Loss 0.0234\n",
      "Epoch 225 Loss 0.0233\n",
      "Epoch 226 Loss 0.0232\n",
      "Epoch 227 Loss 0.0231\n",
      "Epoch 228 Loss 0.0230\n",
      "Epoch 229 Loss 0.0229\n",
      "Epoch 230 Loss 0.0228\n",
      "Epoch 231 Loss 0.0227\n",
      "Epoch 232 Loss 0.0226\n",
      "Epoch 233 Loss 0.0225\n",
      "Epoch 234 Loss 0.0224\n",
      "Epoch 235 Loss 0.0223\n",
      "Epoch 236 Loss 0.0222\n",
      "Epoch 237 Loss 0.0221\n",
      "Epoch 238 Loss 0.0221\n",
      "Epoch 239 Loss 0.0220\n",
      "Epoch 240 Loss 0.0219\n",
      "Epoch 241 Loss 0.0218\n",
      "Epoch 242 Loss 0.0217\n",
      "Epoch 243 Loss 0.0216\n",
      "Epoch 244 Loss 0.0215\n",
      "Epoch 245 Loss 0.0214\n",
      "Epoch 246 Loss 0.0213\n",
      "Epoch 247 Loss 0.0212\n",
      "Epoch 248 Loss 0.0211\n",
      "Epoch 249 Loss 0.0210\n",
      "Epoch 250 Loss 0.0209\n",
      "Epoch 251 Loss 0.0208\n",
      "Epoch 252 Loss 0.0207\n",
      "Epoch 253 Loss 0.0206\n",
      "Epoch 254 Loss 0.0206\n",
      "Epoch 255 Loss 0.0205\n",
      "Epoch 256 Loss 0.0204\n",
      "Epoch 257 Loss 0.0203\n",
      "Epoch 258 Loss 0.0202\n",
      "Epoch 259 Loss 0.0201\n",
      "Epoch 260 Loss 0.0200\n",
      "Epoch 261 Loss 0.0199\n",
      "Epoch 262 Loss 0.0198\n",
      "Epoch 263 Loss 0.0197\n",
      "Epoch 264 Loss 0.0196\n",
      "Epoch 265 Loss 0.0195\n",
      "Epoch 266 Loss 0.0195\n",
      "Epoch 267 Loss 0.0194\n",
      "Epoch 268 Loss 0.0193\n",
      "Epoch 269 Loss 0.0192\n",
      "Epoch 270 Loss 0.0191\n",
      "Epoch 271 Loss 0.0190\n",
      "Epoch 272 Loss 0.0189\n",
      "Epoch 273 Loss 0.0188\n",
      "Epoch 274 Loss 0.0187\n",
      "Epoch 275 Loss 0.0186\n",
      "Epoch 276 Loss 0.0185\n",
      "Epoch 277 Loss 0.0184\n",
      "Epoch 278 Loss 0.0184\n",
      "Epoch 279 Loss 0.0183\n",
      "Epoch 280 Loss 0.0182\n",
      "Epoch 281 Loss 0.0181\n",
      "Epoch 282 Loss 0.0180\n",
      "Epoch 283 Loss 0.0179\n",
      "Epoch 284 Loss 0.0178\n",
      "Epoch 285 Loss 0.0177\n",
      "Epoch 286 Loss 0.0176\n",
      "Epoch 287 Loss 0.0175\n",
      "Epoch 288 Loss 0.0175\n",
      "Epoch 289 Loss 0.0174\n",
      "Epoch 290 Loss 0.0173\n",
      "Epoch 291 Loss 0.0172\n",
      "Epoch 292 Loss 0.0171\n",
      "Epoch 293 Loss 0.0170\n",
      "Epoch 294 Loss 0.0170\n",
      "Epoch 295 Loss 0.0169\n",
      "Epoch 296 Loss 0.0168\n",
      "Epoch 297 Loss 0.0167\n",
      "Epoch 298 Loss 0.0166\n",
      "Epoch 299 Loss 0.0166\n",
      "Epoch 300 Loss 0.0165\n",
      "Epoch 301 Loss 0.0164\n",
      "Epoch 302 Loss 0.0163\n",
      "Epoch 303 Loss 0.0163\n",
      "Epoch 304 Loss 0.0162\n",
      "Epoch 305 Loss 0.0161\n",
      "Epoch 306 Loss 0.0161\n",
      "Epoch 307 Loss 0.0160\n",
      "Epoch 308 Loss 0.0159\n",
      "Epoch 309 Loss 0.0158\n",
      "Epoch 310 Loss 0.0158\n",
      "Epoch 311 Loss 0.0157\n",
      "Epoch 312 Loss 0.0156\n",
      "Epoch 313 Loss 0.0156\n",
      "Epoch 314 Loss 0.0155\n",
      "Epoch 315 Loss 0.0154\n",
      "Epoch 316 Loss 0.0154\n",
      "Epoch 317 Loss 0.0153\n",
      "Epoch 318 Loss 0.0152\n",
      "Epoch 319 Loss 0.0152\n",
      "Epoch 320 Loss 0.0151\n",
      "Epoch 321 Loss 0.0150\n",
      "Epoch 322 Loss 0.0150\n",
      "Epoch 323 Loss 0.0149\n",
      "Epoch 324 Loss 0.0148\n",
      "Epoch 325 Loss 0.0148\n",
      "Epoch 326 Loss 0.0147\n",
      "Epoch 327 Loss 0.0147\n",
      "Epoch 328 Loss 0.0146\n",
      "Epoch 329 Loss 0.0145\n",
      "Epoch 330 Loss 0.0145\n",
      "Epoch 331 Loss 0.0144\n",
      "Epoch 332 Loss 0.0143\n",
      "Epoch 333 Loss 0.0143\n",
      "Epoch 334 Loss 0.0142\n",
      "Epoch 335 Loss 0.0142\n",
      "Epoch 336 Loss 0.0141\n",
      "Epoch 337 Loss 0.0140\n",
      "Epoch 338 Loss 0.0140\n",
      "Epoch 339 Loss 0.0139\n",
      "Epoch 340 Loss 0.0139\n",
      "Epoch 341 Loss 0.0138\n",
      "Epoch 342 Loss 0.0137\n",
      "Epoch 343 Loss 0.0137\n",
      "Epoch 344 Loss 0.0136\n",
      "Epoch 345 Loss 0.0136\n",
      "Epoch 346 Loss 0.0135\n",
      "Epoch 347 Loss 0.0134\n",
      "Epoch 348 Loss 0.0134\n",
      "Epoch 349 Loss 0.0133\n",
      "Epoch 350 Loss 0.0133\n",
      "Epoch 351 Loss 0.0132\n",
      "Epoch 352 Loss 0.0131\n",
      "Epoch 353 Loss 0.0131\n",
      "Epoch 354 Loss 0.0130\n",
      "Epoch 355 Loss 0.0130\n",
      "Epoch 356 Loss 0.0129\n",
      "Epoch 357 Loss 0.0128\n",
      "Epoch 358 Loss 0.0128\n",
      "Epoch 359 Loss 0.0127\n",
      "Epoch 360 Loss 0.0127\n",
      "Epoch 361 Loss 0.0126\n",
      "Epoch 362 Loss 0.0125\n",
      "Epoch 363 Loss 0.0125\n",
      "Epoch 364 Loss 0.0124\n",
      "Epoch 365 Loss 0.0123\n",
      "Epoch 366 Loss 0.0123\n",
      "Epoch 367 Loss 0.0122\n",
      "Epoch 368 Loss 0.0121\n",
      "Epoch 369 Loss 0.0121\n",
      "Epoch 370 Loss 0.0120\n",
      "Epoch 371 Loss 0.0119\n",
      "Epoch 372 Loss 0.0119\n",
      "Epoch 373 Loss 0.0118\n",
      "Epoch 374 Loss 0.0118\n",
      "Epoch 375 Loss 0.0117\n",
      "Epoch 376 Loss 0.0116\n",
      "Epoch 377 Loss 0.0116\n"
     ]
    },
    {
     "name": "stdout",
     "output_type": "stream",
     "text": [
      "Epoch 378 Loss 0.0115\n",
      "Epoch 379 Loss 0.0114\n",
      "Epoch 380 Loss 0.0114\n",
      "Epoch 381 Loss 0.0113\n",
      "Epoch 382 Loss 0.0112\n",
      "Epoch 383 Loss 0.0112\n",
      "Epoch 384 Loss 0.0111\n",
      "Epoch 385 Loss 0.0111\n",
      "Epoch 386 Loss 0.0110\n",
      "Epoch 387 Loss 0.0109\n",
      "Epoch 388 Loss 0.0109\n",
      "Epoch 389 Loss 0.0108\n",
      "Epoch 390 Loss 0.0108\n",
      "Epoch 391 Loss 0.0107\n",
      "Epoch 392 Loss 0.0106\n",
      "Epoch 393 Loss 0.0106\n",
      "Epoch 394 Loss 0.0105\n",
      "Epoch 395 Loss 0.0105\n",
      "Epoch 396 Loss 0.0104\n",
      "Epoch 397 Loss 0.0104\n",
      "Epoch 398 Loss 0.0103\n",
      "Epoch 399 Loss 0.0103\n",
      "Epoch 400 Loss 0.0102\n",
      "Epoch 401 Loss 0.0101\n",
      "Epoch 402 Loss 0.0101\n",
      "Epoch 403 Loss 0.0100\n",
      "Epoch 404 Loss 0.0100\n",
      "Epoch 405 Loss 0.0099\n",
      "Epoch 406 Loss 0.0099\n",
      "Epoch 407 Loss 0.0098\n",
      "Epoch 408 Loss 0.0098\n",
      "Epoch 409 Loss 0.0098\n",
      "Epoch 410 Loss 0.0097\n",
      "Epoch 411 Loss 0.0097\n",
      "Epoch 412 Loss 0.0096\n",
      "Epoch 413 Loss 0.0096\n",
      "Epoch 414 Loss 0.0095\n",
      "Epoch 415 Loss 0.0095\n",
      "Epoch 416 Loss 0.0094\n",
      "Epoch 417 Loss 0.0094\n",
      "Epoch 418 Loss 0.0094\n",
      "Epoch 419 Loss 0.0093\n",
      "Epoch 420 Loss 0.0093\n",
      "Epoch 421 Loss 0.0092\n",
      "Epoch 422 Loss 0.0092\n",
      "Epoch 423 Loss 0.0091\n",
      "Epoch 424 Loss 0.0091\n",
      "Epoch 425 Loss 0.0091\n",
      "Epoch 426 Loss 0.0090\n",
      "Epoch 427 Loss 0.0090\n",
      "Epoch 428 Loss 0.0090\n",
      "Epoch 429 Loss 0.0089\n",
      "Epoch 430 Loss 0.0089\n",
      "Epoch 431 Loss 0.0088\n",
      "Epoch 432 Loss 0.0088\n",
      "Epoch 433 Loss 0.0088\n",
      "Epoch 434 Loss 0.0087\n",
      "Epoch 435 Loss 0.0087\n",
      "Epoch 436 Loss 0.0087\n",
      "Epoch 437 Loss 0.0086\n",
      "Epoch 438 Loss 0.0086\n",
      "Epoch 439 Loss 0.0086\n",
      "Epoch 440 Loss 0.0085\n",
      "Epoch 441 Loss 0.0085\n",
      "Epoch 442 Loss 0.0085\n",
      "Epoch 443 Loss 0.0084\n",
      "Epoch 444 Loss 0.0084\n",
      "Epoch 445 Loss 0.0084\n",
      "Epoch 446 Loss 0.0083\n",
      "Epoch 447 Loss 0.0083\n",
      "Epoch 448 Loss 0.0083\n",
      "Epoch 449 Loss 0.0082\n",
      "Epoch 450 Loss 0.0082\n",
      "Epoch 451 Loss 0.0082\n",
      "Epoch 452 Loss 0.0081\n",
      "Epoch 453 Loss 0.0081\n",
      "Epoch 454 Loss 0.0081\n",
      "Epoch 455 Loss 0.0081\n",
      "Epoch 456 Loss 0.0080\n",
      "Epoch 457 Loss 0.0080\n",
      "Epoch 458 Loss 0.0080\n",
      "Epoch 459 Loss 0.0079\n",
      "Epoch 460 Loss 0.0079\n",
      "Epoch 461 Loss 0.0079\n",
      "Epoch 462 Loss 0.0079\n",
      "Epoch 463 Loss 0.0078\n",
      "Epoch 464 Loss 0.0078\n",
      "Epoch 465 Loss 0.0078\n",
      "Epoch 466 Loss 0.0078\n",
      "Epoch 467 Loss 0.0077\n",
      "Epoch 468 Loss 0.0077\n",
      "Epoch 469 Loss 0.0077\n",
      "Epoch 470 Loss 0.0076\n",
      "Epoch 471 Loss 0.0076\n",
      "Epoch 472 Loss 0.0076\n",
      "Epoch 473 Loss 0.0076\n",
      "Epoch 474 Loss 0.0075\n",
      "Epoch 475 Loss 0.0075\n",
      "Epoch 476 Loss 0.0075\n",
      "Epoch 477 Loss 0.0075\n",
      "Epoch 478 Loss 0.0074\n",
      "Epoch 479 Loss 0.0074\n",
      "Epoch 480 Loss 0.0074\n",
      "Epoch 481 Loss 0.0074\n",
      "Epoch 482 Loss 0.0073\n",
      "Epoch 483 Loss 0.0073\n",
      "Epoch 484 Loss 0.0073\n",
      "Epoch 485 Loss 0.0073\n",
      "Epoch 486 Loss 0.0073\n",
      "Epoch 487 Loss 0.0072\n",
      "Epoch 488 Loss 0.0072\n",
      "Epoch 489 Loss 0.0072\n",
      "Epoch 490 Loss 0.0072\n",
      "Epoch 491 Loss 0.0071\n",
      "Epoch 492 Loss 0.0071\n",
      "Epoch 493 Loss 0.0071\n",
      "Epoch 494 Loss 0.0071\n",
      "Epoch 495 Loss 0.0071\n",
      "Epoch 496 Loss 0.0070\n",
      "Epoch 497 Loss 0.0070\n",
      "Epoch 498 Loss 0.0070\n",
      "Epoch 499 Loss 0.0070\n"
     ]
    }
   ],
   "source": [
    "l = train(X,Y,model,500,0.002) #training the data"
   ]
  },
  {
   "cell_type": "code",
   "execution_count": 26,
   "id": "e62a243d",
   "metadata": {},
   "outputs": [
    {
     "data": {
      "image/png": "[encoded data removed]",
      "text/plain": [
       "<Figure size 576x396 with 1 Axes>"
      ]
     },
     "metadata": {},
     "output_type": "display_data"
    }
   ],
   "source": [
    "from matplotlib import pyplot as plt\n",
    "plt.style.use(\"dark_background\")\n",
    "plt.title(\"Training Loss vs Epochs\")\n",
    "plt.plot(l)\n",
    "\n",
    "plt.show()"
   ]
  },
  {
   "cell_type": "code",
   "execution_count": 27,
   "id": "7776610e",
   "metadata": {},
   "outputs": [
    {
     "name": "stdout",
     "output_type": "stream",
     "text": [
      "Train Acc 1.0000\n",
      "Test Acc 0.5843\n"
     ]
    }
   ],
   "source": [
    "def getAccuracy(X,Y,model):\n",
    "    outputs = model.predict(X)\n",
    "    acc = np.sum(outputs==Y)/Y.shape[0]\n",
    "    return acc\n",
    "    \n",
    "print(\"Train Acc %.4f\"%getAccuracy(X,Y,model))\n",
    "print(\"Test Acc %.4f\"%getAccuracy(Xtest,Ytest,model))"
   ]
  },
  {
   "cell_type": "markdown",
   "id": "ab439df0",
   "metadata": {},
   "source": [
    "## Precision and Recall - https://en.wikipedia.org/wiki/Precision_and_recall"
   ]
  },
  {
   "cell_type": "markdown",
   "id": "cf5f79ac",
   "metadata": {},
   "source": [
    "# Drawing the confusion matrix"
   ]
  },
  {
   "cell_type": "code",
   "execution_count": 31,
   "id": "32f74c80",
   "metadata": {},
   "outputs": [],
   "source": [
    "from sklearn.metrics import confusion_matrix"
   ]
  },
  {
   "cell_type": "code",
   "execution_count": 33,
   "id": "8f9c5e75",
   "metadata": {},
   "outputs": [],
   "source": [
    "from visualize import plot_confusion_matrix"
   ]
  },
  {
   "cell_type": "code",
   "execution_count": 34,
   "id": "bd8fa369",
   "metadata": {},
   "outputs": [
    {
     "name": "stdout",
     "output_type": "stream",
     "text": [
      "[[110   0   0]\n",
      " [  0 173   0]\n",
      " [  0   0  70]]\n"
     ]
    }
   ],
   "source": [
    "output = model.predict(X)\n",
    "cnf_matrix = confusion_matrix(output,Y)\n",
    "print(cnf_matrix)"
   ]
  },
  {
   "cell_type": "markdown",
   "id": "c37edb70",
   "metadata": {},
   "source": [
    "### Visualizing the confusion matrix"
   ]
  },
  {
   "cell_type": "code",
   "execution_count": 35,
   "id": "52da63a6",
   "metadata": {},
   "outputs": [
    {
     "name": "stdout",
     "output_type": "stream",
     "text": [
      "Confusion matrix, without normalization\n",
      "[[110   0   0]\n",
      " [  0 173   0]\n",
      " [  0   0  70]]\n"
     ]
    },
    {
     "data": {
      "image/png": "[encoded data removed]",
      "text/plain": [
       "<Figure size 576x396 with 2 Axes>"
      ]
     },
     "metadata": {},
     "output_type": "display_data"
    }
   ],
   "source": [
    "plot_confusion_matrix(cnf_matrix,classes = [\"Pikachu\",\"Bulbasaur\",\"Meowth\"],title=\"Confusion Matrix\")"
   ]
  },
  {
   "cell_type": "markdown",
   "id": "fc8d6636",
   "metadata": {},
   "source": [
    "# Higher number denoted all true classsification,110 were predicted Pikachu, 123 predicted Bulbasaur,70 Meowth"
   ]
  },
  {
   "cell_type": "markdown",
   "id": "330524e4",
   "metadata": {},
   "source": [
    "# Seeing Classification Report using sklearn which gives more clarity about the data"
   ]
  },
  {
   "cell_type": "code",
   "execution_count": 36,
   "id": "2b57efba",
   "metadata": {},
   "outputs": [],
   "source": [
    "from sklearn.metrics import classification_report"
   ]
  },
  {
   "cell_type": "code",
   "execution_count": 37,
   "id": "eb2c8d60",
   "metadata": {},
   "outputs": [
    {
     "name": "stdout",
     "output_type": "stream",
     "text": [
      "              precision    recall  f1-score   support\n",
      "\n",
      "           0       1.00      1.00      1.00       110\n",
      "           1       1.00      1.00      1.00       173\n",
      "           2       1.00      1.00      1.00        70\n",
      "\n",
      "    accuracy                           1.00       353\n",
      "   macro avg       1.00      1.00      1.00       353\n",
      "weighted avg       1.00      1.00      1.00       353\n",
      "\n"
     ]
    }
   ],
   "source": [
    "print(classification_report(output,Y))"
   ]
  },
  {
   "cell_type": "markdown",
   "id": "f321f0db",
   "metadata": {},
   "source": [
    "# Precision, 40 pikachu are there and 30 predicted as pikachu then precision is 30/40 , recall is how many were corrected correctly, 40/30 , f1 score is the harmonic mean of precision and recall , support is sum along every row of the confusion matrix."
   ]
  },
  {
   "cell_type": "markdown",
   "id": "7d776ecc",
   "metadata": {},
   "source": [
    "# Now testing "
   ]
  },
  {
   "cell_type": "code",
   "execution_count": 38,
   "id": "4590ec0a",
   "metadata": {},
   "outputs": [],
   "source": [
    "test_outputs = model.predict(Xtest)"
   ]
  },
  {
   "cell_type": "code",
   "execution_count": 40,
   "id": "0c0bfbfa",
   "metadata": {},
   "outputs": [],
   "source": [
    "test_cnf_matrix = confusion_matrix(test_outputs,Ytest)"
   ]
  },
  {
   "cell_type": "code",
   "execution_count": 41,
   "id": "87bba072",
   "metadata": {},
   "outputs": [
    {
     "name": "stdout",
     "output_type": "stream",
     "text": [
      "Confusion matrix, without normalization\n",
      "[[52  0  0]\n",
      " [25  0  0]\n",
      " [12  0  0]]\n"
     ]
    },
    {
     "data": {
      "image/png": "[encoded data removed]",
      "text/plain": [
       "<Figure size 576x396 with 2 Axes>"
      ]
     },
     "metadata": {},
     "output_type": "display_data"
    }
   ],
   "source": [
    "plot_confusion_matrix(test_cnf_matrix,classes = [\"Pikachu\",\"Bulbasaur\",\"Meowth\"],title=\"Confusion Matrix for test\")"
   ]
  },
  {
   "cell_type": "markdown",
   "id": "5c3d7ffa",
   "metadata": {},
   "source": [
    "## Here we can see that all the tests are classified as pikachu which is wrong, leta see the classification report"
   ]
  },
  {
   "cell_type": "code",
   "execution_count": 42,
   "id": "be493c62",
   "metadata": {},
   "outputs": [
    {
     "name": "stdout",
     "output_type": "stream",
     "text": [
      "              precision    recall  f1-score   support\n",
      "\n",
      "           0       0.58      1.00      0.74        52\n",
      "           1       0.00      0.00      0.00        25\n",
      "           2       0.00      0.00      0.00        12\n",
      "\n",
      "    accuracy                           0.58        89\n",
      "   macro avg       0.19      0.33      0.25        89\n",
      "weighted avg       0.34      0.58      0.43        89\n",
      "\n"
     ]
    },
    {
     "name": "stderr",
     "output_type": "stream",
     "text": [
      "c:\\users\\aanan\\appdata\\local\\programs\\python\\python39\\lib\\site-packages\\sklearn\\metrics\\_classification.py:1245: UndefinedMetricWarning: Precision and F-score are ill-defined and being set to 0.0 in labels with no predicted samples. Use `zero_division` parameter to control this behavior.\n",
      "  _warn_prf(average, modifier, msg_start, len(result))\n",
      "c:\\users\\aanan\\appdata\\local\\programs\\python\\python39\\lib\\site-packages\\sklearn\\metrics\\_classification.py:1245: UndefinedMetricWarning: Precision and F-score are ill-defined and being set to 0.0 in labels with no predicted samples. Use `zero_division` parameter to control this behavior.\n",
      "  _warn_prf(average, modifier, msg_start, len(result))\n",
      "c:\\users\\aanan\\appdata\\local\\programs\\python\\python39\\lib\\site-packages\\sklearn\\metrics\\_classification.py:1245: UndefinedMetricWarning: Precision and F-score are ill-defined and being set to 0.0 in labels with no predicted samples. Use `zero_division` parameter to control this behavior.\n",
      "  _warn_prf(average, modifier, msg_start, len(result))\n"
     ]
    }
   ],
   "source": [
    "print(classification_report(test_outputs,Ytest))"
   ]
  },
  {
   "cell_type": "code",
   "execution_count": null,
   "id": "ddbdf48c",
   "metadata": {},
   "outputs": [],
   "source": []
  }
 ],
 "metadata": {
  "kernelspec": {
   "display_name": "Python 3",
   "language": "python",
   "name": "python3"
  },
  "language_info": {
   "codemirror_mode": {
    "name": "ipython",
    "version": 3
   },
   "file_extension": ".py",
   "mimetype": "text/x-python",
   "name": "python",
   "nbconvert_exporter": "python",
   "pygments_lexer": "ipython3",
   "version": "3.9.4"
  }
 },
 "nbformat": 4,
 "nbformat_minor": 5
}
