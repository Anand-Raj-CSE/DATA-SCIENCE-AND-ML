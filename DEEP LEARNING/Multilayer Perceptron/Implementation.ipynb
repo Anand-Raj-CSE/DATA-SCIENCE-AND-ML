{
 "cells": [
  {
   "cell_type": "code",
   "execution_count": 3,
   "id": "577c954f",
   "metadata": {},
   "outputs": [],
   "source": [
    "import numpy as np"
   ]
  },
  {
   "cell_type": "code",
   "execution_count": 6,
   "id": "e0705b23",
   "metadata": {},
   "outputs": [],
   "source": [
    "input_size = 3 # number of features\n",
    "layers = [4,3] # NUmber of neurons in the first and the second layer\n",
    "output_size = 2"
   ]
  },
  {
   "cell_type": "markdown",
   "id": "e36d6199",
   "metadata": {},
   "source": [
    "# Defining a Neural Network "
   ]
  },
  {
   "cell_type": "code",
   "execution_count": 7,
   "id": "e43eb3f1",
   "metadata": {},
   "outputs": [],
   "source": [
    "class NeuralNetwork():\n",
    "    def __init__(self,input_size,output_size):\n",
    "        np.random.seed(0)\n",
    "        \n",
    "        model = {}\n",
    "        \n",
    "        # First Layer\n",
    "        model['w1'] = np.random.randn(input_size,layers[0]) #this would generate a normal distribution.\n",
    "        model['b1'] = np.zeros((1,layers[0]))\n",
    "        \n",
    "        #Second Layer\n",
    "        model['w2'] = np.random.randn(layers[0],layers[1]) \n",
    "        model['b2'] = np.zeros((1,layers[1]))\n",
    "        \n",
    "        #Third Layer/Output layer\n",
    "        model['w3'] = np.random.randn(layers[1],output_size) \n",
    "        model['b3'] = np.zeros((1,output_size))\n",
    "        \n",
    "        self.model=model"
   ]
  },
  {
   "cell_type": "code",
   "execution_count": 5,
   "id": "dd3b154a",
   "metadata": {},
   "outputs": [
    {
     "name": "stdout",
     "output_type": "stream",
     "text": [
      "[[-1.03967795 -1.91355689 -1.53130232  2.39379032]\n",
      " [-0.39146009 -1.24709518  0.08158007 -0.73397479]]\n"
     ]
    }
   ],
   "source": [
    "weg = np.random.randn(input_size,layers[0])\n",
    "print(weg)"
   ]
  },
  {
   "cell_type": "code",
   "execution_count": null,
   "id": "826e3550",
   "metadata": {},
   "outputs": [],
   "source": []
  }
 ],
 "metadata": {
  "kernelspec": {
   "display_name": "Python 3",
   "language": "python",
   "name": "python3"
  },
  "language_info": {
   "codemirror_mode": {
    "name": "ipython",
    "version": 3
   },
   "file_extension": ".py",
   "mimetype": "text/x-python",
   "name": "python",
   "nbconvert_exporter": "python",
   "pygments_lexer": "ipython3",
   "version": "3.9.4"
  }
 },
 "nbformat": 4,
 "nbformat_minor": 5
}
