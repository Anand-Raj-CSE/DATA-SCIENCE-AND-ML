{
 "cells": [
  {
   "cell_type": "markdown",
   "metadata": {},
   "source": [
    "# Data is stored in form of scalar(single value) , vector(a row or column 1d array) , matrix and tensors . Link for documentation : https://numpy.org/doc/stable/reference/routines.linalg.html"
   ]
  },
  {
   "cell_type": "code",
   "execution_count": 1,
   "metadata": {},
   "outputs": [],
   "source": [
    "import numpy as np\n",
    "import matplotlib.pyplot as plt"
   ]
  },
  {
   "cell_type": "code",
   "execution_count": 2,
   "metadata": {},
   "outputs": [
    {
     "name": "stdout",
     "output_type": "stream",
     "text": [
      "[4 5 6]\n",
      "Creating a column vector\n",
      "[[4]\n",
      " [5]\n",
      " [6]]\n",
      "\n",
      "(3, 1)\n"
     ]
    }
   ],
   "source": [
    "# scalar\n",
    "x=5\n",
    "\n",
    "# Creating Vectors\n",
    "x = np.array([4,5,6])\n",
    "print(x) # This creates a row vector\n",
    "print(\"Creating a column vector\")\n",
    "x=np.array([[4],[5],[6]])\n",
    "print(x)\n",
    "print()\n",
    "print(x.shape)"
   ]
  },
  {
   "cell_type": "markdown",
   "metadata": {},
   "source": [
    "# Tensor is an array with more tan 2 axes . A colored image is a collection of RGB , suppose white has (255,255,255) , red has (255,0,0)- as it has no green oe blue component , black(0,0,0) , so image is a tensor."
   ]
  },
  {
   "cell_type": "code",
   "execution_count": 3,
   "metadata": {},
   "outputs": [
    {
     "name": "stdout",
     "output_type": "stream",
     "text": [
      "Creating a matrix\n",
      "[[ 4  5  6 10]\n",
      " [ 1 23 15 45]\n",
      " [58  4  5 58]]\n",
      "\n",
      "(3, 4)\n"
     ]
    }
   ],
   "source": [
    "print(\"Creating a matrix\")\n",
    "X = np.array([[4,5,6,10],\n",
    "              [1,23,15,45],\n",
    "              [58,4,5,58]])\n",
    "print(X)\n",
    "print()\n",
    "print(X.shape)"
   ]
  },
  {
   "cell_type": "code",
   "execution_count": 4,
   "metadata": {},
   "outputs": [
    {
     "name": "stdout",
     "output_type": "stream",
     "text": [
      "Chnaging the shape of the X\n",
      "[[ 4  5  6 10  1 23]\n",
      " [15 45 58  4  5 58]]\n",
      "\n",
      "[[ 4  5  6]\n",
      " [10  1 23]\n",
      " [15 45 58]\n",
      " [ 4  5 58]]\n",
      "\n",
      "[[ 4]\n",
      " [ 5]\n",
      " [ 6]\n",
      " [10]\n",
      " [ 1]\n",
      " [23]\n",
      " [15]\n",
      " [45]\n",
      " [58]\n",
      " [ 4]\n",
      " [ 5]\n",
      " [58]]\n"
     ]
    }
   ],
   "source": [
    "print(\"Chnaging the shape of the X\")\n",
    "X = X.reshape((2,6)) # 4*3 = 2*6\n",
    "print(X)\n",
    "\n",
    "# suppose we want 2 rows but we donot know how much columns we want , then we can give -1 . WE can use -1 in row also\n",
    "print()\n",
    "X = X.reshape((4,-1))\n",
    "print(X)\n",
    "\n",
    "print()\n",
    "X=X.reshape((-1,1)) # Making a column vector\n",
    "print(X)"
   ]
  },
  {
   "cell_type": "markdown",
   "metadata": {},
   "source": [
    "# Working with Tensors"
   ]
  },
  {
   "cell_type": "code",
   "execution_count": 5,
   "metadata": {},
   "outputs": [
    {
     "data": {
      "image/png": "[encoded data removed]",
      "text/plain": [
       "<Figure size 432x288 with 1 Axes>"
      ]
     },
     "metadata": {
      "needs_background": "light"
     },
     "output_type": "display_data"
    }
   ],
   "source": [
    "T = np.ones((5,5,3),dtype = 'uint8') # 5*5*3 , 5 rows , 5 columns and 3 channels.\n",
    "#print(T)\n",
    "T[1:-1, :-1 ,0] = 255 # 0 is red , 1 is green , 2 is blue , doing a slicing operation over here\n",
    "plt.imshow(T)\n",
    "plt.show()"
   ]
  },
  {
   "cell_type": "markdown",
   "metadata": {},
   "source": [
    "# Doing Transpose of a matrix"
   ]
  },
  {
   "cell_type": "code",
   "execution_count": 6,
   "metadata": {},
   "outputs": [
    {
     "name": "stdout",
     "output_type": "stream",
     "text": [
      "[[ 4]\n",
      " [ 5]\n",
      " [ 6]\n",
      " [10]\n",
      " [ 1]\n",
      " [23]\n",
      " [15]\n",
      " [45]\n",
      " [58]\n",
      " [ 4]\n",
      " [ 5]\n",
      " [58]]\n",
      "\n",
      "[[ 4  5  6 10  1 23 15 45 58  4  5 58]]\n",
      "5\n"
     ]
    }
   ],
   "source": [
    "print(X)\n",
    "print()\n",
    "X = X.T\n",
    "print(X)\n",
    "print(X[0][1])"
   ]
  },
  {
   "cell_type": "code",
   "execution_count": 7,
   "metadata": {},
   "outputs": [
    {
     "name": "stdout",
     "output_type": "stream",
     "text": [
      "[[ 4  5  6 10]\n",
      " [ 1 23 15 45]\n",
      " [58  4  5 58]]\n",
      "[[ 4  1 58]\n",
      " [ 5 23  4]\n",
      " [ 6 15  5]\n",
      " [10 45 58]]\n"
     ]
    }
   ],
   "source": [
    "X=X.reshape((3,4))\n",
    "print(X)\n",
    "print(X.T)"
   ]
  },
  {
   "cell_type": "code",
   "execution_count": 8,
   "metadata": {},
   "outputs": [
    {
     "data": {
      "text/plain": [
       "<matplotlib.image.AxesImage at 0x248b023a100>"
      ]
     },
     "execution_count": 8,
     "metadata": {},
     "output_type": "execute_result"
    },
    {
     "data": {
      "image/png": "[encoded data removed]",
      "text/plain": [
       "<Figure size 432x288 with 1 Axes>"
      ]
     },
     "metadata": {
      "needs_background": "light"
     },
     "output_type": "display_data"
    }
   ],
   "source": [
    "# Transpose of Tensor , numpy provides transpose , it \n",
    "T = np.zeros((50,25,3) , dtype = 'uint8')\n",
    "T[ : , : ,2]=255\n",
    "plt.imshow(T)"
   ]
  },
  {
   "cell_type": "code",
   "execution_count": 9,
   "metadata": {},
   "outputs": [
    {
     "name": "stdout",
     "output_type": "stream",
     "text": [
      "(3, 25, 50)\n",
      "(50, 3, 25)\n"
     ]
    }
   ],
   "source": [
    "# Now taking transpose of the tensor T\n",
    "T1 = np.transpose(T)\n",
    "print(T1.shape) # order of axes is reversed by default \n",
    "# but now I want 50,3,25 , then we will permute the axes\n",
    "T1 = np.transpose(T,axes = (0,2,1))\n",
    "print(T1.shape)"
   ]
  },
  {
   "cell_type": "markdown",
   "metadata": {},
   "source": [
    "# Broadcasting - Adding a scalar to a vector , similarly we can add a vector to a matrix , and numpy will add the vector to each column of the matrix . This will not work with lists , its a feature of numpy"
   ]
  },
  {
   "cell_type": "code",
   "execution_count": 10,
   "metadata": {},
   "outputs": [
    {
     "name": "stdout",
     "output_type": "stream",
     "text": [
      "[5 6 7 8]\n"
     ]
    }
   ],
   "source": [
    "x = np.array([1,2,3,4])\n",
    "print(x+4) # "
   ]
  },
  {
   "cell_type": "code",
   "execution_count": 13,
   "metadata": {},
   "outputs": [
    {
     "name": "stdout",
     "output_type": "stream",
     "text": [
      "[[ 20  40  60  80]\n",
      " [180 220 240 300]]\n",
      "[[ 14  24  34  44]\n",
      " [ 94 114 124 154]]\n"
     ]
    }
   ],
   "source": [
    "X = np.array([[10,20,30,40],\n",
    "              [90,110,120,150]])\n",
    "print(X+X)\n",
    "print(X+4)"
   ]
  },
  {
   "cell_type": "markdown",
   "metadata": {},
   "source": [
    "# Element Wise Multiplication - Hadamard Product , a[i][j] * b[i][j]"
   ]
  },
  {
   "cell_type": "code",
   "execution_count": 14,
   "metadata": {},
   "outputs": [
    {
     "name": "stdout",
     "output_type": "stream",
     "text": [
      "[[0 4]\n",
      " [9 8]]\n"
     ]
    }
   ],
   "source": [
    "A = np.array([[1,2],\n",
    "            [3,4]])\n",
    "\n",
    "B = np.array([[0,2],\n",
    "            [3,2]])\n",
    "print(A*B)"
   ]
  },
  {
   "cell_type": "markdown",
   "metadata": {},
   "source": [
    "# Matrix Multiplication - A(m,n) * B(n,p) = C(m,p) , For better visualization visit : https://www.youtube.com/watch?v=XkY2DOUCWMU"
   ]
  },
  {
   "cell_type": "code",
   "execution_count": 15,
   "metadata": {},
   "outputs": [
    {
     "name": "stdout",
     "output_type": "stream",
     "text": [
      "[[ 6  6]\n",
      " [12 14]]\n"
     ]
    }
   ],
   "source": [
    "A = np.array([[1,2],\n",
    "            [3,4]])\n",
    "\n",
    "B = np.array([[0,2],\n",
    "            [3,2]])\n",
    "print(np.dot(A,B))"
   ]
  },
  {
   "attachments": {
    "image.png": {
     "image/png": "[encoded data removed]"
    }
   },
   "cell_type": "markdown",
   "metadata": {},
   "source": [
    "# NORM of a vector is , p>=1 , P2 norm is called as Euclididan Norm,||x||,x norm\n",
    "![image.png](attachment:image.png)\n",
    "# ||X|| = Xtranspose * X\n",
    "# Max-norm will give the maximum element"
   ]
  },
  {
   "cell_type": "code",
   "execution_count": 18,
   "metadata": {},
   "outputs": [
    {
     "name": "stdout",
     "output_type": "stream",
     "text": [
      "5.0\n",
      "7.0\n",
      "4.0\n"
     ]
    }
   ],
   "source": [
    "x = np.array([3,4])\n",
    "l2 = np.linalg.norm(x)\n",
    "print(l2)\n",
    "\n",
    "l1 = np.linalg.norm(x,ord=1) # ord is the parameter which shows that we are calcul;ating 1st norm so its 1/p power.\n",
    "print(l1)\n",
    "\n",
    "linf = np.linalg.norm(x,ord = np.inf) # infifnty norm , largest value\n",
    "print(linf)"
   ]
  },
  {
   "cell_type": "markdown",
   "metadata": {},
   "source": [
    "# Calculation of determinant is also possible in case of a matrix"
   ]
  },
  {
   "cell_type": "code",
   "execution_count": 21,
   "metadata": {},
   "outputs": [
    {
     "name": "stdout",
     "output_type": "stream",
     "text": [
      "-2.9999999999999996\n"
     ]
    }
   ],
   "source": [
    "A = np.array([[1,2,3],\n",
    "             [4,5,6],\n",
    "             [7,8,10]])\n",
    "\n",
    "print(np.linalg.det(A))"
   ]
  },
  {
   "cell_type": "markdown",
   "metadata": {},
   "source": [
    "# Calculating inverse of matrix"
   ]
  },
  {
   "cell_type": "code",
   "execution_count": 25,
   "metadata": {},
   "outputs": [
    {
     "name": "stdout",
     "output_type": "stream",
     "text": [
      "[[1.00000000e+00 0.00000000e+00 1.11022302e-16]\n",
      " [0.00000000e+00 1.00000000e+00 2.22044605e-16]\n",
      " [8.88178420e-16 0.00000000e+00 1.00000000e+00]]\n"
     ]
    }
   ],
   "source": [
    "Ainv = np.linalg.inv(A)\n",
    "print(np.dot(A,Ainv)) # A*Ainv = identity matrix"
   ]
  },
  {
   "cell_type": "markdown",
   "metadata": {},
   "source": [
    "# Pseudo Inverse - works also with matrices having 0 determinant value , so in general practice we should it always."
   ]
  },
  {
   "cell_type": "code",
   "execution_count": 27,
   "metadata": {},
   "outputs": [
    {
     "name": "stdout",
     "output_type": "stream",
     "text": [
      "[[-0.66666667 -1.33333333  1.        ]\n",
      " [-0.66666667  3.66666667 -2.        ]\n",
      " [ 1.         -2.          1.        ]]\n",
      "[[ 1.00000000e+00 -2.75335310e-14  1.64313008e-14]\n",
      " [ 8.88178420e-16  1.00000000e+00  7.10542736e-15]\n",
      " [ 0.00000000e+00 -8.88178420e-15  1.00000000e+00]]\n"
     ]
    }
   ],
   "source": [
    "pinv = np.linalg.pinv(A)\n",
    "print(pinv)\n",
    "print(np.dot(A,pinv))"
   ]
  },
  {
   "cell_type": "markdown",
   "metadata": {},
   "source": [
    "# Solving system of Equations - Suppose wew have 2 equations as 2x+3y=8 and 3x+y=5"
   ]
  },
  {
   "cell_type": "code",
   "execution_count": 30,
   "metadata": {},
   "outputs": [
    {
     "name": "stdout",
     "output_type": "stream",
     "text": [
      "[1. 2.]\n"
     ]
    }
   ],
   "source": [
    "a = np.array([[2,3],[3,1]])\n",
    "b = np.array([8,5])\n",
    "\n",
    "print(np.linalg.solve(a,b)) # x=1,y=2"
   ]
  },
  {
   "cell_type": "code",
   "execution_count": null,
   "metadata": {},
   "outputs": [],
   "source": []
  }
 ],
 "metadata": {
  "kernelspec": {
   "display_name": "Python 3",
   "language": "python",
   "name": "python3"
  },
  "language_info": {
   "codemirror_mode": {
    "name": "ipython",
    "version": 3
   },
   "file_extension": ".py",
   "mimetype": "text/x-python",
   "name": "python",
   "nbconvert_exporter": "python",
   "pygments_lexer": "ipython3",
   "version": "3.8.2"
  }
 },
 "nbformat": 4,
 "nbformat_minor": 4
}
