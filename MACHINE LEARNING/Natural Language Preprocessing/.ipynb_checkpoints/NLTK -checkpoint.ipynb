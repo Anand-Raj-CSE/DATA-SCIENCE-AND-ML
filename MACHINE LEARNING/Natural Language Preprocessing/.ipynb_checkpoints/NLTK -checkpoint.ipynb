{
 "cells": [
  {
   "cell_type": "markdown",
   "id": "dc57acc1",
   "metadata": {},
   "source": [
    "# Installed Natural Language Preprocessing Toolkit using pip install nltk , using nltk.download() downloaded data."
   ]
  },
  {
   "cell_type": "code",
   "execution_count": 1,
   "id": "d4aadd2b",
   "metadata": {},
   "outputs": [],
   "source": [
    "from nltk.corpus import brown"
   ]
  },
  {
   "cell_type": "code",
   "execution_count": 2,
   "id": "05924e0d",
   "metadata": {},
   "outputs": [
    {
     "name": "stdout",
     "output_type": "stream",
     "text": [
      "['The', 'Fulton', 'County', 'Grand', 'Jury', 'said', ...]\n"
     ]
    }
   ],
   "source": [
    "print(brown.words())"
   ]
  },
  {
   "cell_type": "code",
   "execution_count": 3,
   "id": "8f032b67",
   "metadata": {},
   "outputs": [
    {
     "name": "stdout",
     "output_type": "stream",
     "text": [
      "['adventure', 'belles_lettres', 'editorial', 'fiction', 'government', 'hobbies', 'humor', 'learned', 'lore', 'mystery', 'news', 'religion', 'reviews', 'romance', 'science_fiction']\n"
     ]
    }
   ],
   "source": [
    "print(brown.categories())"
   ]
  },
  {
   "cell_type": "code",
   "execution_count": 4,
   "id": "e2ceebb5",
   "metadata": {},
   "outputs": [
    {
     "name": "stdout",
     "output_type": "stream",
     "text": [
      "15\n"
     ]
    }
   ],
   "source": [
    "print(len(brown.categories()))"
   ]
  },
  {
   "cell_type": "markdown",
   "id": "7eb5138b",
   "metadata": {},
   "source": [
    "### To get the sentences from the advwnture category we have sents function"
   ]
  },
  {
   "cell_type": "code",
   "execution_count": 5,
   "id": "42f2d2c0",
   "metadata": {},
   "outputs": [],
   "source": [
    "data = brown.sents(categories='adventure')"
   ]
  },
  {
   "cell_type": "code",
   "execution_count": 7,
   "id": "2df6625b",
   "metadata": {},
   "outputs": [
    {
     "data": {
      "text/plain": [
       "[['Dan', 'Morgan', 'told', 'himself', 'he', 'would', 'forget', 'Ann', 'Turner', '.'], ['He', 'was', 'well', 'rid', 'of', 'her', '.'], ...]"
      ]
     },
     "execution_count": 7,
     "metadata": {},
     "output_type": "execute_result"
    }
   ],
   "source": [
    "data # its a list of list as each sentence is a list of words."
   ]
  },
  {
   "cell_type": "code",
   "execution_count": 8,
   "id": "6a1c1803",
   "metadata": {},
   "outputs": [
    {
     "data": {
      "text/plain": [
       "4637"
      ]
     },
     "execution_count": 8,
     "metadata": {},
     "output_type": "execute_result"
    }
   ],
   "source": [
    "len(data)"
   ]
  },
  {
   "cell_type": "code",
   "execution_count": 10,
   "id": "899539ea",
   "metadata": {},
   "outputs": [
    {
     "data": {
      "text/plain": [
       "'He was well rid of her .'"
      ]
     },
     "execution_count": 10,
     "metadata": {},
     "output_type": "execute_result"
    }
   ],
   "source": [
    "' '.join(data[1]) #1st sentence in the fiction category."
   ]
  },
  {
   "cell_type": "markdown",
   "id": "e41c6ad2",
   "metadata": {},
   "source": [
    "# Bag of Words Pipeline"
   ]
  },
  {
   "cell_type": "code",
   "execution_count": 17,
   "id": "f2ad46c6",
   "metadata": {},
   "outputs": [],
   "source": [
    "document = \"\"\"It was a very pleasant day. The weather was cool and there were light showers. \n",
    "I went to the market to buy some fruits.\"\"\"\n",
    "# document is a multiline string\n",
    "\n",
    "sentence = \"Send all the 50 documents related to chapters 1,2,3 at prateek@cb.com\""
   ]
  },
  {
   "cell_type": "code",
   "execution_count": 15,
   "id": "90ed75c8",
   "metadata": {},
   "outputs": [],
   "source": [
    "from nltk.tokenize import sent_tokenize,word_tokenize"
   ]
  },
  {
   "cell_type": "code",
   "execution_count": 19,
   "id": "aa3bdeba",
   "metadata": {},
   "outputs": [
    {
     "name": "stdout",
     "output_type": "stream",
     "text": [
      "['It was a very pleasant day.', 'The weather was cool and there were light showers.', 'I went to the market to buy some fruits.']\n",
      "3\n"
     ]
    }
   ],
   "source": [
    "sensts = sent_tokenize(document)\n",
    "print(sensts)\n",
    "print(len(sensts))"
   ]
  },
  {
   "cell_type": "code",
   "execution_count": 20,
   "id": "c25694f4",
   "metadata": {},
   "outputs": [
    {
     "data": {
      "text/plain": [
       "['Send',\n",
       " 'all',\n",
       " 'the',\n",
       " '50',\n",
       " 'documents',\n",
       " 'related',\n",
       " 'to',\n",
       " 'chapters',\n",
       " '1,2,3',\n",
       " 'at',\n",
       " 'prateek@cb.com']"
      ]
     },
     "execution_count": 20,
     "metadata": {},
     "output_type": "execute_result"
    }
   ],
   "source": [
    "sentence.split()"
   ]
  },
  {
   "cell_type": "code",
   "execution_count": 21,
   "id": "5cc1dad3",
   "metadata": {},
   "outputs": [],
   "source": [
    "words = word_tokenize(sentence)"
   ]
  },
  {
   "cell_type": "code",
   "execution_count": 22,
   "id": "9c1fd5fe",
   "metadata": {},
   "outputs": [
    {
     "name": "stdout",
     "output_type": "stream",
     "text": [
      "['Send', 'all', 'the', '50', 'documents', 'related', 'to', 'chapters', '1,2,3', 'at', 'prateek', '@', 'cb.com']\n"
     ]
    }
   ],
   "source": [
    "print(words)"
   ]
  },
  {
   "cell_type": "markdown",
   "id": "ec1b3176",
   "metadata": {},
   "source": [
    "### In split function , it splits the sentence according to sentences , but word tokenizer splits email among name,  @, domain"
   ]
  },
  {
   "cell_type": "markdown",
   "id": "d412a95a",
   "metadata": {},
   "source": [
    "## Stopword Removal using nltk"
   ]
  },
  {
   "cell_type": "code",
   "execution_count": 23,
   "id": "b87e512a",
   "metadata": {},
   "outputs": [],
   "source": [
    "from nltk.corpus import stopwords"
   ]
  },
  {
   "cell_type": "code",
   "execution_count": 24,
   "id": "f37d37b0",
   "metadata": {},
   "outputs": [],
   "source": [
    "sw = set(stopwords.words('english'))"
   ]
  },
  {
   "cell_type": "code",
   "execution_count": 26,
   "id": "86cc690a",
   "metadata": {},
   "outputs": [
    {
     "name": "stdout",
     "output_type": "stream",
     "text": [
      "{'through', 'until', 'myself', 'having', 'hasn', 'aren', 'during', 'above', 'below', 'most', \"weren't\", 'have', 'to', 'won', 'where', 'be', 'y', 'my', 'ma', 'why', 'not', 'their', \"won't\", 'that', \"doesn't\", 'other', \"you'd\", 'him', 'his', 'am', 'which', 'over', \"aren't\", 'this', 'just', 'up', 'and', 'against', 'from', 'they', 'o', 'too', 'your', 'whom', 'is', 'isn', 'when', \"couldn't\", 'all', \"she's\", 'because', 'by', 'how', 'were', \"that'll\", 'does', 'haven', 'only', 'few', 'such', 'ours', 've', 'down', 'those', 'so', \"wouldn't\", 'you', 'shouldn', 'of', 'as', 'i', \"didn't\", 'needn', 'had', 'did', \"mustn't\", 'after', 'hadn', 'being', 'while', 'if', 's', 'will', 're', 'd', 'same', 'didn', \"you've\", 'or', 'some', 'out', 'its', 'again', 'should', 'each', 'mustn', 'doing', \"should've\", 'weren', 'between', 'don', 'shan', 'them', 'a', 'what', 'no', 'off', \"needn't\", 'was', \"you'll\", 'then', 'for', \"haven't\", \"isn't\", 'very', 'themselves', 'who', 'both', 'wasn', 'ourselves', \"wasn't\", \"you're\", 'been', 'mightn', 'our', 'couldn', 'here', 'than', 'own', \"hasn't\", 'can', 'doesn', 'we', 'theirs', \"shan't\", \"hadn't\", 'before', 'any', 'll', \"it's\", 'more', 'with', 'me', 'yourself', 'yourselves', 'itself', 'hers', 'she', 'm', 'wouldn', 'are', 'himself', \"mightn't\", 'into', 'now', 'these', 'has', 'once', 'an', 'at', 'in', 'there', 'it', 'nor', 'herself', 'on', 'about', \"shouldn't\", 't', 'the', 'he', 'under', 'her', 'yours', 'but', \"don't\", 'do', 'further', 'ain'}\n"
     ]
    }
   ],
   "source": [
    "print(sw) # These are the common words that we can skip in english"
   ]
  },
  {
   "cell_type": "code",
   "execution_count": 28,
   "id": "a0d9c01c",
   "metadata": {},
   "outputs": [],
   "source": [
    "def remove_stopwords(text,stopwords):\n",
    "    useful_words = [w for w in text if w not in stopwords] # List comprehension\n",
    "    return useful_words"
   ]
  },
  {
   "cell_type": "code",
   "execution_count": 30,
   "id": "5bd5abe1",
   "metadata": {},
   "outputs": [
    {
     "name": "stdout",
     "output_type": "stream",
     "text": [
      "['bothered', 'much']\n"
     ]
    }
   ],
   "source": [
    "text = \"i am not bothered about her very much\".split() # We have to tokenize as by default it will take it as string\n",
    "useful_words = remove_stopwords(text,sw)\n",
    "print(useful_words)"
   ]
  },
  {
   "cell_type": "markdown",
   "id": "330f5e88",
   "metadata": {},
   "source": [
    "## Tokenization using Regular Expression , for practise regexpal.com"
   ]
  },
  {
   "cell_type": "code",
   "execution_count": 32,
   "id": "a546eb2a",
   "metadata": {},
   "outputs": [],
   "source": [
    "sentence = \"Send all the 50 documents related to chapters 1,2,3 at prateek@cb.com\""
   ]
  },
  {
   "cell_type": "code",
   "execution_count": 33,
   "id": "0fdc0198",
   "metadata": {},
   "outputs": [],
   "source": [
    "from nltk.tokenize import RegexpTokenizer"
   ]
  },
  {
   "cell_type": "code",
   "execution_count": 37,
   "id": "4018e659",
   "metadata": {},
   "outputs": [],
   "source": [
    "tokenizer = RegexpTokenizer('[a-zA-Z]+') #Regular Expression for acceptance of only words.\n",
    "useful_text = tokenizer.tokenize(sentence)"
   ]
  },
  {
   "cell_type": "code",
   "execution_count": 39,
   "id": "8016ad95",
   "metadata": {},
   "outputs": [
    {
     "name": "stdout",
     "output_type": "stream",
     "text": [
      "['Send', 'all', 'the', 'documents', 'related', 'to', 'chapters', 'at', 'prateek', 'cb', 'com']\n"
     ]
    }
   ],
   "source": [
    "print(useful_text)"
   ]
  },
  {
   "cell_type": "code",
   "execution_count": 40,
   "id": "5f94d793",
   "metadata": {},
   "outputs": [],
   "source": [
    "# if we ewant to capture the email id also then\n",
    "tokenizer = RegexpTokenizer('[a-zA-Z@.]+') #Regular Expression for acceptance of only words.\n",
    "useful_text = tokenizer.tokenize(sentence)"
   ]
  },
  {
   "cell_type": "code",
   "execution_count": 41,
   "id": "fa69d6c3",
   "metadata": {},
   "outputs": [
    {
     "name": "stdout",
     "output_type": "stream",
     "text": [
      "['Send', 'all', 'the', 'documents', 'related', 'to', 'chapters', 'at', 'prateek@cb.com']\n"
     ]
    }
   ],
   "source": [
    "print(useful_text)"
   ]
  },
  {
   "cell_type": "code",
   "execution_count": null,
   "id": "72eeb61a",
   "metadata": {},
   "outputs": [],
   "source": []
  },
  {
   "cell_type": "markdown",
   "id": "42b4a2c5",
   "metadata": {},
   "source": [
    "## Stemming - Process that transforms particular words(verbs , plurals) into their radical form. nltk provides 3 stemmers - Snowball , Porter , Lancaster semmer"
   ]
  },
  {
   "cell_type": "code",
   "execution_count": 42,
   "id": "58bb00de",
   "metadata": {},
   "outputs": [],
   "source": [
    "text = \"\"\"Foxes love to make jumps. The quick brown fox was seen jumping over the \n",
    "lovely dog from a 6ft feet high wall\"\"\""
   ]
  },
  {
   "cell_type": "code",
   "execution_count": 43,
   "id": "32eecbe9",
   "metadata": {},
   "outputs": [],
   "source": [
    "from nltk.stem import SnowballStemmer,PorterStemmer,LancasterStemmer"
   ]
  },
  {
   "cell_type": "code",
   "execution_count": 44,
   "id": "bb2d5321",
   "metadata": {},
   "outputs": [],
   "source": [
    "ps = PorterStemmer()"
   ]
  },
  {
   "cell_type": "code",
   "execution_count": 45,
   "id": "5b3727fd",
   "metadata": {},
   "outputs": [
    {
     "data": {
      "text/plain": [
       "'jump'"
      ]
     },
     "execution_count": 45,
     "metadata": {},
     "output_type": "execute_result"
    }
   ],
   "source": [
    "ps.stem('jumping')"
   ]
  },
  {
   "cell_type": "code",
   "execution_count": 46,
   "id": "37e2ad36",
   "metadata": {},
   "outputs": [
    {
     "name": "stdout",
     "output_type": "stream",
     "text": [
      "love\n",
      "love\n",
      "love\n",
      "jump\n"
     ]
    }
   ],
   "source": [
    "print(ps.stem('lovely'))\n",
    "print(ps.stem('loves'))\n",
    "print(ps.stem('loveing'))\n",
    "print(ps.stem('jumps'))"
   ]
  },
  {
   "cell_type": "code",
   "execution_count": 47,
   "id": "42e51508",
   "metadata": {},
   "outputs": [],
   "source": [
    "# Snowball stemer is multilingual , french and german are supported"
   ]
  },
  {
   "cell_type": "code",
   "execution_count": 48,
   "id": "ea4c2a61",
   "metadata": {},
   "outputs": [],
   "source": [
    "ss = SnowballStemmer('english') # its multilingual so  we have to pass language also"
   ]
  },
  {
   "cell_type": "code",
   "execution_count": 49,
   "id": "ce32d715",
   "metadata": {},
   "outputs": [
    {
     "name": "stdout",
     "output_type": "stream",
     "text": [
      "love\n",
      "love\n",
      "love\n",
      "jump\n",
      "jump\n"
     ]
    }
   ],
   "source": [
    "print(ss.stem('lovely'))\n",
    "print(ss.stem('loves'))\n",
    "print(ss.stem('loveing'))\n",
    "print(ss.stem('jumping'))\n",
    "print(ss.stem('jumps'))"
   ]
  },
  {
   "cell_type": "markdown",
   "id": "02f699c8",
   "metadata": {},
   "source": [
    "## Lemmatization"
   ]
  },
  {
   "cell_type": "code",
   "execution_count": 50,
   "id": "9cb0741a",
   "metadata": {},
   "outputs": [],
   "source": [
    "from nltk.stem import WordNetLemmatizer"
   ]
  },
  {
   "cell_type": "code",
   "execution_count": 51,
   "id": "cd59004c",
   "metadata": {},
   "outputs": [],
   "source": [
    "wn = WordNetLemmatizer()"
   ]
  },
  {
   "cell_type": "code",
   "execution_count": 52,
   "id": "c28ddb33",
   "metadata": {},
   "outputs": [
    {
     "ename": "AttributeError",
     "evalue": "'WordNetLemmatizer' object has no attribute 'stem'",
     "output_type": "error",
     "traceback": [
      "\u001b[1;31m---------------------------------------------------------------------------\u001b[0m",
      "\u001b[1;31mAttributeError\u001b[0m                            Traceback (most recent call last)",
      "\u001b[1;32m<ipython-input-52-6a1e151f82b3>\u001b[0m in \u001b[0;36m<module>\u001b[1;34m\u001b[0m\n\u001b[1;32m----> 1\u001b[1;33m \u001b[0mprint\u001b[0m\u001b[1;33m(\u001b[0m\u001b[0mwn\u001b[0m\u001b[1;33m.\u001b[0m\u001b[0mstem\u001b[0m\u001b[1;33m(\u001b[0m\u001b[1;34m'lovely'\u001b[0m\u001b[1;33m)\u001b[0m\u001b[1;33m)\u001b[0m\u001b[1;33m\u001b[0m\u001b[1;33m\u001b[0m\u001b[0m\n\u001b[0m\u001b[0;32m      2\u001b[0m \u001b[0mprint\u001b[0m\u001b[1;33m(\u001b[0m\u001b[0mwn\u001b[0m\u001b[1;33m.\u001b[0m\u001b[0mstem\u001b[0m\u001b[1;33m(\u001b[0m\u001b[1;34m'loves'\u001b[0m\u001b[1;33m)\u001b[0m\u001b[1;33m)\u001b[0m\u001b[1;33m\u001b[0m\u001b[1;33m\u001b[0m\u001b[0m\n\u001b[0;32m      3\u001b[0m \u001b[0mprint\u001b[0m\u001b[1;33m(\u001b[0m\u001b[0mwn\u001b[0m\u001b[1;33m.\u001b[0m\u001b[0mstem\u001b[0m\u001b[1;33m(\u001b[0m\u001b[1;34m'loveing'\u001b[0m\u001b[1;33m)\u001b[0m\u001b[1;33m)\u001b[0m\u001b[1;33m\u001b[0m\u001b[1;33m\u001b[0m\u001b[0m\n\u001b[0;32m      4\u001b[0m \u001b[0mprint\u001b[0m\u001b[1;33m(\u001b[0m\u001b[0mwn\u001b[0m\u001b[1;33m.\u001b[0m\u001b[0mstem\u001b[0m\u001b[1;33m(\u001b[0m\u001b[1;34m'jumping'\u001b[0m\u001b[1;33m)\u001b[0m\u001b[1;33m)\u001b[0m\u001b[1;33m\u001b[0m\u001b[1;33m\u001b[0m\u001b[0m\n\u001b[0;32m      5\u001b[0m \u001b[0mprint\u001b[0m\u001b[1;33m(\u001b[0m\u001b[0mwn\u001b[0m\u001b[1;33m.\u001b[0m\u001b[0mstem\u001b[0m\u001b[1;33m(\u001b[0m\u001b[1;34m'jumps'\u001b[0m\u001b[1;33m)\u001b[0m\u001b[1;33m)\u001b[0m\u001b[1;33m\u001b[0m\u001b[1;33m\u001b[0m\u001b[0m\n",
      "\u001b[1;31mAttributeError\u001b[0m: 'WordNetLemmatizer' object has no attribute 'stem'"
     ]
    }
   ],
   "source": [
    "print(wn.stem('lovely'))\n",
    "print(wn.stem('loves'))\n",
    "print(wn.stem('loveing'))\n",
    "print(wn.stem('jumping'))\n",
    "print(wn.stem('jumps'))"
   ]
  },
  {
   "cell_type": "markdown",
   "id": "693b00f3",
   "metadata": {},
   "source": [
    "##### Lammatizer not installed so showing error"
   ]
  },
  {
   "cell_type": "markdown",
   "id": "c50d9d69",
   "metadata": {},
   "source": [
    "# Building vocab and Vectorization"
   ]
  },
  {
   "cell_type": "code",
   "execution_count": 53,
   "id": "eddc58d6",
   "metadata": {},
   "outputs": [],
   "source": [
    "# 1. sports , 2. Politics , 3.Economy , 4.Movies\n",
    "corpus = [\n",
    "        'Indian cricket team will wins World Cup, says Capt. Virat Kohli. World cup will be held at Sri Lanka.',\n",
    "        'We will win next Lok Sabha Elections, says confident Indian PM',\n",
    "        'The nobel laurate won the hearts of the people.',\n",
    "        'The movie Raazi is an exciting Indian Spy thriller based upon a real story.'\n",
    "]"
   ]
  },
  {
   "cell_type": "markdown",
   "id": "0cc05dbb",
   "metadata": {},
   "source": [
    "## We will maintain a dictionary called vocab for storing indices and the word . Vector will conain the frequncy"
   ]
  },
  {
   "cell_type": "code",
   "execution_count": 54,
   "id": "fabf810a",
   "metadata": {},
   "outputs": [],
   "source": [
    "# We can automate the work by sklearn countvectorizer\n",
    "from sklearn.feature_extraction.text import CountVectorizer"
   ]
  },
  {
   "cell_type": "code",
   "execution_count": 55,
   "id": "5b1376c0",
   "metadata": {},
   "outputs": [],
   "source": [
    "cv = CountVectorizer()"
   ]
  },
  {
   "cell_type": "code",
   "execution_count": 56,
   "id": "bebd3364",
   "metadata": {},
   "outputs": [],
   "source": [
    "vectorized_corpus = cv.fit_transform(corpus) # fit will learn from the dictionary and transform will count"
   ]
  },
  {
   "cell_type": "code",
   "execution_count": 59,
   "id": "f6d6f586",
   "metadata": {},
   "outputs": [
    {
     "data": {
      "text/plain": [
       "array([0, 1, 0, 1, 1, 0, 1, 2, 0, 0, 0, 1, 1, 0, 1, 1, 0, 0, 0, 0, 0, 0,\n",
       "       0, 0, 0, 0, 0, 1, 0, 1, 0, 1, 0, 0, 0, 1, 0, 2, 0, 1, 0, 2],\n",
       "      dtype=int64)"
      ]
     },
     "execution_count": 59,
     "metadata": {},
     "output_type": "execute_result"
    }
   ],
   "source": [
    "#vectorized_corpus? will give  (0, 6)\t1 , this means that 0th word is at 6th index occuring once\n",
    "vectorized_corpus = vectorized_corpus.toarray()\n",
    "vectorized_corpus[0]"
   ]
  },
  {
   "cell_type": "code",
   "execution_count": 64,
   "id": "c56785ad",
   "metadata": {},
   "outputs": [
    {
     "name": "stdout",
     "output_type": "stream",
     "text": [
      "{'indian': 12, 'cricket': 6, 'team': 31, 'will': 37, 'wins': 39, 'world': 41, 'cup': 7, 'says': 27, 'capt': 4, 'virat': 35, 'kohli': 14, 'be': 3, 'held': 11, 'at': 1, 'sri': 29, 'lanka': 15, 'we': 36, 'win': 38, 'next': 19, 'lok': 17, 'sabha': 26, 'elections': 8, 'confident': 5, 'pm': 23, 'the': 32, 'nobel': 20, 'laurate': 16, 'won': 40, 'hearts': 10, 'of': 21, 'people': 22, 'movie': 18, 'raazi': 24, 'is': 13, 'an': 0, 'exciting': 9, 'spy': 28, 'thriller': 33, 'based': 2, 'upon': 34, 'real': 25, 'story': 30}\n",
      "42\n"
     ]
    }
   ],
   "source": [
    "print(cv.vocabulary_) # Mapping\n",
    "print(len(cv.vocabulary_.keys())) # 42 Unique words"
   ]
  },
  {
   "cell_type": "code",
   "execution_count": 66,
   "id": "184b2cff",
   "metadata": {},
   "outputs": [
    {
     "name": "stdout",
     "output_type": "stream",
     "text": [
      "[0 0 0 0 0 0 0 0 0 0 1 0 0 0 0 0 1 0 0 0 1 1 1 0 0 0 0 0 0 0 0 0 3 0 0 0 0\n",
      " 0 0 0 1 0]\n",
      "[array(['hearts', 'laurate', 'nobel', 'of', 'people', 'the', 'won'],\n",
      "      dtype='<U9')]\n"
     ]
    }
   ],
   "source": [
    "# Rewverse mapping\n",
    "numbers = vectorized_corpus[2]\n",
    "print(numbers)\n",
    "s = cv.inverse_transform(numbers)\n",
    "print(s)"
   ]
  },
  {
   "cell_type": "code",
   "execution_count": null,
   "id": "0492a169",
   "metadata": {},
   "outputs": [],
   "source": []
  },
  {
   "cell_type": "markdown",
   "id": "894ddee6",
   "metadata": {},
   "source": [
    "# Vectorization with Stopward Removal"
   ]
  },
  {
   "cell_type": "code",
   "execution_count": 70,
   "id": "52f5b031",
   "metadata": {},
   "outputs": [],
   "source": [
    "def myTokenizer(document):\n",
    "    words = tokenizer.tokenize(document.lower()) # so that Indian and indian are considered same\n",
    "    words = remove_stopwords(words,sw)\n",
    "    return words"
   ]
  },
  {
   "cell_type": "code",
   "execution_count": 71,
   "id": "a798a8e9",
   "metadata": {},
   "outputs": [
    {
     "data": {
      "text/plain": [
       "['send', 'documents', 'related', 'chapters', 'prateek@cb.com']"
      ]
     },
     "execution_count": 71,
     "metadata": {},
     "output_type": "execute_result"
    }
   ],
   "source": [
    "myTokenizer(sentence)"
   ]
  },
  {
   "cell_type": "code",
   "execution_count": 72,
   "id": "d3db7b88",
   "metadata": {},
   "outputs": [],
   "source": [
    "cv = CountVectorizer(tokenizer=myTokenizer) # We can make our custom tokenizer and pass it to countVectorizer"
   ]
  },
  {
   "cell_type": "code",
   "execution_count": 73,
   "id": "03fafba2",
   "metadata": {},
   "outputs": [],
   "source": [
    "vectorized_corpus = cv.fit_transform(corpus).toarray()"
   ]
  },
  {
   "cell_type": "code",
   "execution_count": 74,
   "id": "d40d2b0e",
   "metadata": {},
   "outputs": [
    {
     "name": "stdout",
     "output_type": "stream",
     "text": [
      "[[0 1 0 1 2 0 0 0 1 1 1 1 0 0 0 0 0 0 0 0 0 0 1 0 1 0 1 0 0 1 0 1 2]\n",
      " [0 0 1 0 0 1 0 0 0 1 0 0 0 1 0 1 0 0 1 0 0 1 1 0 0 0 0 0 0 0 1 0 0]\n",
      " [0 0 0 0 0 0 0 1 0 0 0 0 1 0 0 0 1 1 0 0 0 0 0 0 0 0 0 0 0 0 0 0 0]\n",
      " [1 0 0 0 0 0 1 0 0 1 0 0 0 0 1 0 0 0 0 1 1 0 0 1 0 1 0 1 1 0 0 0 0]]\n"
     ]
    }
   ],
   "source": [
    "print(vectorized_corpus)"
   ]
  },
  {
   "cell_type": "code",
   "execution_count": 75,
   "id": "5afbd754",
   "metadata": {},
   "outputs": [
    {
     "name": "stdout",
     "output_type": "stream",
     "text": [
      "33\n"
     ]
    }
   ],
   "source": [
    "print(len(vectorized_corpus[0]))"
   ]
  },
  {
   "cell_type": "markdown",
   "id": "0b0327f8",
   "metadata": {},
   "source": [
    "### Even for small senetences we are getting large vectors so we need dimentionality reduction "
   ]
  },
  {
   "cell_type": "code",
   "execution_count": 76,
   "id": "711870a2",
   "metadata": {},
   "outputs": [
    {
     "data": {
      "text/plain": [
       "[array(['capt.', 'cricket', 'cup', 'held', 'indian', 'kohli.', 'lanka.',\n",
       "        'says', 'sri', 'team', 'virat', 'wins', 'world'], dtype='<U9'),\n",
       " array(['confident', 'elections', 'indian', 'lok', 'next', 'pm', 'sabha',\n",
       "        'says', 'win'], dtype='<U9'),\n",
       " array(['hearts', 'laurate', 'nobel', 'people.'], dtype='<U9'),\n",
       " array(['based', 'exciting', 'indian', 'movie', 'raazi', 'real', 'spy',\n",
       "        'story.', 'thriller', 'upon'], dtype='<U9')]"
      ]
     },
     "execution_count": 76,
     "metadata": {},
     "output_type": "execute_result"
    }
   ],
   "source": [
    "cv.inverse_transform(vectorized_corpus)"
   ]
  },
  {
   "cell_type": "code",
   "execution_count": 77,
   "id": "2dbc5c92",
   "metadata": {},
   "outputs": [],
   "source": [
    "# For test data\n",
    "test_corpus = [\n",
    "        'Indian cricket rocks!',\n",
    "]"
   ]
  },
  {
   "cell_type": "code",
   "execution_count": 80,
   "id": "74bc9ddf",
   "metadata": {},
   "outputs": [
    {
     "data": {
      "text/plain": [
       "array([[0, 0, 0, 1, 0, 0, 0, 0, 0, 1, 0, 0, 0, 0, 0, 0, 0, 0, 0, 0, 0, 0,\n",
       "        0, 0, 0, 0, 0, 0, 0, 0, 0, 0, 0]], dtype=int64)"
      ]
     },
     "execution_count": 80,
     "metadata": {},
     "output_type": "execute_result"
    }
   ],
   "source": [
    "cv.transform(test_corpus).toarray() # If we use fit_transform then it will alter our vocab and will learn again."
   ]
  },
  {
   "cell_type": "markdown",
   "id": "39eee98d",
   "metadata": {},
   "source": [
    "# More ways to Create Features\n",
    "- Unigram - every word as a feature\n",
    "- Bigrams - two consecutive words can be treated as a single feature\n",
    "- Trigrams\n",
    "- n-grams\n",
    "- TF-IDF Normalisation"
   ]
  },
  {
   "cell_type": "code",
   "execution_count": 81,
   "id": "d7ff80ef",
   "metadata": {},
   "outputs": [],
   "source": [
    "sent_1  = [\"this is good movie\"]\n",
    "sent_2 = [\"this is good movie but actor is not present\"]"
   ]
  },
  {
   "cell_type": "code",
   "execution_count": 82,
   "id": "f2e45002",
   "metadata": {},
   "outputs": [],
   "source": [
    "cv = CountVectorizer()"
   ]
  },
  {
   "cell_type": "code",
   "execution_count": 83,
   "id": "cd45977f",
   "metadata": {},
   "outputs": [
    {
     "data": {
      "text/plain": [
       "array([[0, 0, 1, 1, 1, 0, 0, 1],\n",
       "       [1, 1, 1, 2, 1, 1, 1, 1]], dtype=int64)"
      ]
     },
     "execution_count": 83,
     "metadata": {},
     "output_type": "execute_result"
    }
   ],
   "source": [
    "docs = [sent_1[0],sent_2[0]]\n",
    "cv.fit_transform(docs).toarray()"
   ]
  },
  {
   "cell_type": "code",
   "execution_count": 84,
   "id": "57dc14e9",
   "metadata": {},
   "outputs": [],
   "source": [
    "sent_1  = [\"this is good movie\"]\n",
    "sent_2 = [\"this is good movie but actor is not present\"]\n",
    "sent_3 = [\"this is not good movie\"]\n",
    "# Here ML model might not calssify sent3 as not good as its not identifying not good as one"
   ]
  },
  {
   "cell_type": "markdown",
   "id": "88c1f627",
   "metadata": {},
   "source": [
    "### Bigram"
   ]
  },
  {
   "cell_type": "code",
   "execution_count": 85,
   "id": "4e8b7dc5",
   "metadata": {},
   "outputs": [],
   "source": [
    "cv = CountVectorizer(ngram_range=(2,2)) # by default ngram_range is (1,1) so its unigram (2,2) is bigram"
   ]
  },
  {
   "cell_type": "code",
   "execution_count": 87,
   "id": "726b7c94",
   "metadata": {},
   "outputs": [
    {
     "data": {
      "text/plain": [
       "array([[0, 0, 1, 1, 0, 0, 0, 1],\n",
       "       [1, 1, 1, 1, 1, 1, 1, 1]], dtype=int64)"
      ]
     },
     "execution_count": 87,
     "metadata": {},
     "output_type": "execute_result"
    }
   ],
   "source": [
    "docs = [sent_1[0],sent_2[0]]\n",
    "cv.fit_transform(docs).toarray()"
   ]
  },
  {
   "cell_type": "code",
   "execution_count": 88,
   "id": "958c2fb2",
   "metadata": {},
   "outputs": [
    {
     "data": {
      "text/plain": [
       "{'this is': 7,\n",
       " 'is good': 3,\n",
       " 'good movie': 2,\n",
       " 'movie but': 5,\n",
       " 'but actor': 1,\n",
       " 'actor is': 0,\n",
       " 'is not': 4,\n",
       " 'not present': 6}"
      ]
     },
     "execution_count": 88,
     "metadata": {},
     "output_type": "execute_result"
    }
   ],
   "source": [
    "cv.vocabulary_"
   ]
  },
  {
   "cell_type": "markdown",
   "id": "84311cb1",
   "metadata": {},
   "source": [
    "### Trigram"
   ]
  },
  {
   "cell_type": "code",
   "execution_count": 89,
   "id": "cd789a2c",
   "metadata": {},
   "outputs": [],
   "source": [
    "cv = CountVectorizer(ngram_range=(3,3))"
   ]
  },
  {
   "cell_type": "code",
   "execution_count": 90,
   "id": "5517d488",
   "metadata": {},
   "outputs": [
    {
     "data": {
      "text/plain": [
       "array([[0, 0, 0, 1, 0, 0, 1],\n",
       "       [1, 1, 1, 1, 1, 1, 1]], dtype=int64)"
      ]
     },
     "execution_count": 90,
     "metadata": {},
     "output_type": "execute_result"
    }
   ],
   "source": [
    "docs = [sent_1[0],sent_2[0]]\n",
    "cv.fit_transform(docs).toarray()"
   ]
  },
  {
   "cell_type": "code",
   "execution_count": 91,
   "id": "85cab27f",
   "metadata": {},
   "outputs": [
    {
     "data": {
      "text/plain": [
       "{'this is good': 6,\n",
       " 'is good movie': 3,\n",
       " 'good movie but': 2,\n",
       " 'movie but actor': 5,\n",
       " 'but actor is': 1,\n",
       " 'actor is not': 0,\n",
       " 'is not present': 4}"
      ]
     },
     "execution_count": 91,
     "metadata": {},
     "output_type": "execute_result"
    }
   ],
   "source": [
    "cv.vocabulary_"
   ]
  },
  {
   "cell_type": "markdown",
   "id": "78798c49",
   "metadata": {},
   "source": [
    "### n-gram which has a range say 1 to 3"
   ]
  },
  {
   "cell_type": "code",
   "execution_count": 92,
   "id": "56c3167e",
   "metadata": {},
   "outputs": [],
   "source": [
    "cv = CountVectorizer(ngram_range=(1,3))"
   ]
  },
  {
   "cell_type": "code",
   "execution_count": 93,
   "id": "d942d1e5",
   "metadata": {},
   "outputs": [
    {
     "data": {
      "text/plain": [
       "array([[0, 0, 0, 0, 0, 0, 1, 1, 0, 1, 1, 1, 0, 0, 1, 0, 0, 0, 0, 0, 1, 1,\n",
       "        1],\n",
       "       [1, 1, 1, 1, 1, 1, 1, 1, 1, 2, 1, 1, 1, 1, 1, 1, 1, 1, 1, 1, 1, 1,\n",
       "        1]], dtype=int64)"
      ]
     },
     "execution_count": 93,
     "metadata": {},
     "output_type": "execute_result"
    }
   ],
   "source": [
    "docs = [sent_1[0],sent_2[0]]\n",
    "cv.fit_transform(docs).toarray()"
   ]
  },
  {
   "cell_type": "code",
   "execution_count": 94,
   "id": "5917f0ad",
   "metadata": {},
   "outputs": [
    {
     "data": {
      "text/plain": [
       "{'this': 20,\n",
       " 'is': 9,\n",
       " 'good': 6,\n",
       " 'movie': 14,\n",
       " 'this is': 21,\n",
       " 'is good': 10,\n",
       " 'good movie': 7,\n",
       " 'this is good': 22,\n",
       " 'is good movie': 11,\n",
       " 'but': 3,\n",
       " 'actor': 0,\n",
       " 'not': 17,\n",
       " 'present': 19,\n",
       " 'movie but': 15,\n",
       " 'but actor': 4,\n",
       " 'actor is': 1,\n",
       " 'is not': 12,\n",
       " 'not present': 18,\n",
       " 'good movie but': 8,\n",
       " 'movie but actor': 16,\n",
       " 'but actor is': 5,\n",
       " 'actor is not': 2,\n",
       " 'is not present': 13}"
      ]
     },
     "execution_count": 94,
     "metadata": {},
     "output_type": "execute_result"
    }
   ],
   "source": [
    "cv.vocabulary_"
   ]
  },
  {
   "cell_type": "markdown",
   "id": "dcc05743",
   "metadata": {},
   "source": [
    "# Tf-idf Normalization\n",
    "- Avoid features that occur very often, becauase they contain less information\n",
    "- Information decreases as the number of occurences increases across different type of documents\n",
    "- So we define another term - term-document-frequency which associates a weight with every term\n",
    "- It has two terms term frequency and inverse document frequency."
   ]
  },
  {
   "cell_type": "code",
   "execution_count": 95,
   "id": "c1eb2d1c",
   "metadata": {},
   "outputs": [],
   "source": [
    "sent_1  = \"this is good movie\"\n",
    "sent_2 = \"this was good movie\"\n",
    "sent_3 = \"this is not good movie\"\n",
    "\n",
    "corpus = [sent_1,sent_2,sent_3]"
   ]
  },
  {
   "cell_type": "code",
   "execution_count": 96,
   "id": "5872acc3",
   "metadata": {},
   "outputs": [],
   "source": [
    "from sklearn.feature_extraction.text import TfidfVectorizer"
   ]
  },
  {
   "cell_type": "code",
   "execution_count": 97,
   "id": "3398f899",
   "metadata": {},
   "outputs": [],
   "source": [
    "tfidf = TfidfVectorizer()"
   ]
  },
  {
   "cell_type": "code",
   "execution_count": 98,
   "id": "92953c1f",
   "metadata": {},
   "outputs": [],
   "source": [
    "vc = tfidf.fit_transform(corpus).toarray() # Vectorized corpus"
   ]
  },
  {
   "cell_type": "code",
   "execution_count": 99,
   "id": "d83f80ce",
   "metadata": {},
   "outputs": [
    {
     "name": "stdout",
     "output_type": "stream",
     "text": [
      "[[0.46333427 0.59662724 0.46333427 0.         0.46333427 0.        ]\n",
      " [0.41285857 0.         0.41285857 0.         0.41285857 0.69903033]\n",
      " [0.3645444  0.46941728 0.3645444  0.61722732 0.3645444  0.        ]]\n"
     ]
    }
   ],
   "source": [
    "print(vc)"
   ]
  },
  {
   "cell_type": "code",
   "execution_count": 100,
   "id": "1bdde847",
   "metadata": {},
   "outputs": [
    {
     "data": {
      "text/plain": [
       "{'this': 4, 'is': 1, 'good': 0, 'movie': 2, 'was': 5, 'not': 3}"
      ]
     },
     "execution_count": 100,
     "metadata": {},
     "output_type": "execute_result"
    }
   ],
   "source": [
    "tfidf.vocabulary_"
   ]
  },
  {
   "cell_type": "markdown",
   "id": "5798985d",
   "metadata": {},
   "source": [
    "## This is occuring at 4rth index and its weight is 0.46 ,0.41 and 0.36 in all three sentences as is less informative as is in all the sentences.\n",
    "## is similarly is at 1 and its weight is 0.5 ,0 ,0.46 as in 2nd sentence is is not present.\n",
    "## not has the highest weight as is only present in the 3rd sentence."
   ]
  },
  {
   "cell_type": "code",
   "execution_count": null,
   "id": "74835d63",
   "metadata": {},
   "outputs": [],
   "source": []
  }
 ],
 "metadata": {
  "kernelspec": {
   "display_name": "Python 3",
   "language": "python",
   "name": "python3"
  },
  "language_info": {
   "codemirror_mode": {
    "name": "ipython",
    "version": 3
   },
   "file_extension": ".py",
   "mimetype": "text/x-python",
   "name": "python",
   "nbconvert_exporter": "python",
   "pygments_lexer": "ipython3",
   "version": "3.9.4"
  }
 },
 "nbformat": 4,
 "nbformat_minor": 5
}
