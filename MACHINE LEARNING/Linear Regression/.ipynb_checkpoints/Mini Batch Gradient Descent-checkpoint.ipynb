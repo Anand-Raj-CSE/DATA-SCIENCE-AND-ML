{
 "cells": [
  {
   "cell_type": "code",
   "execution_count": 1,
   "id": "408f0e86",
   "metadata": {},
   "outputs": [],
   "source": [
    "import numpy as np\n",
    "import matplotlib.pyplot as plt\n",
    "from sklearn.datasets import load_boston\n",
    "from sklearn.datasets import make_regression"
   ]
  },
  {
   "cell_type": "code",
   "execution_count": null,
   "id": "f3290b4d",
   "metadata": {},
   "outputs": [],
   "source": [
    "# Getting the data or creating it\n",
    "X,Y = make_regression(n-samples=10000,n_features=20,n_informative=20,noise=10,random_state=1)\n",
    "# This matrix is going to contain 10000 rows and 20 features(columns) \n"
   ]
  }
 ],
 "metadata": {
  "kernelspec": {
   "display_name": "Python 3",
   "language": "python",
   "name": "python3"
  },
  "language_info": {
   "codemirror_mode": {
    "name": "ipython",
    "version": 3
   },
   "file_extension": ".py",
   "mimetype": "text/x-python",
   "name": "python",
   "nbconvert_exporter": "python",
   "pygments_lexer": "ipython3",
   "version": "3.9.4"
  }
 },
 "nbformat": 4,
 "nbformat_minor": 5
}
