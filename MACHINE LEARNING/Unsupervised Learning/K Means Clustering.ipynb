{
 "cells": [
  {
   "cell_type": "code",
   "execution_count": null,
   "id": "ad03a7da",
   "metadata": {},
   "outputs": [],
   "source": []
  },
  {
   "cell_type": "code",
   "execution_count": 1,
   "id": "4bfa005f",
   "metadata": {},
   "outputs": [],
   "source": [
    "import numpy as np\n",
    "from matplotlib import pyplot as plt\n",
    "from sklearn.datasets import make_blobs"
   ]
  },
  {
   "cell_type": "markdown",
   "id": "d3e6e14d",
   "metadata": {},
   "source": [
    "# Data Preparation"
   ]
  },
  {
   "cell_type": "code",
   "execution_count": 7,
   "id": "23c820ed",
   "metadata": {},
   "outputs": [],
   "source": [
    "X,y = make_blobs(n_samples=500,n_features=2,centers=5,random_state=3)"
   ]
  },
  {
   "cell_type": "code",
   "execution_count": 9,
   "id": "0131b120",
   "metadata": {},
   "outputs": [
    {
     "data": {
      "image/png": "[encoded data removed]",
      "text/plain": [
       "<Figure size 432x288 with 1 Axes>"
      ]
     },
     "metadata": {
      "needs_background": "light"
     },
     "output_type": "display_data"
    }
   ],
   "source": [
    "plt.figure(0)\n",
    "plt.grid(True)\n",
    "plt.scatter(X[:,0],X[:,1])\n",
    "plt.show()"
   ]
  },
  {
   "cell_type": "code",
   "execution_count": 14,
   "id": "3fb8c2cb",
   "metadata": {},
   "outputs": [],
   "source": [
    "k=5\n",
    "color = [\"green\",\"red\",\"blue\",\"yellow\",\"orange\"]\n",
    "\n",
    "clusters = {}\n",
    "\n",
    "# Initializing Random state to each cluster\n",
    "for kx in range(k):\n",
    "    centre = 10*(2*np.random.random((X.shape[1],))-1)\n",
    "    points = []\n",
    "    cluster = {\n",
    "        'center':centre,\n",
    "        'points':points,\n",
    "        'color':color[kx]\n",
    "    }\n",
    "    clusters[kx]= cluster"
   ]
  },
  {
   "cell_type": "code",
   "execution_count": 15,
   "id": "94ad1742",
   "metadata": {},
   "outputs": [
    {
     "name": "stdout",
     "output_type": "stream",
     "text": [
      "[ 4.72027379 -6.92581506]\n"
     ]
    }
   ],
   "source": [
    "centre = 10*(2*np.random.random((X.shape[1],))-1)\n",
    "print(centre)"
   ]
  },
  {
   "cell_type": "code",
   "execution_count": 16,
   "id": "80079e06",
   "metadata": {},
   "outputs": [
    {
     "name": "stdout",
     "output_type": "stream",
     "text": [
      "{0: {'center': array([1.82161243, 8.51003183]), 'points': [], 'color': 'green'}, 1: {'center': array([2.29567625, 7.72718645]), 'points': [], 'color': 'red'}, 2: {'center': array([9.66524626, 1.34577468]), 'points': [], 'color': 'blue'}, 3: {'center': array([ 6.11726936, -0.04209677]), 'points': [], 'color': 'yellow'}, 4: {'center': array([6.83941125, 2.59884772]), 'points': [], 'color': 'orange'}}\n"
     ]
    }
   ],
   "source": [
    "print(clusters)"
   ]
  },
  {
   "cell_type": "code",
   "execution_count": 17,
   "id": "3ce22fd5",
   "metadata": {},
   "outputs": [],
   "source": [
    "# This distance will calculate the distance of the cluster from a given point\n",
    "def distance(v1,v2):\n",
    "    return np.sqrt(np.sum((v1-v2)**2))"
   ]
  },
  {
   "cell_type": "code",
   "execution_count": 19,
   "id": "6cdc9b3e",
   "metadata": {},
   "outputs": [
    {
     "data": {
      "text/plain": [
       "3.605551275463989"
      ]
     },
     "execution_count": 19,
     "metadata": {},
     "output_type": "execute_result"
    }
   ],
   "source": [
    "v1 = np.array([1,2])\n",
    "v2 = np.array([3,5])\n",
    "distance(v1,v2)"
   ]
  },
  {
   "cell_type": "code",
   "execution_count": 22,
   "id": "78324578",
   "metadata": {},
   "outputs": [],
   "source": [
    "# Step 2\n",
    "#E-step\n",
    "def assignPointTocluster(clusters):\n",
    "    for ix in range(X.shape[0]):\n",
    "        dist = []\n",
    "        curr_x = X[ix]\n",
    "\n",
    "        for kx in range(k):\n",
    "            d=distance(curr_x,clusters[kx]['centre'])\n",
    "            dist.append(d)\n",
    "\n",
    "        # To choose the cluster we use minimum\n",
    "        current_cluster = np.argmin(dist)\n",
    "        clusters[current_cluster]['points'].append(curr_x)\n",
    "        \n",
    "# m-step for updating our cluster\n",
    "def updateClusters(clusters):\n",
    "        pass\n",
    "\n",
    "def plotClusters(clusters):\n",
    "    for kx in range(k):\n",
    "        print(len(clusters[kx]['points'])) # This would give us the number of points ieing in that cluster.\n",
    "        "
   ]
  },
  {
   "cell_type": "code",
   "execution_count": 23,
   "id": "7e443080",
   "metadata": {},
   "outputs": [
    {
     "name": "stdout",
     "output_type": "stream",
     "text": [
      "0\n",
      "0\n",
      "0\n",
      "0\n",
      "0\n"
     ]
    }
   ],
   "source": [
    "\n",
    "def plotClusters(clusters):\n",
    "    for kx in range(k):\n",
    "        print(len(clusters[kx]['points'])) # This would give us the number of points ieing in that cluster.\n",
    "\n",
    "        \n",
    "plotClusters(clusters)"
   ]
  },
  {
   "cell_type": "code",
   "execution_count": null,
   "id": "5a111cfc",
   "metadata": {},
   "outputs": [],
   "source": []
  }
 ],
 "metadata": {
  "kernelspec": {
   "display_name": "Python 3",
   "language": "python",
   "name": "python3"
  },
  "language_info": {
   "codemirror_mode": {
    "name": "ipython",
    "version": 3
   },
   "file_extension": ".py",
   "mimetype": "text/x-python",
   "name": "python",
   "nbconvert_exporter": "python",
   "pygments_lexer": "ipython3",
   "version": "3.9.4"
  }
 },
 "nbformat": 4,
 "nbformat_minor": 5
}
