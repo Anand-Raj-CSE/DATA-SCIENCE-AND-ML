{
 "cells": [
  {
   "cell_type": "code",
   "execution_count": null,
   "id": "25d337a7",
   "metadata": {},
   "outputs": [],
   "source": []
  },
  {
   "cell_type": "code",
   "execution_count": 1,
   "id": "7e55c8b4",
   "metadata": {},
   "outputs": [],
   "source": [
    "import numpy as np\n",
    "from matplotlib import pyplot as plt\n",
    "from sklearn.datasets import make_blobs"
   ]
  },
  {
   "cell_type": "markdown",
   "id": "7602a99d",
   "metadata": {},
   "source": [
    "# Data Preparation"
   ]
  },
  {
   "cell_type": "code",
   "execution_count": 2,
   "id": "087c13fd",
   "metadata": {},
   "outputs": [],
   "source": [
    "X,y = make_blobs(n_samples=500,n_features=2,centers=5,random_state=3)"
   ]
  },
  {
   "cell_type": "code",
   "execution_count": 3,
   "id": "14ad3620",
   "metadata": {},
   "outputs": [
    {
     "data": {
      "image/png": "[encoded data removed]",
      "text/plain": [
       "<Figure size 432x288 with 1 Axes>"
      ]
     },
     "metadata": {
      "needs_background": "light"
     },
     "output_type": "display_data"
    }
   ],
   "source": [
    "plt.figure(0)\n",
    "plt.grid(True)\n",
    "plt.scatter(X[:,0],X[:,1])\n",
    "plt.show()"
   ]
  },
  {
   "cell_type": "code",
   "execution_count": 4,
   "id": "88cab5f8",
   "metadata": {},
   "outputs": [],
   "source": [
    "k=5\n",
    "color = [\"green\",\"red\",\"blue\",\"yellow\",\"orange\"]\n",
    "\n",
    "clusters = {}\n",
    "\n",
    "# Initializing Random state to each cluster\n",
    "for kx in range(k):\n",
    "    centre = 10*(2*np.random.random((X.shape[1],))-1)\n",
    "    points = []\n",
    "    cluster = {\n",
    "        'center':centre,\n",
    "        'points':points,\n",
    "        'color':color[kx]\n",
    "    }\n",
    "    clusters[kx]= cluster"
   ]
  },
  {
   "cell_type": "code",
   "execution_count": 5,
   "id": "5eea0391",
   "metadata": {},
   "outputs": [
    {
     "name": "stdout",
     "output_type": "stream",
     "text": [
      "[ 9.22617782 -6.09381165]\n"
     ]
    }
   ],
   "source": [
    "centre = 10*(2*np.random.random((X.shape[1],))-1)\n",
    "print(centre)"
   ]
  },
  {
   "cell_type": "code",
   "execution_count": 6,
   "id": "bb4ef10b",
   "metadata": {},
   "outputs": [
    {
     "name": "stdout",
     "output_type": "stream",
     "text": [
      "{0: {'center': array([1.29545978, 0.5875184 ]), 'points': [], 'color': 'green'}, 1: {'center': array([0.42348744, 8.01911382]), 'points': [], 'color': 'red'}, 2: {'center': array([-9.77936023, -0.17506355]), 'points': [], 'color': 'blue'}, 3: {'center': array([8.40086401, 1.81281342]), 'points': [], 'color': 'yellow'}, 4: {'center': array([-5.15375009, -1.56512053]), 'points': [], 'color': 'orange'}}\n"
     ]
    }
   ],
   "source": [
    "print(clusters)"
   ]
  },
  {
   "cell_type": "code",
   "execution_count": 7,
   "id": "a52571b4",
   "metadata": {},
   "outputs": [],
   "source": [
    "# This distance will calculate the distance of the cluster from a given point\n",
    "def distance(v1,v2):\n",
    "    return np.sqrt(np.sum((v1-v2)**2))"
   ]
  },
  {
   "cell_type": "code",
   "execution_count": 8,
   "id": "3b65ef57",
   "metadata": {},
   "outputs": [
    {
     "data": {
      "text/plain": [
       "3.605551275463989"
      ]
     },
     "execution_count": 8,
     "metadata": {},
     "output_type": "execute_result"
    }
   ],
   "source": [
    "v1 = np.array([1,2])\n",
    "v2 = np.array([3,5])\n",
    "distance(v1,v2)"
   ]
  },
  {
   "cell_type": "code",
   "execution_count": 30,
   "id": "e59033cb",
   "metadata": {},
   "outputs": [],
   "source": [
    "# Step 2\n",
    "#E-step\n",
    "def assignPointTocluster(clusters):\n",
    "    for ix in range(X.shape[0]):\n",
    "        dist = []\n",
    "        curr_x = X[ix]\n",
    "\n",
    "        for kx in range(k):\n",
    "            d=distance(curr_x,clusters[kx]['center'])\n",
    "            dist.append(d)\n",
    "\n",
    "        # To choose the cluster we use minimum\n",
    "        current_cluster = np.argmin(dist)\n",
    "        clusters[current_cluster]['points'].append(curr_x)\n",
    "        \n",
    "# m-step for updating our cluster\n",
    "def updateClusters(clusters):\n",
    "        # Here we update each of the cluster centreaccording to the mean of the points in it\n",
    "        for kx in range(k):\n",
    "            pts = np.array(clusters[kx]['points'])\n",
    "            if pts.shape[0]>0: #If a cluster has some non zero point then we are goint to take the mean and update the cluster\n",
    "                new_u = pts.mean(axis=0)\n",
    "                clusters[kx]['center'] = new_u\n",
    "                clusters[kx]['points'] = [] # empty that point for next E-step so that new points get inserted for the cluster\n",
    "\n",
    "def plotClusters(clusters):\n",
    "    for kx in range(k):\n",
    "        #print(len(clusters[kx]['points'])) # This would give us the number of points ieing in that cluster.\n",
    "        pts = np.array(clusters[kx]['points'])\n",
    "        print(pts.shape)\n",
    "        \n",
    "        # Plotting the points\n",
    "        try : # If we get a list of size 0\n",
    "            plt.scatter(pts[:,0],pts[:,1],color=clusters[kx]['color'])\n",
    "        \n",
    "        except:\n",
    "            pass\n",
    "        \n",
    "        # Plot the clusters centre\n",
    "        uk = clusters[kx]['center']\n",
    "        plt.scatter(uk[0],uk[1],color='black',marker=\"*\")"
   ]
  },
  {
   "cell_type": "code",
   "execution_count": 31,
   "id": "9465ba07",
   "metadata": {},
   "outputs": [
    {
     "name": "stdout",
     "output_type": "stream",
     "text": [
      "560\n",
      "710\n",
      "1040\n",
      "780\n",
      "1910\n"
     ]
    }
   ],
   "source": [
    "\n",
    "def plotClusterstry(clusters):\n",
    "    for kx in range(k):\n",
    "        print(len(clusters[kx]['points'])) # This would give us the number of points ieing in that cluster.\n",
    "    return\n",
    "\n",
    "assignPointTocluster(clusters)\n",
    "plotClusterstry(clusters)"
   ]
  },
  {
   "cell_type": "code",
   "execution_count": 32,
   "id": "bde69988",
   "metadata": {},
   "outputs": [
    {
     "name": "stdout",
     "output_type": "stream",
     "text": [
      "(560, 2)\n",
      "(710, 2)\n",
      "(1040, 2)\n",
      "(780, 2)\n",
      "(1910, 2)\n"
     ]
    },
    {
     "data": {
      "image/png": "[encoded data removed]",
      "text/plain": [
       "<Figure size 432x288 with 1 Axes>"
      ]
     },
     "metadata": {
      "needs_background": "light"
     },
     "output_type": "display_data"
    }
   ],
   "source": [
    "plotClusters(clusters)"
   ]
  },
  {
   "cell_type": "code",
   "execution_count": 36,
   "id": "6ab46be3",
   "metadata": {},
   "outputs": [
    {
     "name": "stdout",
     "output_type": "stream",
     "text": [
      "(74, 2)\n",
      "(72, 2)\n",
      "(104, 2)\n",
      "(100, 2)\n",
      "(150, 2)\n"
     ]
    },
    {
     "data": {
      "image/png": "[encoded data removed]",
      "text/plain": [
       "<Figure size 432x288 with 1 Axes>"
      ]
     },
     "metadata": {
      "needs_background": "light"
     },
     "output_type": "display_data"
    }
   ],
   "source": [
    "assignPointTocluster(clusters)\n",
    "plotClusters(clusters)\n",
    "updateClusters(clusters)"
   ]
  },
  {
   "cell_type": "markdown",
   "id": "92325f2f",
   "metadata": {},
   "source": [
    "# Now the points are not converging after 5 updates"
   ]
  },
  {
   "cell_type": "code",
   "execution_count": null,
   "id": "113b7983",
   "metadata": {},
   "outputs": [],
   "source": []
  }
 ],
 "metadata": {
  "kernelspec": {
   "display_name": "Python 3",
   "language": "python",
   "name": "python3"
  },
  "language_info": {
   "codemirror_mode": {
    "name": "ipython",
    "version": 3
   },
   "file_extension": ".py",
   "mimetype": "text/x-python",
   "name": "python",
   "nbconvert_exporter": "python",
   "pygments_lexer": "ipython3",
   "version": "3.9.4"
  }
 },
 "nbformat": 4,
 "nbformat_minor": 5
}
