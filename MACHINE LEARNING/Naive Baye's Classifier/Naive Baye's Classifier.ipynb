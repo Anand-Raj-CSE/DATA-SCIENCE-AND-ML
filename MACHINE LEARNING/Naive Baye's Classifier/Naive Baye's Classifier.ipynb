{
 "cells": [
  {
   "cell_type": "markdown",
   "id": "d78f2687",
   "metadata": {},
   "source": [
    "# Naive Baye's Classifier is a supervised learning algorithm based on Baye's Theorem of Probability."
   ]
  },
  {
   "cell_type": "code",
   "execution_count": 1,
   "id": "9f9a674e",
   "metadata": {},
   "outputs": [],
   "source": [
    "import numpy as np\n",
    "import pandas as pd"
   ]
  },
  {
   "cell_type": "code",
   "execution_count": null,
   "id": "6ab281a6",
   "metadata": {},
   "outputs": [],
   "source": []
  }
 ],
 "metadata": {
  "kernelspec": {
   "display_name": "Python 3",
   "language": "python",
   "name": "python3"
  },
  "language_info": {
   "codemirror_mode": {
    "name": "ipython",
    "version": 3
   },
   "file_extension": ".py",
   "mimetype": "text/x-python",
   "name": "python",
   "nbconvert_exporter": "python",
   "pygments_lexer": "ipython3",
   "version": "3.9.4"
  }
 },
 "nbformat": 4,
 "nbformat_minor": 5
}
