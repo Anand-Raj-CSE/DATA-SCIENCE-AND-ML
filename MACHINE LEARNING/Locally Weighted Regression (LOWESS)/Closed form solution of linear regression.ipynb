{
 "cells": [
  {
   "cell_type": "code",
   "execution_count": 3,
   "id": "a7c87c80",
   "metadata": {},
   "outputs": [],
   "source": [
    "import numpy as np\n",
    "import matplotlib.pyplot as plt\n",
    "import pandas as pd\n",
    "from sklearn.datasets import make_regression"
   ]
  },
  {
   "cell_type": "code",
   "execution_count": 5,
   "id": "f1c00cd9",
   "metadata": {},
   "outputs": [
    {
     "name": "stdout",
     "output_type": "stream",
     "text": [
      "(400, 1)\n",
      "(400, 1)\n"
     ]
    }
   ],
   "source": [
    "# Generate Dataset\n",
    "X,Y = make_regression(n_samples=400,n_features=1,n_informative=1,noise=1.8,random_state=11)\n",
    "\n",
    "# reshaping Y as matrix having 1 column\n",
    "Y=Y.reshape((-1,1))\n",
    "\n",
    "\n",
    "print(X.shape)\n",
    "print(Y.shape)\n",
    "\n"
   ]
  },
  {
   "cell_type": "code",
   "execution_count": 6,
   "id": "398f5d5e",
   "metadata": {},
   "outputs": [
    {
     "data": {
      "image/png": "[encoded data removed]",
      "text/plain": [
       "<Figure size 432x288 with 1 Axes>"
      ]
     },
     "metadata": {
      "needs_background": "light"
     },
     "output_type": "display_data"
    }
   ],
   "source": [
    "#Normakization of dataset\n",
    "X=(X-X.mean())/X.std()\n",
    "\n",
    "\n",
    "# Visualiza \n",
    "plt.figure()\n",
    "plt.scatter(X,Y)\n",
    "plt.title(\"Normalized data\")\n",
    "plt.show()"
   ]
  },
  {
   "cell_type": "code",
   "execution_count": 9,
   "id": "ba5eff52",
   "metadata": {},
   "outputs": [
    {
     "name": "stdout",
     "output_type": "stream",
     "text": [
      "(400, 2)\n",
      "[[-0.86881353  1.        ]\n",
      " [ 1.04796658  1.        ]\n",
      " [-0.2019676   1.        ]\n",
      " [-0.34017061  1.        ]\n",
      " [ 0.13317349  1.        ]]\n"
     ]
    }
   ],
   "source": [
    "ones = np.ones((X.shape[0],1))\n",
    "# Making new matrix of m*(n+1)\n",
    "X_ = np.hstack((X,ones))\n",
    "print(X_.shape)\n",
    "\n",
    "print(X_[:5,:])"
   ]
  },
  {
   "cell_type": "code",
   "execution_count": 13,
   "id": "4855dc81",
   "metadata": {},
   "outputs": [],
   "source": [
    "def predict(X,theta):\n",
    "    return np.dot(X,theta)\n",
    "\n",
    "\n",
    "def getthetaClosedForm(X,Y):\n",
    "    #Earlier Y is a vector, we have to convert it into matrix\n",
    "    Y=np.mat(Y)\n",
    "    #taking two parts 1 as (Xt.x)-1 and second part as Xt.Y\n",
    "    firstPart = np.dot(X.T , X)\n",
    "    secondPart = np.dot(X.T , Y)\n",
    "    # for taking the inverse we would use pseudo inverse \n",
    "    theta = np.linalg.pinv(firstPart)*secondPart\n",
    "    return theta\n",
    "\n",
    "\n"
   ]
  },
  {
   "cell_type": "code",
   "execution_count": 14,
   "id": "f76dd2a1",
   "metadata": {},
   "outputs": [
    {
     "name": "stdout",
     "output_type": "stream",
     "text": [
      "[[19.45877082]\n",
      " [-0.29187892]]\n"
     ]
    }
   ],
   "source": [
    "theta = getthetaClosedForm(X_,Y)\n",
    "print(theta)"
   ]
  },
  {
   "cell_type": "code",
   "execution_count": 16,
   "id": "2ac5cc5f",
   "metadata": {},
   "outputs": [
    {
     "data": {
      "image/png": "[encoded data removed]",
      "text/plain": [
       "<Figure size 432x288 with 1 Axes>"
      ]
     },
     "metadata": {
      "needs_background": "light"
     },
     "output_type": "display_data"
    }
   ],
   "source": [
    "# Plotting\n",
    "plt.figure()\n",
    "plt.scatter(X,Y)\n",
    "plt.plot(X,predict(X_,theta),color = 'red',label = \"prediction\")\n",
    "plt.legend()\n",
    "plt.title(\"Normalized data\")\n",
    "plt.show()"
   ]
  },
  {
   "cell_type": "code",
   "execution_count": null,
   "id": "a1a6f7e7",
   "metadata": {},
   "outputs": [],
   "source": []
  }
 ],
 "metadata": {
  "kernelspec": {
   "display_name": "Python 3",
   "language": "python",
   "name": "python3"
  },
  "language_info": {
   "codemirror_mode": {
    "name": "ipython",
    "version": 3
   },
   "file_extension": ".py",
   "mimetype": "text/x-python",
   "name": "python",
   "nbconvert_exporter": "python",
   "pygments_lexer": "ipython3",
   "version": "3.9.4"
  }
 },
 "nbformat": 4,
 "nbformat_minor": 5
}
