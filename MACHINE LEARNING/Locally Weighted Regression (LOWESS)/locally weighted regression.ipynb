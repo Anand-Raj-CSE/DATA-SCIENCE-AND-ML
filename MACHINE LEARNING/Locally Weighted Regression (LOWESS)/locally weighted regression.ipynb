{
 "cells": [
  {
   "cell_type": "markdown",
   "id": "4673b65b",
   "metadata": {},
   "source": [
    "# Locally weighted regression\n",
    "1. Read and normalise the dataset \n",
    "2. Generate W for every query point !\n",
    "3. No training involved , directly make predictions using closed form solution that we derived\n",
    "(X'WX)inv * X'WY\n",
    "4. Find the best value of Tau (Bandwidght parameter) [Cross validation]\n"
   ]
  },
  {
   "cell_type": "code",
   "execution_count": 38,
   "id": "9270ecc1",
   "metadata": {},
   "outputs": [],
   "source": [
    "import numpy as np\n",
    "import matplotlib.pyplot as plt\n",
    "import pandas as pd\n",
    "%matplotlib inline"
   ]
  },
  {
   "cell_type": "code",
   "execution_count": 39,
   "id": "225c52d0",
   "metadata": {},
   "outputs": [],
   "source": [
    "dfx = pd.read_csv('D:/LEARNING/DATA SCIENCE/MACHINE LEARNING/Locally Weighted Regression (LOWESS)/Dataset/weightedX.csv')\n",
    "dfy = pd.read_csv('D:/LEARNING/DATA SCIENCE/MACHINE LEARNING/Locally Weighted Regression (LOWESS)/Dataset/weightedY.csv')"
   ]
  },
  {
   "cell_type": "code",
   "execution_count": 40,
   "id": "a3db2bce",
   "metadata": {},
   "outputs": [
    {
     "name": "stdout",
     "output_type": "stream",
     "text": [
      "(99, 1)\n",
      "(99, 1)\n"
     ]
    }
   ],
   "source": [
    "X = dfx.values\n",
    "Y = dfy.values\n",
    "print(X.shape)\n",
    "print(Y.shape)"
   ]
  },
  {
   "cell_type": "code",
   "execution_count": 41,
   "id": "3079537f",
   "metadata": {},
   "outputs": [],
   "source": [
    "plt.style.use(\"seaborn\")"
   ]
  },
  {
   "cell_type": "code",
   "execution_count": 42,
   "id": "3f46a829",
   "metadata": {},
   "outputs": [
    {
     "data": {
      "image/png": "[encoded data removed]",
      "text/plain": [
       "<Figure size 576x396 with 1 Axes>"
      ]
     },
     "metadata": {},
     "output_type": "display_data"
    }
   ],
   "source": [
    "# Normalizing the data\n",
    "u=X.mean()\n",
    "std = X.std()\n",
    "X = (X-u)/std\n",
    "plt.title(\"Normalized data\")\n",
    "plt.scatter(X,Y)\n",
    "plt.show()"
   ]
  },
  {
   "cell_type": "markdown",
   "id": "61c3c813",
   "metadata": {},
   "source": [
    "# Finding out W(m/m) diagonal matrix\n",
    "### a*b ==>a,b --> matrices -->Matrix Multiplication\n",
    "### If a and b are arrys a*b ==> a,b --> array  --> Element Wise\n",
    "### np.eye(5) it would givw us 5*5 diagonal matrix"
   ]
  },
  {
   "cell_type": "code",
   "execution_count": 43,
   "id": "3fbabb16",
   "metadata": {},
   "outputs": [
    {
     "name": "stdout",
     "output_type": "stream",
     "text": [
      "<class 'numpy.matrix'>\n"
     ]
    }
   ],
   "source": [
    "print(type(np.mat(np.eye(5))))\n"
   ]
  },
  {
   "cell_type": "markdown",
   "id": "f0bc88eb",
   "metadata": {},
   "source": [
    "# Generation of W(i) = e^(-(X(i)-X)^2/2*(tau)^2) , X(i) is a vector of features"
   ]
  },
  {
   "cell_type": "code",
   "execution_count": 44,
   "id": "d921f465",
   "metadata": {},
   "outputs": [],
   "source": [
    "def getW(query_point,X,tau):\n",
    "    M = X.shape[0]\n",
    "    W = np.mat(np.eye(M))\n",
    "    \n",
    "    for i in range(M):\n",
    "        xi = X[i]\n",
    "        x = query_point\n",
    "        W[i,i] = np.exp(np.dot((xi-x),(xi-x).T)/(-2*tau*tau))\n",
    "    return W\n",
    "    "
   ]
  },
  {
   "cell_type": "code",
   "execution_count": 51,
   "id": "7b2a1a24",
   "metadata": {},
   "outputs": [
    {
     "name": "stdout",
     "output_type": "stream",
     "text": [
      "(99, 99)\n",
      "[[0.99997933 0.         0.         ... 0.         0.         0.        ]\n",
      " [0.         0.99999834 0.         ... 0.         0.         0.        ]\n",
      " [0.         0.         0.99997917 ... 0.         0.         0.        ]\n",
      " ...\n",
      " [0.         0.         0.         ... 0.99994881 0.         0.        ]\n",
      " [0.         0.         0.         ... 0.         0.99987121 0.        ]\n",
      " [0.         0.         0.         ... 0.         0.         0.99975348]]\n"
     ]
    }
   ],
   "source": [
    "X = np.mat(X)\n",
    "Y = np.mat(X)\n",
    "M = X.shape[0]\n",
    "\n",
    "W = getW(-1,X,100)\n",
    "print(W.shape)\n",
    "print(W)"
   ]
  },
  {
   "cell_type": "markdown",
   "id": "89e43e3b",
   "metadata": {},
   "source": [
    "# If we increase tou the the weight matrix would be close to anidentity matrix as we would increase the bandwidth of the points from which the weight is to be calculated. It would be same as linear regression."
   ]
  },
  {
   "cell_type": "markdown",
   "id": "9356927d",
   "metadata": {},
   "source": [
    "# Now we would work with prediction and again we would introduce a dummy feature x1 i.e. the hypothesis for 2 feature would be theta1*x1 + theta0*x0 where x0 = 1."
   ]
  },
  {
   "cell_type": "code",
   "execution_count": 55,
   "id": "70057e0d",
   "metadata": {},
   "outputs": [],
   "source": [
    "def prediction(X,Y,query_x,tau):\n",
    "    ones = np.ones((M,1))\n",
    "    X_ = np.hstack((X,ones)) # It would add a column which will have only 1 in it. \n",
    "    \n",
    "    qx = np.mat([query_x,1])\n",
    "    \n",
    "    # getting weight matrix \n",
    "    W = getW(qx,X_,tau)\n",
    "    \n",
    "    # theta = (X'WX)inv * X'WY\n",
    "    theta = np.linalg.pinv(X_.T*(W*X_))*(X_.T*(W*Y))  \n",
    "    #print(theta.shape)\n",
    "    pred = np.dot(qx,theta)\n",
    "    return theta,pred"
   ]
  },
  {
   "cell_type": "code",
   "execution_count": 53,
   "id": "827278e2",
   "metadata": {},
   "outputs": [
    {
     "name": "stdout",
     "output_type": "stream",
     "text": [
      "[[ 1.0000000e+00]\n",
      " [-8.8817842e-16]]\n"
     ]
    }
   ],
   "source": [
    "theta,pred = prediction(X,Y,1.0,1.0)\n",
    "print(theta)"
   ]
  },
  {
   "cell_type": "code",
   "execution_count": 54,
   "id": "2c60ee77",
   "metadata": {},
   "outputs": [
    {
     "name": "stdout",
     "output_type": "stream",
     "text": [
      "[[1.]]\n"
     ]
    }
   ],
   "source": [
    "print(pred)"
   ]
  },
  {
   "cell_type": "markdown",
   "id": "badc6b97",
   "metadata": {},
   "source": [
    "# Visualize prediction and analysis effect of Tau"
   ]
  },
  {
   "cell_type": "code",
   "execution_count": 49,
   "id": "dde191d1",
   "metadata": {},
   "outputs": [],
   "source": [
    "def plotPredictopn(tau):\n",
    "    X_test = np.linspace(-2,2,20)\n",
    "    Y_test = []\n",
    "    \n",
    "    for xq in X_test:\n",
    "        theta,pred = prediction(X,Y,xq,tau)\n",
    "        Y_test.append(pred[0][0])\n",
    "    \n",
    "    # Y_test must be converted into a numpy array as matplotlib would not print without numpy array\n",
    "    Y_test = np.array(Y_test)\n",
    "    XO = np.array(X)\n",
    "    YO = np.array(Y)\n",
    "    \n",
    "    plt.title(\"Tau/Bandwidth Param %.2f\"%tau)\n",
    "    plt.scatter(XO,YO)\n",
    "    plt.scatter(X_test,Y_test,color = 'red')\n",
    "    plt.show()"
   ]
  },
  {
   "cell_type": "code",
   "execution_count": 50,
   "id": "03e18776",
   "metadata": {},
   "outputs": [
    {
     "data": {
      "image/png": "[encoded data removed]",
      "text/plain": [
       "<Figure size 576x396 with 1 Axes>"
      ]
     },
     "metadata": {},
     "output_type": "display_data"
    }
   ],
   "source": [
    "plotPredictopn(0.5)"
   ]
  },
  {
   "cell_type": "code",
   "execution_count": null,
   "id": "b2529119",
   "metadata": {},
   "outputs": [],
   "source": []
  }
 ],
 "metadata": {
  "kernelspec": {
   "display_name": "Python 3",
   "language": "python",
   "name": "python3"
  },
  "language_info": {
   "codemirror_mode": {
    "name": "ipython",
    "version": 3
   },
   "file_extension": ".py",
   "mimetype": "text/x-python",
   "name": "python",
   "nbconvert_exporter": "python",
   "pygments_lexer": "ipython3",
   "version": "3.9.4"
  }
 },
 "nbformat": 4,
 "nbformat_minor": 5
}
