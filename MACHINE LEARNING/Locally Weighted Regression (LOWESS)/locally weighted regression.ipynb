{
 "cells": [
  {
   "cell_type": "markdown",
   "id": "4673b65b",
   "metadata": {},
   "source": [
    "# Locally weighted regression\n",
    "1. Read and normalise the dataset \n",
    "2. Generate W for every query point !\n",
    "3. No training involved , directly make predictions using closed form solution that we derived\n",
    "(X'WX)inv * X'WY\n",
    "4. Find the best value of Tau (Bandwidght parameter) [Cross validation]\n"
   ]
  },
  {
   "cell_type": "code",
   "execution_count": 1,
   "id": "9270ecc1",
   "metadata": {},
   "outputs": [],
   "source": [
    "import numpy as np\n",
    "import matplotlib.pyplot as plt\n",
    "import pandas as pd\n",
    "%matplotlib inline"
   ]
  },
  {
   "cell_type": "code",
   "execution_count": 2,
   "id": "225c52d0",
   "metadata": {},
   "outputs": [],
   "source": [
    "dfx = pd.read_csv('D:/LEARNING/DATA SCIENCE/MACHINE LEARNING/Locally Weighted Regression (LOWESS)/Dataset/weightedX.csv')\n",
    "dfy = pd.read_csv('D:/LEARNING/DATA SCIENCE/MACHINE LEARNING/Locally Weighted Regression (LOWESS)/Dataset/weightedY.csv')"
   ]
  },
  {
   "cell_type": "code",
   "execution_count": 4,
   "id": "a3db2bce",
   "metadata": {},
   "outputs": [
    {
     "name": "stdout",
     "output_type": "stream",
     "text": [
      "(99, 1)\n",
      "(99, 1)\n"
     ]
    }
   ],
   "source": [
    "X = dfx.values\n",
    "Y = dfy.values\n",
    "print(X.shape)\n",
    "print(Y.shape)"
   ]
  },
  {
   "cell_type": "code",
   "execution_count": 8,
   "id": "3079537f",
   "metadata": {},
   "outputs": [],
   "source": [
    "plt.style.use(\"seaborn\")"
   ]
  },
  {
   "cell_type": "code",
   "execution_count": 10,
   "id": "3f46a829",
   "metadata": {},
   "outputs": [
    {
     "data": {
      "image/png": "[encoded data removed]",
      "text/plain": [
       "<Figure size 576x396 with 1 Axes>"
      ]
     },
     "metadata": {},
     "output_type": "display_data"
    }
   ],
   "source": [
    "# Normalizing the data\n",
    "u=X.mean()\n",
    "std = X.std()\n",
    "X = (X-u)/std\n",
    "plt.title(\"Normalized data\")\n",
    "plt.scatter(X,Y)\n",
    "plt.show()"
   ]
  },
  {
   "cell_type": "code",
   "execution_count": null,
   "id": "9563c5c8",
   "metadata": {},
   "outputs": [],
   "source": []
  },
  {
   "cell_type": "code",
   "execution_count": null,
   "id": "3fbabb16",
   "metadata": {},
   "outputs": [],
   "source": []
  }
 ],
 "metadata": {
  "kernelspec": {
   "display_name": "Python 3",
   "language": "python",
   "name": "python3"
  },
  "language_info": {
   "codemirror_mode": {
    "name": "ipython",
    "version": 3
   },
   "file_extension": ".py",
   "mimetype": "text/x-python",
   "name": "python",
   "nbconvert_exporter": "python",
   "pygments_lexer": "ipython3",
   "version": "3.9.4"
  }
 },
 "nbformat": 4,
 "nbformat_minor": 5
}
