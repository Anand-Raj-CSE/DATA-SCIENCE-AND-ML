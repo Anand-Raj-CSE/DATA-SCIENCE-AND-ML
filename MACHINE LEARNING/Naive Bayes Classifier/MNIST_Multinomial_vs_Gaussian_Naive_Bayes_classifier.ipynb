{
  "nbformat": 4,
  "nbformat_minor": 0,
  "metadata": {
    "colab": {
      "name": "MNIST Multinomial vs Gaussian Naive Bayes classifier.ipynb",
      "provenance": [],
      "collapsed_sections": []
    },
    "kernelspec": {
      "name": "python3",
      "display_name": "Python 3"
    },
    "language_info": {
      "name": "python"
    }
  },
  "cells": [
    {
      "cell_type": "code",
      "metadata": {
        "id": "pLEdglUIvHJU"
      },
      "source": [
        "from sklearn.datasets import load_digits\n",
        "from sklearn.model_selection import cross_val_score"
      ],
      "execution_count": 1,
      "outputs": []
    },
    {
      "cell_type": "code",
      "metadata": {
        "id": "vqN0Wfrsvfwu"
      },
      "source": [
        "import numpy as np\n",
        "import matplotlib.pyplot as plt\n"
      ],
      "execution_count": 2,
      "outputs": []
    },
    {
      "cell_type": "markdown",
      "metadata": {
        "id": "oNa4Yb3RvmF0"
      },
      "source": [
        "1. Data Preparation"
      ]
    },
    {
      "cell_type": "code",
      "metadata": {
        "id": "1ZgVTo_rvkzL"
      },
      "source": [
        "# Loading the MNIST dataset\n",
        "digits = load_digits()"
      ],
      "execution_count": 3,
      "outputs": []
    },
    {
      "cell_type": "code",
      "metadata": {
        "id": "977W8mQkvwPt"
      },
      "source": [
        "X = digits.data\n",
        "Y = digits.target"
      ],
      "execution_count": 4,
      "outputs": []
    },
    {
      "cell_type": "code",
      "metadata": {
        "colab": {
          "base_uri": "https://localhost:8080/"
        },
        "id": "cNTZ2dF6v7L2",
        "outputId": "71f48c52-11e4-42d1-f8a2-2e88830312c0"
      },
      "source": [
        "print(X.shape)\n",
        "print(Y.shape)"
      ],
      "execution_count": 6,
      "outputs": [
        {
          "output_type": "stream",
          "name": "stdout",
          "text": [
            "(1797, 64)\n",
            "(1797,)\n"
          ]
        }
      ]
    },
    {
      "cell_type": "markdown",
      "metadata": {
        "id": "M2JRfKSPwCGT"
      },
      "source": [
        "# Each example has 64 features that means that each image is a 6*6 image."
      ]
    },
    {
      "cell_type": "code",
      "metadata": {
        "colab": {
          "base_uri": "https://localhost:8080/",
          "height": 283
        },
        "id": "MUhS8DEVv-IN",
        "outputId": "ac7f3765-3c74-4bb7-e658-5d3c7999301c"
      },
      "source": [
        "plt.imshow(X[0].reshape((8,8)))\n",
        "# printing the label associated to that image\n",
        "print(\"Image associated is : \",Y[0])\n",
        "plt.show()"
      ],
      "execution_count": 11,
      "outputs": [
        {
          "output_type": "stream",
          "name": "stdout",
          "text": [
            "Image associated is :  0\n"
          ]
        },
        {
          "output_type": "display_data",
          "data": {
            "image/png": "[encoded data removed]",
            "text/plain": [
              "<Figure size 432x288 with 1 Axes>"
            ]
          },
          "metadata": {
            "needs_background": "light"
          }
        }
      ]
    },
    {
      "cell_type": "code",
      "metadata": {
        "colab": {
          "base_uri": "https://localhost:8080/",
          "height": 283
        },
        "id": "cTPDstj6wVYW",
        "outputId": "b18df3be-b98f-4950-cb94-bff195c0c9b2"
      },
      "source": [
        "plt.imshow(X[5].reshape((8,8)))\n",
        "# printing the label associated to that image\n",
        "print(\"Image associated is : \",Y[5])\n",
        "plt.show()"
      ],
      "execution_count": 12,
      "outputs": [
        {
          "output_type": "stream",
          "name": "stdout",
          "text": [
            "Image associated is :  5\n"
          ]
        },
        {
          "output_type": "display_data",
          "data": {
            "image/png": "[encoded data removed]",
            "text/plain": [
              "<Figure size 432x288 with 1 Axes>"
            ]
          },
          "metadata": {
            "needs_background": "light"
          }
        }
      ]
    },
    {
      "cell_type": "code",
      "metadata": {
        "colab": {
          "base_uri": "https://localhost:8080/"
        },
        "id": "mrjB3Zujw9uL",
        "outputId": "1694af5b-867c-4ef5-8fd0-193af66046af"
      },
      "source": [
        "print(X[5])"
      ],
      "execution_count": 13,
      "outputs": [
        {
          "output_type": "stream",
          "name": "stdout",
          "text": [
            "[ 0.  0. 12. 10.  0.  0.  0.  0.  0.  0. 14. 16. 16. 14.  0.  0.  0.  0.\n",
            " 13. 16. 15. 10.  1.  0.  0.  0. 11. 16. 16.  7.  0.  0.  0.  0.  0.  4.\n",
            "  7. 16.  7.  0.  0.  0.  0.  0.  4. 16.  9.  0.  0.  0.  5.  4. 12. 16.\n",
            "  4.  0.  0.  0.  9. 16. 16. 10.  0.  0.]\n"
          ]
        }
      ]
    },
    {
      "cell_type": "markdown",
      "metadata": {
        "id": "oGD9ij-_xSTS"
      },
      "source": [
        "Since it has only 16 faetures from 0 to 15 , sso its a grey scale image as RGB image ranges from 0-255. Here 0 is for white and 15 for black and between are grey "
      ]
    },
    {
      "cell_type": "code",
      "metadata": {
        "colab": {
          "base_uri": "https://localhost:8080/",
          "height": 283
        },
        "id": "fsXx37syxIHs",
        "outputId": "84e0235d-fdec-460b-aac7-e0ea25429292"
      },
      "source": [
        "plt.imshow(X[1].reshape((8,8)),cmap='gray')\n",
        "# printing the label associated to that image\n",
        "print(\"Image associated is : \",Y[1])\n",
        "plt.show()"
      ],
      "execution_count": 16,
      "outputs": [
        {
          "output_type": "stream",
          "name": "stdout",
          "text": [
            "Image associated is :  1\n"
          ]
        },
        {
          "output_type": "display_data",
          "data": {
            "image/png": "[encoded data removed]",
            "text/plain": [
              "<Figure size 432x288 with 1 Axes>"
            ]
          },
          "metadata": {
            "needs_background": "light"
          }
        }
      ]
    },
    {
      "cell_type": "markdown",
      "metadata": {
        "id": "oOALFgo_xwDI"
      },
      "source": [
        "Training Model"
      ]
    },
    {
      "cell_type": "code",
      "metadata": {
        "id": "aVWesBQ-xiek"
      },
      "source": [
        "from sklearn.naive_bayes import GaussianNB, MultinomialNB"
      ],
      "execution_count": 17,
      "outputs": []
    },
    {
      "cell_type": "code",
      "metadata": {
        "id": "8AIQ8L71x6tx"
      },
      "source": [
        "mnb = MultinomialNB()\n",
        "gnb = GaussianNB()"
      ],
      "execution_count": 18,
      "outputs": []
    },
    {
      "cell_type": "code",
      "metadata": {
        "colab": {
          "base_uri": "https://localhost:8080/"
        },
        "id": "j2hHHZCkyADZ",
        "outputId": "af2afff8-e983-483e-c7e2-0396343d4735"
      },
      "source": [
        "# Training \n",
        "mnb.fit(X,Y)\n",
        "gnb.fit(X,Y)"
      ],
      "execution_count": 20,
      "outputs": [
        {
          "output_type": "execute_result",
          "data": {
            "text/plain": [
              "GaussianNB(priors=None, var_smoothing=1e-09)"
            ]
          },
          "metadata": {},
          "execution_count": 20
        }
      ]
    },
    {
      "cell_type": "code",
      "metadata": {
        "colab": {
          "base_uri": "https://localhost:8080/"
        },
        "id": "9FbugcRnyHSp",
        "outputId": "c362f75a-a1c9-420f-9f4a-6c50fe066f17"
      },
      "source": [
        "print(mnb.score(X,Y))\n",
        "print(gnb.score(X,Y))"
      ],
      "execution_count": 21,
      "outputs": [
        {
          "output_type": "stream",
          "name": "stdout",
          "text": [
            "0.9053978853644964\n",
            "0.8580968280467446\n"
          ]
        }
      ]
    },
    {
      "cell_type": "markdown",
      "metadata": {
        "id": "EPDZRntFycyy"
      },
      "source": [
        "We can see that multinomial naive bayes is giving better accuracy as its descreate data. We could also check the cross validation score"
      ]
    },
    {
      "cell_type": "code",
      "metadata": {
        "colab": {
          "base_uri": "https://localhost:8080/"
        },
        "id": "BcTXLfPzySIT",
        "outputId": "e58bf569-6fc2-41a6-a9d8-b43e75ed9a31"
      },
      "source": [
        "cross_val_score(gnb,X,Y,scoring=\"accuracy\",cv=10).mean()"
      ],
      "execution_count": 22,
      "outputs": [
        {
          "output_type": "execute_result",
          "data": {
            "text/plain": [
              "0.8113904407200497"
            ]
          },
          "metadata": {},
          "execution_count": 22
        }
      ]
    },
    {
      "cell_type": "markdown",
      "metadata": {
        "id": "3vI_ySYqy0CB"
      },
      "source": [
        "Average accuracy of agussian naive bayes is aroung 81 %."
      ]
    },
    {
      "cell_type": "code",
      "metadata": {
        "colab": {
          "base_uri": "https://localhost:8080/"
        },
        "id": "YqhpwhHlyxfM",
        "outputId": "acc6cc10-4aae-4849-f40c-198a0f53ac03"
      },
      "source": [
        "cross_val_score(mnb,X,Y,scoring=\"accuracy\",cv=10).mean()"
      ],
      "execution_count": 25,
      "outputs": [
        {
          "output_type": "execute_result",
          "data": {
            "text/plain": [
              "0.8797858472998138"
            ]
          },
          "metadata": {},
          "execution_count": 25
        }
      ]
    },
    {
      "cell_type": "markdown",
      "metadata": {
        "id": "BanG8ZXlzHoc"
      },
      "source": [
        "Multinomial Naive Bayes gives about 88% accuracy because each feature is discreate value."
      ]
    },
    {
      "cell_type": "code",
      "metadata": {
        "id": "B60uP8K9zBLz"
      },
      "source": [
        ""
      ],
      "execution_count": null,
      "outputs": []
    }
  ]
}