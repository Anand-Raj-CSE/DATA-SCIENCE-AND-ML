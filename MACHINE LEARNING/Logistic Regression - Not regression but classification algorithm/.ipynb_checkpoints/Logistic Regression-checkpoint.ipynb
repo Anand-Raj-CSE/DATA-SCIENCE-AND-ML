{
 "cells": [
  {
   "cell_type": "markdown",
   "id": "1bd8d2bc",
   "metadata": {},
   "source": [
    "# Logistic Regression is not a regression algorithm , instead its a classification algorithm. Its binary classification i.e. either 0 or 1 . Supervied learning algorithm . Spam classification of an email is an logistic regression. "
   ]
  },
  {
   "cell_type": "code",
   "execution_count": null,
   "id": "83935934",
   "metadata": {},
   "outputs": [],
   "source": []
  }
 ],
 "metadata": {
  "kernelspec": {
   "display_name": "Python 3",
   "language": "python",
   "name": "python3"
  },
  "language_info": {
   "codemirror_mode": {
    "name": "ipython",
    "version": 3
   },
   "file_extension": ".py",
   "mimetype": "text/x-python",
   "name": "python",
   "nbconvert_exporter": "python",
   "pygments_lexer": "ipython3",
   "version": "3.9.4"
  }
 },
 "nbformat": 4,
 "nbformat_minor": 5
}
