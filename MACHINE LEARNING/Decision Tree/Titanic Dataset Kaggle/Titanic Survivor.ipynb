{
 "cells": [
  {
   "cell_type": "markdown",
   "id": "0620c762",
   "metadata": {},
   "source": [
    "# Problem is Titanic Survivor Prediction Kaggle Challenge"
   ]
  },
  {
   "cell_type": "code",
   "execution_count": 1,
   "id": "03f1d0a8",
   "metadata": {},
   "outputs": [],
   "source": [
    "import numpy as np\n",
    "import pandas as pd\n"
   ]
  },
  {
   "cell_type": "code",
   "execution_count": 2,
   "id": "7a937948",
   "metadata": {},
   "outputs": [],
   "source": [
    "data = pd.read_csv(\"train.csv\")"
   ]
  },
  {
   "cell_type": "code",
   "execution_count": 3,
   "id": "c1eec906",
   "metadata": {},
   "outputs": [
    {
     "data": {
      "text/html": [
       "<div>\n",
       "<style scoped>\n",
       "    .dataframe tbody tr th:only-of-type {\n",
       "        vertical-align: middle;\n",
       "    }\n",
       "\n",
       "    .dataframe tbody tr th {\n",
       "        vertical-align: top;\n",
       "    }\n",
       "\n",
       "    .dataframe thead th {\n",
       "        text-align: right;\n",
       "    }\n",
       "</style>\n",
       "<table border=\"1\" class=\"dataframe\">\n",
       "  <thead>\n",
       "    <tr style=\"text-align: right;\">\n",
       "      <th></th>\n",
       "      <th>PassengerId</th>\n",
       "      <th>Survived</th>\n",
       "      <th>Pclass</th>\n",
       "      <th>Name</th>\n",
       "      <th>Sex</th>\n",
       "      <th>Age</th>\n",
       "      <th>SibSp</th>\n",
       "      <th>Parch</th>\n",
       "      <th>Ticket</th>\n",
       "      <th>Fare</th>\n",
       "      <th>Cabin</th>\n",
       "      <th>Embarked</th>\n",
       "    </tr>\n",
       "  </thead>\n",
       "  <tbody>\n",
       "    <tr>\n",
       "      <th>0</th>\n",
       "      <td>1</td>\n",
       "      <td>0</td>\n",
       "      <td>3</td>\n",
       "      <td>Braund, Mr. Owen Harris</td>\n",
       "      <td>male</td>\n",
       "      <td>22.0</td>\n",
       "      <td>1</td>\n",
       "      <td>0</td>\n",
       "      <td>A/5 21171</td>\n",
       "      <td>7.2500</td>\n",
       "      <td>NaN</td>\n",
       "      <td>S</td>\n",
       "    </tr>\n",
       "    <tr>\n",
       "      <th>1</th>\n",
       "      <td>2</td>\n",
       "      <td>1</td>\n",
       "      <td>1</td>\n",
       "      <td>Cumings, Mrs. John Bradley (Florence Briggs Th...</td>\n",
       "      <td>female</td>\n",
       "      <td>38.0</td>\n",
       "      <td>1</td>\n",
       "      <td>0</td>\n",
       "      <td>PC 17599</td>\n",
       "      <td>71.2833</td>\n",
       "      <td>C85</td>\n",
       "      <td>C</td>\n",
       "    </tr>\n",
       "    <tr>\n",
       "      <th>2</th>\n",
       "      <td>3</td>\n",
       "      <td>1</td>\n",
       "      <td>3</td>\n",
       "      <td>Heikkinen, Miss. Laina</td>\n",
       "      <td>female</td>\n",
       "      <td>26.0</td>\n",
       "      <td>0</td>\n",
       "      <td>0</td>\n",
       "      <td>STON/O2. 3101282</td>\n",
       "      <td>7.9250</td>\n",
       "      <td>NaN</td>\n",
       "      <td>S</td>\n",
       "    </tr>\n",
       "    <tr>\n",
       "      <th>3</th>\n",
       "      <td>4</td>\n",
       "      <td>1</td>\n",
       "      <td>1</td>\n",
       "      <td>Futrelle, Mrs. Jacques Heath (Lily May Peel)</td>\n",
       "      <td>female</td>\n",
       "      <td>35.0</td>\n",
       "      <td>1</td>\n",
       "      <td>0</td>\n",
       "      <td>113803</td>\n",
       "      <td>53.1000</td>\n",
       "      <td>C123</td>\n",
       "      <td>S</td>\n",
       "    </tr>\n",
       "    <tr>\n",
       "      <th>4</th>\n",
       "      <td>5</td>\n",
       "      <td>0</td>\n",
       "      <td>3</td>\n",
       "      <td>Allen, Mr. William Henry</td>\n",
       "      <td>male</td>\n",
       "      <td>35.0</td>\n",
       "      <td>0</td>\n",
       "      <td>0</td>\n",
       "      <td>373450</td>\n",
       "      <td>8.0500</td>\n",
       "      <td>NaN</td>\n",
       "      <td>S</td>\n",
       "    </tr>\n",
       "    <tr>\n",
       "      <th>5</th>\n",
       "      <td>6</td>\n",
       "      <td>0</td>\n",
       "      <td>3</td>\n",
       "      <td>Moran, Mr. James</td>\n",
       "      <td>male</td>\n",
       "      <td>NaN</td>\n",
       "      <td>0</td>\n",
       "      <td>0</td>\n",
       "      <td>330877</td>\n",
       "      <td>8.4583</td>\n",
       "      <td>NaN</td>\n",
       "      <td>Q</td>\n",
       "    </tr>\n",
       "    <tr>\n",
       "      <th>6</th>\n",
       "      <td>7</td>\n",
       "      <td>0</td>\n",
       "      <td>1</td>\n",
       "      <td>McCarthy, Mr. Timothy J</td>\n",
       "      <td>male</td>\n",
       "      <td>54.0</td>\n",
       "      <td>0</td>\n",
       "      <td>0</td>\n",
       "      <td>17463</td>\n",
       "      <td>51.8625</td>\n",
       "      <td>E46</td>\n",
       "      <td>S</td>\n",
       "    </tr>\n",
       "    <tr>\n",
       "      <th>7</th>\n",
       "      <td>8</td>\n",
       "      <td>0</td>\n",
       "      <td>3</td>\n",
       "      <td>Palsson, Master. Gosta Leonard</td>\n",
       "      <td>male</td>\n",
       "      <td>2.0</td>\n",
       "      <td>3</td>\n",
       "      <td>1</td>\n",
       "      <td>349909</td>\n",
       "      <td>21.0750</td>\n",
       "      <td>NaN</td>\n",
       "      <td>S</td>\n",
       "    </tr>\n",
       "    <tr>\n",
       "      <th>8</th>\n",
       "      <td>9</td>\n",
       "      <td>1</td>\n",
       "      <td>3</td>\n",
       "      <td>Johnson, Mrs. Oscar W (Elisabeth Vilhelmina Berg)</td>\n",
       "      <td>female</td>\n",
       "      <td>27.0</td>\n",
       "      <td>0</td>\n",
       "      <td>2</td>\n",
       "      <td>347742</td>\n",
       "      <td>11.1333</td>\n",
       "      <td>NaN</td>\n",
       "      <td>S</td>\n",
       "    </tr>\n",
       "    <tr>\n",
       "      <th>9</th>\n",
       "      <td>10</td>\n",
       "      <td>1</td>\n",
       "      <td>2</td>\n",
       "      <td>Nasser, Mrs. Nicholas (Adele Achem)</td>\n",
       "      <td>female</td>\n",
       "      <td>14.0</td>\n",
       "      <td>1</td>\n",
       "      <td>0</td>\n",
       "      <td>237736</td>\n",
       "      <td>30.0708</td>\n",
       "      <td>NaN</td>\n",
       "      <td>C</td>\n",
       "    </tr>\n",
       "  </tbody>\n",
       "</table>\n",
       "</div>"
      ],
      "text/plain": [
       "   PassengerId  Survived  Pclass  \\\n",
       "0            1         0       3   \n",
       "1            2         1       1   \n",
       "2            3         1       3   \n",
       "3            4         1       1   \n",
       "4            5         0       3   \n",
       "5            6         0       3   \n",
       "6            7         0       1   \n",
       "7            8         0       3   \n",
       "8            9         1       3   \n",
       "9           10         1       2   \n",
       "\n",
       "                                                Name     Sex   Age  SibSp  \\\n",
       "0                            Braund, Mr. Owen Harris    male  22.0      1   \n",
       "1  Cumings, Mrs. John Bradley (Florence Briggs Th...  female  38.0      1   \n",
       "2                             Heikkinen, Miss. Laina  female  26.0      0   \n",
       "3       Futrelle, Mrs. Jacques Heath (Lily May Peel)  female  35.0      1   \n",
       "4                           Allen, Mr. William Henry    male  35.0      0   \n",
       "5                                   Moran, Mr. James    male   NaN      0   \n",
       "6                            McCarthy, Mr. Timothy J    male  54.0      0   \n",
       "7                     Palsson, Master. Gosta Leonard    male   2.0      3   \n",
       "8  Johnson, Mrs. Oscar W (Elisabeth Vilhelmina Berg)  female  27.0      0   \n",
       "9                Nasser, Mrs. Nicholas (Adele Achem)  female  14.0      1   \n",
       "\n",
       "   Parch            Ticket     Fare Cabin Embarked  \n",
       "0      0         A/5 21171   7.2500   NaN        S  \n",
       "1      0          PC 17599  71.2833   C85        C  \n",
       "2      0  STON/O2. 3101282   7.9250   NaN        S  \n",
       "3      0            113803  53.1000  C123        S  \n",
       "4      0            373450   8.0500   NaN        S  \n",
       "5      0            330877   8.4583   NaN        Q  \n",
       "6      0             17463  51.8625   E46        S  \n",
       "7      1            349909  21.0750   NaN        S  \n",
       "8      2            347742  11.1333   NaN        S  \n",
       "9      0            237736  30.0708   NaN        C  "
      ]
     },
     "execution_count": 3,
     "metadata": {},
     "output_type": "execute_result"
    }
   ],
   "source": [
    "data.head(n=10)"
   ]
  },
  {
   "cell_type": "code",
   "execution_count": 4,
   "id": "c421fe2b",
   "metadata": {},
   "outputs": [
    {
     "name": "stdout",
     "output_type": "stream",
     "text": [
      "<class 'pandas.core.frame.DataFrame'>\n",
      "RangeIndex: 891 entries, 0 to 890\n",
      "Data columns (total 12 columns):\n",
      " #   Column       Non-Null Count  Dtype  \n",
      "---  ------       --------------  -----  \n",
      " 0   PassengerId  891 non-null    int64  \n",
      " 1   Survived     891 non-null    int64  \n",
      " 2   Pclass       891 non-null    int64  \n",
      " 3   Name         891 non-null    object \n",
      " 4   Sex          891 non-null    object \n",
      " 5   Age          714 non-null    float64\n",
      " 6   SibSp        891 non-null    int64  \n",
      " 7   Parch        891 non-null    int64  \n",
      " 8   Ticket       891 non-null    object \n",
      " 9   Fare         891 non-null    float64\n",
      " 10  Cabin        204 non-null    object \n",
      " 11  Embarked     889 non-null    object \n",
      "dtypes: float64(2), int64(5), object(5)\n",
      "memory usage: 83.7+ KB\n"
     ]
    }
   ],
   "source": [
    "data.info()"
   ]
  },
  {
   "cell_type": "markdown",
   "id": "fc616445",
   "metadata": {},
   "source": [
    "## Here we can see that age of some people is not known NAN , we can either discard those rows or we can fill the mean or median age over there also known as data imputation"
   ]
  },
  {
   "cell_type": "code",
   "execution_count": 5,
   "id": "15a4dbd8",
   "metadata": {},
   "outputs": [],
   "source": [
    "# Irrelevant features to drop\n",
    "columns_to_drop = [\"PassengerId\",\"Name\",\"Ticket\",\"Cabin\",\"Embarked\"]"
   ]
  },
  {
   "cell_type": "code",
   "execution_count": 6,
   "id": "658e6949",
   "metadata": {},
   "outputs": [],
   "source": [
    "data_clean = data.drop(columns_to_drop,axis=1)"
   ]
  },
  {
   "cell_type": "code",
   "execution_count": 7,
   "id": "832d3c9c",
   "metadata": {},
   "outputs": [
    {
     "data": {
      "text/html": [
       "<div>\n",
       "<style scoped>\n",
       "    .dataframe tbody tr th:only-of-type {\n",
       "        vertical-align: middle;\n",
       "    }\n",
       "\n",
       "    .dataframe tbody tr th {\n",
       "        vertical-align: top;\n",
       "    }\n",
       "\n",
       "    .dataframe thead th {\n",
       "        text-align: right;\n",
       "    }\n",
       "</style>\n",
       "<table border=\"1\" class=\"dataframe\">\n",
       "  <thead>\n",
       "    <tr style=\"text-align: right;\">\n",
       "      <th></th>\n",
       "      <th>Survived</th>\n",
       "      <th>Pclass</th>\n",
       "      <th>Sex</th>\n",
       "      <th>Age</th>\n",
       "      <th>SibSp</th>\n",
       "      <th>Parch</th>\n",
       "      <th>Fare</th>\n",
       "    </tr>\n",
       "  </thead>\n",
       "  <tbody>\n",
       "    <tr>\n",
       "      <th>0</th>\n",
       "      <td>0</td>\n",
       "      <td>3</td>\n",
       "      <td>male</td>\n",
       "      <td>22.0</td>\n",
       "      <td>1</td>\n",
       "      <td>0</td>\n",
       "      <td>7.2500</td>\n",
       "    </tr>\n",
       "    <tr>\n",
       "      <th>1</th>\n",
       "      <td>1</td>\n",
       "      <td>1</td>\n",
       "      <td>female</td>\n",
       "      <td>38.0</td>\n",
       "      <td>1</td>\n",
       "      <td>0</td>\n",
       "      <td>71.2833</td>\n",
       "    </tr>\n",
       "    <tr>\n",
       "      <th>2</th>\n",
       "      <td>1</td>\n",
       "      <td>3</td>\n",
       "      <td>female</td>\n",
       "      <td>26.0</td>\n",
       "      <td>0</td>\n",
       "      <td>0</td>\n",
       "      <td>7.9250</td>\n",
       "    </tr>\n",
       "    <tr>\n",
       "      <th>3</th>\n",
       "      <td>1</td>\n",
       "      <td>1</td>\n",
       "      <td>female</td>\n",
       "      <td>35.0</td>\n",
       "      <td>1</td>\n",
       "      <td>0</td>\n",
       "      <td>53.1000</td>\n",
       "    </tr>\n",
       "    <tr>\n",
       "      <th>4</th>\n",
       "      <td>0</td>\n",
       "      <td>3</td>\n",
       "      <td>male</td>\n",
       "      <td>35.0</td>\n",
       "      <td>0</td>\n",
       "      <td>0</td>\n",
       "      <td>8.0500</td>\n",
       "    </tr>\n",
       "  </tbody>\n",
       "</table>\n",
       "</div>"
      ],
      "text/plain": [
       "   Survived  Pclass     Sex   Age  SibSp  Parch     Fare\n",
       "0         0       3    male  22.0      1      0   7.2500\n",
       "1         1       1  female  38.0      1      0  71.2833\n",
       "2         1       3  female  26.0      0      0   7.9250\n",
       "3         1       1  female  35.0      1      0  53.1000\n",
       "4         0       3    male  35.0      0      0   8.0500"
      ]
     },
     "execution_count": 7,
     "metadata": {},
     "output_type": "execute_result"
    }
   ],
   "source": [
    "data_clean.head()"
   ]
  },
  {
   "cell_type": "code",
   "execution_count": 8,
   "id": "c75b7f17",
   "metadata": {},
   "outputs": [],
   "source": [
    "from sklearn.preprocessing import LabelEncoder"
   ]
  },
  {
   "cell_type": "code",
   "execution_count": 9,
   "id": "f0a50f5f",
   "metadata": {},
   "outputs": [],
   "source": [
    "le = LabelEncoder()"
   ]
  },
  {
   "cell_type": "code",
   "execution_count": 10,
   "id": "d19b8291",
   "metadata": {},
   "outputs": [],
   "source": [
    "# Using label incoder for male and female\n",
    "data_clean[\"Sex\"] = le.fit_transform(data_clean[\"Sex\"])"
   ]
  },
  {
   "cell_type": "code",
   "execution_count": 11,
   "id": "0356f6b1",
   "metadata": {},
   "outputs": [
    {
     "data": {
      "text/html": [
       "<div>\n",
       "<style scoped>\n",
       "    .dataframe tbody tr th:only-of-type {\n",
       "        vertical-align: middle;\n",
       "    }\n",
       "\n",
       "    .dataframe tbody tr th {\n",
       "        vertical-align: top;\n",
       "    }\n",
       "\n",
       "    .dataframe thead th {\n",
       "        text-align: right;\n",
       "    }\n",
       "</style>\n",
       "<table border=\"1\" class=\"dataframe\">\n",
       "  <thead>\n",
       "    <tr style=\"text-align: right;\">\n",
       "      <th></th>\n",
       "      <th>Survived</th>\n",
       "      <th>Pclass</th>\n",
       "      <th>Sex</th>\n",
       "      <th>Age</th>\n",
       "      <th>SibSp</th>\n",
       "      <th>Parch</th>\n",
       "      <th>Fare</th>\n",
       "    </tr>\n",
       "  </thead>\n",
       "  <tbody>\n",
       "    <tr>\n",
       "      <th>0</th>\n",
       "      <td>0</td>\n",
       "      <td>3</td>\n",
       "      <td>1</td>\n",
       "      <td>22.0</td>\n",
       "      <td>1</td>\n",
       "      <td>0</td>\n",
       "      <td>7.2500</td>\n",
       "    </tr>\n",
       "    <tr>\n",
       "      <th>1</th>\n",
       "      <td>1</td>\n",
       "      <td>1</td>\n",
       "      <td>0</td>\n",
       "      <td>38.0</td>\n",
       "      <td>1</td>\n",
       "      <td>0</td>\n",
       "      <td>71.2833</td>\n",
       "    </tr>\n",
       "    <tr>\n",
       "      <th>2</th>\n",
       "      <td>1</td>\n",
       "      <td>3</td>\n",
       "      <td>0</td>\n",
       "      <td>26.0</td>\n",
       "      <td>0</td>\n",
       "      <td>0</td>\n",
       "      <td>7.9250</td>\n",
       "    </tr>\n",
       "    <tr>\n",
       "      <th>3</th>\n",
       "      <td>1</td>\n",
       "      <td>1</td>\n",
       "      <td>0</td>\n",
       "      <td>35.0</td>\n",
       "      <td>1</td>\n",
       "      <td>0</td>\n",
       "      <td>53.1000</td>\n",
       "    </tr>\n",
       "    <tr>\n",
       "      <th>4</th>\n",
       "      <td>0</td>\n",
       "      <td>3</td>\n",
       "      <td>1</td>\n",
       "      <td>35.0</td>\n",
       "      <td>0</td>\n",
       "      <td>0</td>\n",
       "      <td>8.0500</td>\n",
       "    </tr>\n",
       "    <tr>\n",
       "      <th>...</th>\n",
       "      <td>...</td>\n",
       "      <td>...</td>\n",
       "      <td>...</td>\n",
       "      <td>...</td>\n",
       "      <td>...</td>\n",
       "      <td>...</td>\n",
       "      <td>...</td>\n",
       "    </tr>\n",
       "    <tr>\n",
       "      <th>886</th>\n",
       "      <td>0</td>\n",
       "      <td>2</td>\n",
       "      <td>1</td>\n",
       "      <td>27.0</td>\n",
       "      <td>0</td>\n",
       "      <td>0</td>\n",
       "      <td>13.0000</td>\n",
       "    </tr>\n",
       "    <tr>\n",
       "      <th>887</th>\n",
       "      <td>1</td>\n",
       "      <td>1</td>\n",
       "      <td>0</td>\n",
       "      <td>19.0</td>\n",
       "      <td>0</td>\n",
       "      <td>0</td>\n",
       "      <td>30.0000</td>\n",
       "    </tr>\n",
       "    <tr>\n",
       "      <th>888</th>\n",
       "      <td>0</td>\n",
       "      <td>3</td>\n",
       "      <td>0</td>\n",
       "      <td>NaN</td>\n",
       "      <td>1</td>\n",
       "      <td>2</td>\n",
       "      <td>23.4500</td>\n",
       "    </tr>\n",
       "    <tr>\n",
       "      <th>889</th>\n",
       "      <td>1</td>\n",
       "      <td>1</td>\n",
       "      <td>1</td>\n",
       "      <td>26.0</td>\n",
       "      <td>0</td>\n",
       "      <td>0</td>\n",
       "      <td>30.0000</td>\n",
       "    </tr>\n",
       "    <tr>\n",
       "      <th>890</th>\n",
       "      <td>0</td>\n",
       "      <td>3</td>\n",
       "      <td>1</td>\n",
       "      <td>32.0</td>\n",
       "      <td>0</td>\n",
       "      <td>0</td>\n",
       "      <td>7.7500</td>\n",
       "    </tr>\n",
       "  </tbody>\n",
       "</table>\n",
       "<p>891 rows × 7 columns</p>\n",
       "</div>"
      ],
      "text/plain": [
       "     Survived  Pclass  Sex   Age  SibSp  Parch     Fare\n",
       "0           0       3    1  22.0      1      0   7.2500\n",
       "1           1       1    0  38.0      1      0  71.2833\n",
       "2           1       3    0  26.0      0      0   7.9250\n",
       "3           1       1    0  35.0      1      0  53.1000\n",
       "4           0       3    1  35.0      0      0   8.0500\n",
       "..        ...     ...  ...   ...    ...    ...      ...\n",
       "886         0       2    1  27.0      0      0  13.0000\n",
       "887         1       1    0  19.0      0      0  30.0000\n",
       "888         0       3    0   NaN      1      2  23.4500\n",
       "889         1       1    1  26.0      0      0  30.0000\n",
       "890         0       3    1  32.0      0      0   7.7500\n",
       "\n",
       "[891 rows x 7 columns]"
      ]
     },
     "execution_count": 11,
     "metadata": {},
     "output_type": "execute_result"
    }
   ],
   "source": [
    "data_clean #Now our whole data has only numeric values"
   ]
  },
  {
   "cell_type": "code",
   "execution_count": 12,
   "id": "a187f76f",
   "metadata": {},
   "outputs": [
    {
     "name": "stdout",
     "output_type": "stream",
     "text": [
      "<class 'pandas.core.frame.DataFrame'>\n",
      "RangeIndex: 891 entries, 0 to 890\n",
      "Data columns (total 7 columns):\n",
      " #   Column    Non-Null Count  Dtype  \n",
      "---  ------    --------------  -----  \n",
      " 0   Survived  891 non-null    int64  \n",
      " 1   Pclass    891 non-null    int64  \n",
      " 2   Sex       891 non-null    int32  \n",
      " 3   Age       714 non-null    float64\n",
      " 4   SibSp     891 non-null    int64  \n",
      " 5   Parch     891 non-null    int64  \n",
      " 6   Fare      891 non-null    float64\n",
      "dtypes: float64(2), int32(1), int64(4)\n",
      "memory usage: 45.4 KB\n"
     ]
    }
   ],
   "source": [
    "data_clean.info()"
   ]
  },
  {
   "cell_type": "code",
   "execution_count": 13,
   "id": "13778fca",
   "metadata": {},
   "outputs": [],
   "source": [
    "# We are going to fill in age in null values\n",
    "data_clean = data_clean.fillna(data_clean[\"Age\"].mean())"
   ]
  },
  {
   "cell_type": "code",
   "execution_count": 14,
   "id": "a81893fb",
   "metadata": {},
   "outputs": [
    {
     "name": "stdout",
     "output_type": "stream",
     "text": [
      "<class 'pandas.core.frame.DataFrame'>\n",
      "RangeIndex: 891 entries, 0 to 890\n",
      "Data columns (total 7 columns):\n",
      " #   Column    Non-Null Count  Dtype  \n",
      "---  ------    --------------  -----  \n",
      " 0   Survived  891 non-null    int64  \n",
      " 1   Pclass    891 non-null    int64  \n",
      " 2   Sex       891 non-null    int32  \n",
      " 3   Age       891 non-null    float64\n",
      " 4   SibSp     891 non-null    int64  \n",
      " 5   Parch     891 non-null    int64  \n",
      " 6   Fare      891 non-null    float64\n",
      "dtypes: float64(2), int32(1), int64(4)\n",
      "memory usage: 45.4 KB\n"
     ]
    }
   ],
   "source": [
    "data_clean.info()"
   ]
  },
  {
   "cell_type": "markdown",
   "id": "4a8740bb",
   "metadata": {},
   "source": [
    "# To access data in any row in pandas data frame we use .loc method , if it would have been a numpy array then we would have dairectly accesed but it would show error with pandas"
   ]
  },
  {
   "cell_type": "code",
   "execution_count": 15,
   "id": "4a67078b",
   "metadata": {},
   "outputs": [
    {
     "data": {
      "text/plain": [
       "Survived     1.000\n",
       "Pclass       3.000\n",
       "Sex          0.000\n",
       "Age         26.000\n",
       "SibSp        0.000\n",
       "Parch        0.000\n",
       "Fare         7.925\n",
       "Name: 2, dtype: float64"
      ]
     },
     "execution_count": 15,
     "metadata": {},
     "output_type": "execute_result"
    }
   ],
   "source": [
    "data_clean.loc[2]"
   ]
  },
  {
   "cell_type": "code",
   "execution_count": 16,
   "id": "3aa0d0d4",
   "metadata": {},
   "outputs": [
    {
     "name": "stdout",
     "output_type": "stream",
     "text": [
      "(891, 6) (891, 1)\n",
      "<class 'pandas.core.frame.DataFrame'>\n"
     ]
    }
   ],
   "source": [
    "input_cols = [\"Pclass\",\"Sex\",\"Age\",\"SibSp\",\"Parch\",\"Fare\"]\n",
    "out_cols = [\"Survived\"] \n",
    "\n",
    "X = data_clean[input_cols]\n",
    "Y = data_clean[out_cols]\n",
    "print(X.shape,Y.shape)\n",
    "print(type(X))"
   ]
  },
  {
   "cell_type": "markdown",
   "id": "5ddddfcd",
   "metadata": {},
   "source": [
    "# Defining Entropy and Informaion Gain"
   ]
  },
  {
   "cell_type": "code",
   "execution_count": 17,
   "id": "4b85e3fc",
   "metadata": {},
   "outputs": [],
   "source": [
    "def entropy(col):\n",
    "    \n",
    "    counts = np.unique(col,return_counts=True)\n",
    "    N = float(col.shape[0])\n",
    "    \n",
    "    ent = 0.0\n",
    "    for ix in counts[1]:\n",
    "        p = ix/N\n",
    "        ent += (-1.0*p*np.log2(p))\n",
    "    \n",
    "    return ent"
   ]
  },
  {
   "cell_type": "code",
   "execution_count": 18,
   "id": "0432cdc4",
   "metadata": {},
   "outputs": [
    {
     "name": "stdout",
     "output_type": "stream",
     "text": [
      "(array([0, 1]), array([2, 5], dtype=int64))\n"
     ]
    },
    {
     "data": {
      "text/plain": [
       "0.863120568566631"
      ]
     },
     "execution_count": 18,
     "metadata": {},
     "output_type": "execute_result"
    }
   ],
   "source": [
    "# Showing the working of entropy and count\n",
    "def entropyworking(col):\n",
    "    \n",
    "    counts = np.unique(col,return_counts=True)\n",
    "    N = float(col.shape[0])\n",
    "    \n",
    "    print(counts)\n",
    "    \n",
    "    ent = 0.0\n",
    "    for ix in counts[1]:\n",
    "        p = ix/N\n",
    "        ent += (-1.0*p*np.log2(p))\n",
    "    \n",
    "    return ent\n",
    "\n",
    "col = np.array([1,1,1,1,0,1,0])\n",
    "entropyworking(col)"
   ]
  },
  {
   "cell_type": "markdown",
   "id": "950f84d5",
   "metadata": {},
   "source": [
    "### The count shows that there are 0 and 1 having frequency of 2 and 5 respectively"
   ]
  },
  {
   "cell_type": "markdown",
   "id": "97c8febb",
   "metadata": {},
   "source": [
    "## Information Gain"
   ]
  },
  {
   "cell_type": "code",
   "execution_count": 19,
   "id": "fc369523",
   "metadata": {},
   "outputs": [],
   "source": [
    "def divide_data(x_data,fkey,fval):\n",
    "    #Working with pandas data frame\n",
    "    x_right = pd.DataFrame([],columns=x_data.columns)\n",
    "    x_left = pd.DataFrame([],columns=x_data.columns)\n",
    "    \n",
    "    for ix in range(x_data.shape[0]):\n",
    "        val = x_data[fkey].loc[ix]\n",
    "        \n",
    "        if val > fval:\n",
    "            x_right = x_right.append(x_data.loc[ix])\n",
    "        else:\n",
    "            x_left = x_left.append(x_data.loc[ix])\n",
    "        \n",
    "    return x_left,x_right"
   ]
  },
  {
   "cell_type": "code",
   "execution_count": 20,
   "id": "ae805ffa",
   "metadata": {},
   "outputs": [
    {
     "data": {
      "text/plain": [
       "(   Survived  Pclass  Sex   Age  SibSp  Parch     Fare\n",
       " 1       1.0     1.0  0.0  38.0    1.0    0.0  71.2833\n",
       " 2       1.0     3.0  0.0  26.0    0.0    0.0   7.9250\n",
       " 3       1.0     1.0  0.0  35.0    1.0    0.0  53.1000\n",
       " 8       1.0     3.0  0.0  27.0    0.0    2.0  11.1333\n",
       " 9       1.0     2.0  0.0  14.0    1.0    0.0  30.0708,\n",
       "    Survived  Pclass  Sex        Age  SibSp  Parch     Fare\n",
       " 0       0.0     3.0  1.0  22.000000    1.0    0.0   7.2500\n",
       " 4       0.0     3.0  1.0  35.000000    0.0    0.0   8.0500\n",
       " 5       0.0     3.0  1.0  29.699118    0.0    0.0   8.4583\n",
       " 6       0.0     1.0  1.0  54.000000    0.0    0.0  51.8625\n",
       " 7       0.0     3.0  1.0   2.000000    3.0    1.0  21.0750)"
      ]
     },
     "execution_count": 20,
     "metadata": {},
     "output_type": "execute_result"
    }
   ],
   "source": [
    "divide_data(data_clean[:10],'Sex',0.5)\n",
    "# 1 table is male and other is female and 0 to 1 so it will split along 0.5 , <0.5 -> female,>0.5->male"
   ]
  },
  {
   "cell_type": "code",
   "execution_count": 21,
   "id": "30cec2c3",
   "metadata": {},
   "outputs": [],
   "source": [
    "def information_gain(x_data,fkey,fval):\n",
    "    # Split the data\n",
    "    left,right = divide_data(x_data,fkey,fval)\n",
    "    # What % of sample are in left and right\n",
    "    l = float(left.shape[0]/x_data.shape[0])\n",
    "    r = float(left.shape[0]/x_data.shape[0])\n",
    "    \n",
    "    # If all examples come on same side\n",
    "    if left.shape[0] == 0 or right.shape[0] == 0:\n",
    "        return -100000 # Minimum Information gain\n",
    "    \n",
    "    i_gain = entropy(x_data.Survived) - (l*entropy(left.Survived)+r*entropy(right.Survived))\n",
    "    \n",
    "    return i_gain"
   ]
  },
  {
   "cell_type": "code",
   "execution_count": 22,
   "id": "20c749b7",
   "metadata": {},
   "outputs": [
    {
     "name": "stdout",
     "output_type": "stream",
     "text": [
      "Pclass\n",
      "0.1573920356922207\n",
      "Sex\n",
      "0.42404036540223167\n",
      "Age\n",
      "-0.25173487512760084\n",
      "SibSp\n",
      "-0.35398726412032466\n",
      "Parch\n",
      "-0.5062973044723461\n",
      "Fare\n",
      "-0.4698060795017941\n"
     ]
    }
   ],
   "source": [
    "# Test our function\n",
    "for fx in X.columns:\n",
    "    print(fx)\n",
    "    print(information_gain(data_clean,fx,data_clean[fx].mean()))"
   ]
  },
  {
   "cell_type": "markdown",
   "id": "39390e1a",
   "metadata": {},
   "source": [
    "## Sex provides most information gain"
   ]
  },
  {
   "cell_type": "markdown",
   "id": "c85ee12f",
   "metadata": {},
   "source": [
    "## We would impliment Decision tree using class , we would restrict the depth as more depth would reduce the accuracy over the testing although it would be trained godd and would also have nodes which are unnecessary or less information gain, Post Proning - removal of less information gain nodes. We would do early stopping by restriction the depth"
   ]
  },
  {
   "cell_type": "code",
   "execution_count": 23,
   "id": "e97bfe96",
   "metadata": {},
   "outputs": [],
   "source": [
    "class DecisionTree:\n",
    "    # Constructor\n",
    "    def __init__(self,depth=0,max_depth=5):   # Now going in more depth like 5\n",
    "        self.left = None\n",
    "        self.right = None\n",
    "        self.fkey = None\n",
    "        self.fval = None\n",
    "        self.max_depth = max_depth\n",
    "        self.depth = depth\n",
    "        self.target = None\n",
    "    \n",
    "    def train(self,X_train):\n",
    "        features = [\"Pclass\",\"Sex\",\"Age\",\"SibSp\",\"Parch\",\"Fare\"]\n",
    "        info_gains = []\n",
    "        \n",
    "        for ix in features:\n",
    "            i_gain = information_gain(X_train,ix,X_train[ix].mean())\n",
    "            info_gains.append(i_gain)\n",
    "            \n",
    "        self.fkey = features[np.argmax(info_gains)]\n",
    "        self.fval = X_train[self.fkey].mean()\n",
    "        print(\"Making Tree Features is : \",self.fkey)\n",
    "        \n",
    "        # Split Data\n",
    "        data_left,data_right = divide_data(X_train,self.fkey,self.fval)\n",
    "        data_left = data_left.reset_index(drop=True) # Suppose our node has 1,2,3,4,5 reows and 1,3,5 belong to left so they need to be 1,2,3 in left not as 1,3,5\n",
    "        data_right = data_right.reset_index(drop=True)\n",
    "        \n",
    "        # If we get 0 exaples in 1 side\n",
    "        if data_left.shape[0] == 0 or data_right.shape[0]==0:\n",
    "            if X_train.Survived.mean() >= 0.5:\n",
    "                self.target = \"Survive\"\n",
    "            else:\n",
    "                self.target = \"Dead\"\n",
    "            return\n",
    "        \n",
    "        #For early depth\n",
    "        if(self.depth>=self.max_depth):\n",
    "            if X_train.Survived.mean() >= 0.5:\n",
    "                self.target = \"Survive\"\n",
    "            else:\n",
    "                self.target = \"Dead\"\n",
    "            return\n",
    "        \n",
    "        # Now the recursive case\n",
    "        self.left = DecisionTree(depth = self.depth+1,max_depth=self.max_depth)\n",
    "        self.left.train(data_left)\n",
    "        \n",
    "        self.right = DecisionTree(depth = self.depth+1,max_depth=self.max_depth)\n",
    "        self.right.train(data_right)\n",
    "        \n",
    "        # We can set the target at every node\n",
    "        if X_train.Survived.mean() >= 0.5:\n",
    "            self.target = \"Survive\"\n",
    "        else:\n",
    "            self.target = \"Dead\"\n",
    "        return\n",
    "    \n",
    "    # Making prediction function\n",
    "    def predict(self,test):\n",
    "        if test[self.fkey]>self.fval:\n",
    "            # go to right\n",
    "            if self.right is None:\n",
    "                return self.target\n",
    "            return self.right.predict(test)\n",
    "        else:\n",
    "            if self.left is None:\n",
    "                return self.target\n",
    "            return self.left.predict(test)\n",
    "            "
   ]
  },
  {
   "cell_type": "code",
   "execution_count": 24,
   "id": "0c95c834",
   "metadata": {},
   "outputs": [
    {
     "name": "stdout",
     "output_type": "stream",
     "text": [
      "Making Tree Features is :  Sex\n",
      "Making Tree Features is :  Pclass\n",
      "Making Tree Features is :  Age\n",
      "Making Tree Features is :  Age\n",
      "Making Tree Features is :  Parch\n",
      "Making Tree Features is :  Pclass\n",
      "Making Tree Features is :  Parch\n",
      "Making Tree Features is :  Age\n",
      "Making Tree Features is :  Pclass\n",
      "Making Tree Features is :  Pclass\n",
      "Making Tree Features is :  Fare\n",
      "Making Tree Features is :  Pclass\n",
      "Making Tree Features is :  Fare\n",
      "Making Tree Features is :  Parch\n",
      "Making Tree Features is :  Age\n",
      "Making Tree Features is :  Age\n",
      "Making Tree Features is :  Age\n",
      "Making Tree Features is :  Age\n",
      "Making Tree Features is :  Age\n",
      "Making Tree Features is :  SibSp\n",
      "Making Tree Features is :  Fare\n",
      "Making Tree Features is :  Age\n",
      "Making Tree Features is :  Age\n",
      "Making Tree Features is :  Age\n",
      "Making Tree Features is :  Age\n",
      "Making Tree Features is :  SibSp\n",
      "Making Tree Features is :  Age\n",
      "Making Tree Features is :  Age\n",
      "Making Tree Features is :  Parch\n",
      "Making Tree Features is :  Fare\n",
      "Making Tree Features is :  SibSp\n",
      "Making Tree Features is :  Fare\n",
      "Making Tree Features is :  Pclass\n",
      "Making Tree Features is :  Pclass\n",
      "Making Tree Features is :  Age\n",
      "Making Tree Features is :  Age\n",
      "Making Tree Features is :  Age\n",
      "Making Tree Features is :  Age\n",
      "Making Tree Features is :  Age\n",
      "Making Tree Features is :  Age\n",
      "Making Tree Features is :  Age\n",
      "Making Tree Features is :  Age\n",
      "Making Tree Features is :  Age\n",
      "Making Tree Features is :  Age\n",
      "Making Tree Features is :  Age\n",
      "Making Tree Features is :  Parch\n",
      "Making Tree Features is :  Age\n",
      "Making Tree Features is :  Age\n",
      "Making Tree Features is :  Age\n",
      "Making Tree Features is :  Age\n",
      "Making Tree Features is :  Parch\n",
      "Making Tree Features is :  Age\n",
      "Making Tree Features is :  SibSp\n",
      "Making Tree Features is :  Age\n",
      "Making Tree Features is :  Parch\n",
      "Making Tree Features is :  Parch\n",
      "Making Tree Features is :  Age\n",
      "Making Tree Features is :  Fare\n",
      "Making Tree Features is :  Fare\n",
      "Making Tree Features is :  Fare\n",
      "Making Tree Features is :  Fare\n",
      "Making Tree Features is :  Fare\n",
      "Making Tree Features is :  Age\n"
     ]
    }
   ],
   "source": [
    "d=DecisionTree()\n",
    "d.train(data_clean)"
   ]
  },
  {
   "cell_type": "markdown",
   "id": "e6815112",
   "metadata": {},
   "source": [
    "# Train-Validate-Test Set Split"
   ]
  },
  {
   "cell_type": "code",
   "execution_count": 25,
   "id": "97dc948e",
   "metadata": {},
   "outputs": [],
   "source": [
    "split = int(0.7*data_clean.shape[0])\n",
    "train_data = data_clean[:split]\n",
    "test_data = data_clean[split:]\n",
    "test_data = test_data.reset_index(drop=True)\n"
   ]
  },
  {
   "cell_type": "code",
   "execution_count": 26,
   "id": "0b134851",
   "metadata": {},
   "outputs": [
    {
     "name": "stdout",
     "output_type": "stream",
     "text": [
      "(623, 7) (268, 7)\n"
     ]
    }
   ],
   "source": [
    "print(train_data.shape,test_data.shape)"
   ]
  },
  {
   "cell_type": "code",
   "execution_count": 27,
   "id": "5be5aa3a",
   "metadata": {},
   "outputs": [
    {
     "name": "stdout",
     "output_type": "stream",
     "text": [
      "Making Tree Features is :  Sex\n",
      "Making Tree Features is :  Pclass\n",
      "Making Tree Features is :  Age\n",
      "Making Tree Features is :  Age\n",
      "Making Tree Features is :  Age\n",
      "Making Tree Features is :  SibSp\n",
      "Making Tree Features is :  Pclass\n",
      "Making Tree Features is :  Age\n",
      "Making Tree Features is :  Pclass\n",
      "Making Tree Features is :  Pclass\n",
      "Making Tree Features is :  SibSp\n",
      "Making Tree Features is :  Fare\n",
      "Making Tree Features is :  Pclass\n",
      "Making Tree Features is :  Age\n",
      "Making Tree Features is :  Pclass\n",
      "Making Tree Features is :  Age\n",
      "Making Tree Features is :  Age\n",
      "Making Tree Features is :  Age\n",
      "Making Tree Features is :  Age\n",
      "Making Tree Features is :  SibSp\n",
      "Making Tree Features is :  SibSp\n",
      "Making Tree Features is :  Age\n",
      "Making Tree Features is :  Age\n",
      "Making Tree Features is :  Fare\n",
      "Making Tree Features is :  Age\n",
      "Making Tree Features is :  SibSp\n",
      "Making Tree Features is :  Age\n",
      "Making Tree Features is :  Age\n",
      "Making Tree Features is :  Age\n",
      "Making Tree Features is :  Parch\n",
      "Making Tree Features is :  SibSp\n",
      "Making Tree Features is :  SibSp\n",
      "Making Tree Features is :  Pclass\n",
      "Making Tree Features is :  Pclass\n",
      "Making Tree Features is :  Age\n",
      "Making Tree Features is :  Age\n",
      "Making Tree Features is :  Age\n",
      "Making Tree Features is :  Age\n",
      "Making Tree Features is :  Age\n",
      "Making Tree Features is :  Parch\n",
      "Making Tree Features is :  Age\n",
      "Making Tree Features is :  Age\n",
      "Making Tree Features is :  Age\n",
      "Making Tree Features is :  Age\n",
      "Making Tree Features is :  Age\n",
      "Making Tree Features is :  Parch\n",
      "Making Tree Features is :  Fare\n",
      "Making Tree Features is :  Age\n",
      "Making Tree Features is :  Age\n",
      "Making Tree Features is :  Age\n",
      "Making Tree Features is :  Parch\n",
      "Making Tree Features is :  Age\n",
      "Making Tree Features is :  SibSp\n",
      "Making Tree Features is :  Age\n",
      "Making Tree Features is :  Age\n",
      "Making Tree Features is :  Parch\n",
      "Making Tree Features is :  Age\n",
      "Making Tree Features is :  SibSp\n",
      "Making Tree Features is :  Fare\n",
      "Making Tree Features is :  SibSp\n",
      "Making Tree Features is :  Parch\n",
      "Making Tree Features is :  Fare\n",
      "Making Tree Features is :  Age\n"
     ]
    }
   ],
   "source": [
    "dt = DecisionTree()\n",
    "dt.train(train_data)"
   ]
  },
  {
   "cell_type": "code",
   "execution_count": 28,
   "id": "7caeb2f1",
   "metadata": {},
   "outputs": [
    {
     "name": "stdout",
     "output_type": "stream",
     "text": [
      "Sex\n",
      "0.6475869809203143\n"
     ]
    }
   ],
   "source": [
    "print(dt.fkey)\n",
    "print(d.fval)"
   ]
  },
  {
   "cell_type": "code",
   "execution_count": 29,
   "id": "a9dce9fa",
   "metadata": {},
   "outputs": [
    {
     "name": "stdout",
     "output_type": "stream",
     "text": [
      "Pclass\n",
      "Pclass\n"
     ]
    }
   ],
   "source": [
    "print(dt.left.fkey)\n",
    "print(d.right.fkey)"
   ]
  },
  {
   "cell_type": "code",
   "execution_count": 30,
   "id": "b327db7a",
   "metadata": {},
   "outputs": [],
   "source": [
    "y_pred = []\n",
    "for ix in range(test_data.shape[0]):\n",
    "    y_pred.append(dt.predict(test_data.loc[ix]))"
   ]
  },
  {
   "cell_type": "code",
   "execution_count": 31,
   "id": "1df2b545",
   "metadata": {},
   "outputs": [
    {
     "data": {
      "text/plain": [
       "['Dead',\n",
       " 'Dead',\n",
       " 'Dead',\n",
       " 'Dead',\n",
       " 'Survive',\n",
       " 'Dead',\n",
       " 'Dead',\n",
       " 'Dead',\n",
       " 'Dead',\n",
       " 'Dead',\n",
       " 'Dead',\n",
       " 'Dead',\n",
       " 'Survive',\n",
       " 'Dead',\n",
       " 'Dead',\n",
       " 'Dead',\n",
       " 'Dead',\n",
       " 'Dead',\n",
       " 'Survive',\n",
       " 'Dead',\n",
       " 'Dead',\n",
       " 'Dead',\n",
       " 'Dead',\n",
       " 'Dead',\n",
       " 'Dead',\n",
       " 'Dead',\n",
       " 'Survive',\n",
       " 'Dead',\n",
       " 'Survive',\n",
       " 'Dead',\n",
       " 'Survive',\n",
       " 'Survive',\n",
       " 'Dead',\n",
       " 'Dead',\n",
       " 'Dead',\n",
       " 'Dead',\n",
       " 'Dead',\n",
       " 'Dead',\n",
       " 'Dead',\n",
       " 'Dead',\n",
       " 'Dead',\n",
       " 'Dead',\n",
       " 'Dead',\n",
       " 'Dead',\n",
       " 'Dead',\n",
       " 'Dead',\n",
       " 'Survive',\n",
       " 'Survive',\n",
       " 'Dead',\n",
       " 'Dead',\n",
       " 'Dead',\n",
       " 'Dead',\n",
       " 'Dead',\n",
       " 'Dead',\n",
       " 'Survive',\n",
       " 'Dead',\n",
       " 'Dead',\n",
       " 'Survive',\n",
       " 'Survive',\n",
       " 'Dead',\n",
       " 'Dead',\n",
       " 'Dead',\n",
       " 'Dead',\n",
       " 'Dead',\n",
       " 'Dead',\n",
       " 'Dead',\n",
       " 'Survive',\n",
       " 'Dead',\n",
       " 'Survive',\n",
       " 'Dead',\n",
       " 'Dead',\n",
       " 'Dead',\n",
       " 'Dead',\n",
       " 'Dead',\n",
       " 'Survive',\n",
       " 'Dead',\n",
       " 'Dead',\n",
       " 'Survive',\n",
       " 'Dead',\n",
       " 'Survive',\n",
       " 'Dead',\n",
       " 'Dead',\n",
       " 'Dead',\n",
       " 'Survive',\n",
       " 'Dead',\n",
       " 'Survive',\n",
       " 'Dead',\n",
       " 'Survive',\n",
       " 'Dead',\n",
       " 'Dead',\n",
       " 'Dead',\n",
       " 'Dead',\n",
       " 'Dead',\n",
       " 'Survive',\n",
       " 'Survive',\n",
       " 'Dead',\n",
       " 'Dead',\n",
       " 'Survive',\n",
       " 'Dead',\n",
       " 'Dead',\n",
       " 'Dead',\n",
       " 'Survive',\n",
       " 'Dead',\n",
       " 'Survive',\n",
       " 'Survive',\n",
       " 'Dead',\n",
       " 'Survive',\n",
       " 'Survive',\n",
       " 'Dead',\n",
       " 'Dead',\n",
       " 'Dead',\n",
       " 'Dead',\n",
       " 'Dead',\n",
       " 'Dead',\n",
       " 'Dead',\n",
       " 'Dead',\n",
       " 'Dead',\n",
       " 'Dead',\n",
       " 'Dead',\n",
       " 'Survive',\n",
       " 'Dead',\n",
       " 'Dead',\n",
       " 'Dead',\n",
       " 'Dead',\n",
       " 'Survive',\n",
       " 'Survive',\n",
       " 'Dead',\n",
       " 'Survive',\n",
       " 'Dead',\n",
       " 'Dead',\n",
       " 'Dead',\n",
       " 'Survive',\n",
       " 'Dead',\n",
       " 'Dead',\n",
       " 'Dead',\n",
       " 'Dead',\n",
       " 'Survive',\n",
       " 'Dead',\n",
       " 'Dead',\n",
       " 'Dead',\n",
       " 'Survive',\n",
       " 'Dead',\n",
       " 'Survive',\n",
       " 'Dead',\n",
       " 'Survive',\n",
       " 'Dead',\n",
       " 'Dead',\n",
       " 'Dead',\n",
       " 'Dead',\n",
       " 'Survive',\n",
       " 'Dead',\n",
       " 'Survive',\n",
       " 'Dead',\n",
       " 'Dead',\n",
       " 'Survive',\n",
       " 'Dead',\n",
       " 'Survive',\n",
       " 'Survive',\n",
       " 'Survive',\n",
       " 'Dead',\n",
       " 'Dead',\n",
       " 'Dead',\n",
       " 'Dead',\n",
       " 'Survive',\n",
       " 'Dead',\n",
       " 'Dead',\n",
       " 'Dead',\n",
       " 'Dead',\n",
       " 'Dead',\n",
       " 'Dead',\n",
       " 'Dead',\n",
       " 'Dead',\n",
       " 'Dead',\n",
       " 'Survive',\n",
       " 'Survive',\n",
       " 'Dead',\n",
       " 'Dead',\n",
       " 'Dead',\n",
       " 'Survive',\n",
       " 'Survive',\n",
       " 'Dead',\n",
       " 'Dead',\n",
       " 'Dead',\n",
       " 'Dead',\n",
       " 'Survive',\n",
       " 'Dead',\n",
       " 'Survive',\n",
       " 'Dead',\n",
       " 'Dead',\n",
       " 'Dead',\n",
       " 'Dead',\n",
       " 'Dead',\n",
       " 'Dead',\n",
       " 'Survive',\n",
       " 'Dead',\n",
       " 'Dead',\n",
       " 'Dead',\n",
       " 'Survive',\n",
       " 'Dead',\n",
       " 'Dead',\n",
       " 'Survive',\n",
       " 'Dead',\n",
       " 'Dead',\n",
       " 'Dead',\n",
       " 'Dead',\n",
       " 'Dead',\n",
       " 'Survive',\n",
       " 'Survive',\n",
       " 'Dead',\n",
       " 'Dead',\n",
       " 'Dead',\n",
       " 'Dead',\n",
       " 'Survive',\n",
       " 'Dead',\n",
       " 'Dead',\n",
       " 'Dead',\n",
       " 'Dead',\n",
       " 'Dead',\n",
       " 'Dead',\n",
       " 'Survive',\n",
       " 'Dead',\n",
       " 'Dead',\n",
       " 'Dead',\n",
       " 'Dead',\n",
       " 'Dead',\n",
       " 'Dead',\n",
       " 'Survive',\n",
       " 'Dead',\n",
       " 'Dead',\n",
       " 'Survive',\n",
       " 'Survive',\n",
       " 'Survive',\n",
       " 'Survive',\n",
       " 'Survive',\n",
       " 'Dead',\n",
       " 'Survive',\n",
       " 'Dead',\n",
       " 'Dead',\n",
       " 'Dead',\n",
       " 'Survive',\n",
       " 'Dead',\n",
       " 'Dead',\n",
       " 'Survive',\n",
       " 'Survive',\n",
       " 'Dead',\n",
       " 'Dead',\n",
       " 'Dead',\n",
       " 'Dead',\n",
       " 'Survive',\n",
       " 'Dead',\n",
       " 'Dead',\n",
       " 'Survive',\n",
       " 'Survive',\n",
       " 'Dead',\n",
       " 'Dead',\n",
       " 'Dead',\n",
       " 'Survive',\n",
       " 'Survive',\n",
       " 'Dead',\n",
       " 'Survive',\n",
       " 'Dead',\n",
       " 'Dead',\n",
       " 'Dead',\n",
       " 'Dead',\n",
       " 'Survive',\n",
       " 'Dead',\n",
       " 'Survive',\n",
       " 'Dead']"
      ]
     },
     "execution_count": 31,
     "metadata": {},
     "output_type": "execute_result"
    }
   ],
   "source": [
    "y_pred"
   ]
  },
  {
   "cell_type": "code",
   "execution_count": 32,
   "id": "43d14e25",
   "metadata": {},
   "outputs": [],
   "source": [
    "y_actual = test_data[out_cols]"
   ]
  },
  {
   "cell_type": "code",
   "execution_count": 33,
   "id": "bf120f74",
   "metadata": {},
   "outputs": [
    {
     "data": {
      "text/html": [
       "<div>\n",
       "<style scoped>\n",
       "    .dataframe tbody tr th:only-of-type {\n",
       "        vertical-align: middle;\n",
       "    }\n",
       "\n",
       "    .dataframe tbody tr th {\n",
       "        vertical-align: top;\n",
       "    }\n",
       "\n",
       "    .dataframe thead th {\n",
       "        text-align: right;\n",
       "    }\n",
       "</style>\n",
       "<table border=\"1\" class=\"dataframe\">\n",
       "  <thead>\n",
       "    <tr style=\"text-align: right;\">\n",
       "      <th></th>\n",
       "      <th>Survived</th>\n",
       "    </tr>\n",
       "  </thead>\n",
       "  <tbody>\n",
       "    <tr>\n",
       "      <th>0</th>\n",
       "      <td>0</td>\n",
       "    </tr>\n",
       "    <tr>\n",
       "      <th>1</th>\n",
       "      <td>0</td>\n",
       "    </tr>\n",
       "    <tr>\n",
       "      <th>2</th>\n",
       "      <td>0</td>\n",
       "    </tr>\n",
       "    <tr>\n",
       "      <th>3</th>\n",
       "      <td>0</td>\n",
       "    </tr>\n",
       "    <tr>\n",
       "      <th>4</th>\n",
       "      <td>1</td>\n",
       "    </tr>\n",
       "    <tr>\n",
       "      <th>...</th>\n",
       "      <td>...</td>\n",
       "    </tr>\n",
       "    <tr>\n",
       "      <th>263</th>\n",
       "      <td>0</td>\n",
       "    </tr>\n",
       "    <tr>\n",
       "      <th>264</th>\n",
       "      <td>1</td>\n",
       "    </tr>\n",
       "    <tr>\n",
       "      <th>265</th>\n",
       "      <td>0</td>\n",
       "    </tr>\n",
       "    <tr>\n",
       "      <th>266</th>\n",
       "      <td>1</td>\n",
       "    </tr>\n",
       "    <tr>\n",
       "      <th>267</th>\n",
       "      <td>0</td>\n",
       "    </tr>\n",
       "  </tbody>\n",
       "</table>\n",
       "<p>268 rows × 1 columns</p>\n",
       "</div>"
      ],
      "text/plain": [
       "     Survived\n",
       "0           0\n",
       "1           0\n",
       "2           0\n",
       "3           0\n",
       "4           1\n",
       "..        ...\n",
       "263         0\n",
       "264         1\n",
       "265         0\n",
       "266         1\n",
       "267         0\n",
       "\n",
       "[268 rows x 1 columns]"
      ]
     },
     "execution_count": 33,
     "metadata": {},
     "output_type": "execute_result"
    }
   ],
   "source": [
    "y_actual"
   ]
  },
  {
   "cell_type": "code",
   "execution_count": 34,
   "id": "9a01f315",
   "metadata": {},
   "outputs": [],
   "source": [
    "le = LabelEncoder()\n",
    "y_pred = le.fit_transform(y_pred)"
   ]
  },
  {
   "cell_type": "code",
   "execution_count": 35,
   "id": "81f4044d",
   "metadata": {},
   "outputs": [
    {
     "name": "stdout",
     "output_type": "stream",
     "text": [
      "[0 0 0 0 1 0 0 0 0 0 0 0 1 0 0 0 0 0 1 0 0 0 0 0 0 0 1 0 1 0 1 1 0 0 0 0 0\n",
      " 0 0 0 0 0 0 0 0 0 1 1 0 0 0 0 0 0 1 0 0 1 1 0 0 0 0 0 0 0 1 0 1 0 0 0 0 0\n",
      " 1 0 0 1 0 1 0 0 0 1 0 1 0 1 0 0 0 0 0 1 1 0 0 1 0 0 0 1 0 1 1 0 1 1 0 0 0\n",
      " 0 0 0 0 0 0 0 0 1 0 0 0 0 1 1 0 1 0 0 0 1 0 0 0 0 1 0 0 0 1 0 1 0 1 0 0 0\n",
      " 0 1 0 1 0 0 1 0 1 1 1 0 0 0 0 1 0 0 0 0 0 0 0 0 0 1 1 0 0 0 1 1 0 0 0 0 1\n",
      " 0 1 0 0 0 0 0 0 1 0 0 0 1 0 0 1 0 0 0 0 0 1 1 0 0 0 0 1 0 0 0 0 0 0 1 0 0\n",
      " 0 0 0 0 1 0 0 1 1 1 1 1 0 1 0 0 0 1 0 0 1 1 0 0 0 0 1 0 0 1 1 0 0 0 1 1 0\n",
      " 1 0 0 0 0 1 0 1 0]\n"
     ]
    }
   ],
   "source": [
    "print(y_pred)"
   ]
  },
  {
   "cell_type": "code",
   "execution_count": 36,
   "id": "84105593",
   "metadata": {},
   "outputs": [
    {
     "name": "stdout",
     "output_type": "stream",
     "text": [
      "(268,) (268, 1)\n"
     ]
    }
   ],
   "source": [
    "print(y_pred.shape,y_actual.shape)"
   ]
  },
  {
   "cell_type": "code",
   "execution_count": 37,
   "id": "f7c28946",
   "metadata": {},
   "outputs": [],
   "source": [
    "y_pred = np.array(y_pred).reshape((-1,1))"
   ]
  },
  {
   "cell_type": "code",
   "execution_count": 38,
   "id": "be8045f4",
   "metadata": {},
   "outputs": [
    {
     "name": "stdout",
     "output_type": "stream",
     "text": [
      "(268, 1)\n"
     ]
    }
   ],
   "source": [
    "print(y_pred.shape)"
   ]
  },
  {
   "cell_type": "code",
   "execution_count": 39,
   "id": "daa9c948",
   "metadata": {},
   "outputs": [],
   "source": [
    "acc = np.sum(y_pred == y_actual)/y_pred.shape[0]"
   ]
  },
  {
   "cell_type": "code",
   "execution_count": 40,
   "id": "7147dd4a",
   "metadata": {},
   "outputs": [
    {
     "name": "stdout",
     "output_type": "stream",
     "text": [
      "Survived    0.83209\n",
      "dtype: float64\n"
     ]
    }
   ],
   "source": [
    "print(acc)"
   ]
  },
  {
   "cell_type": "markdown",
   "id": "048a529f",
   "metadata": {},
   "source": [
    "# Decision Trees using sklearn"
   ]
  },
  {
   "cell_type": "code",
   "execution_count": 41,
   "id": "3f24d036",
   "metadata": {},
   "outputs": [],
   "source": [
    "from sklearn.tree import DecisionTreeClassifier"
   ]
  },
  {
   "cell_type": "code",
   "execution_count": 42,
   "id": "f71bd631",
   "metadata": {},
   "outputs": [],
   "source": [
    "sk_tree = DecisionTreeClassifier(criterion='entropy',max_depth=5) # by default its gini index which is again one mathematical function replacing entropy"
   ]
  },
  {
   "cell_type": "code",
   "execution_count": 43,
   "id": "845dc291",
   "metadata": {},
   "outputs": [
    {
     "data": {
      "text/plain": [
       "DecisionTreeClassifier(criterion='entropy', max_depth=5)"
      ]
     },
     "execution_count": 43,
     "metadata": {},
     "output_type": "execute_result"
    }
   ],
   "source": [
    "sk_tree.fit(train_data[input_cols],train_data[out_cols])"
   ]
  },
  {
   "cell_type": "code",
   "execution_count": 44,
   "id": "d8f9aa01",
   "metadata": {},
   "outputs": [
    {
     "data": {
      "text/plain": [
       "array([0, 0, 0, 0, 1, 0, 0, 0, 0, 0, 0, 0, 1, 0, 0, 0, 0, 0, 1, 0, 0, 1,\n",
       "       0, 0, 0, 0, 1, 0, 1, 0, 1, 1, 0, 0, 1, 0, 0, 0, 0, 0, 0, 0, 0, 0,\n",
       "       0, 0, 1, 1, 0, 0, 0, 0, 0, 0, 1, 0, 0, 1, 0, 0, 0, 0, 0, 0, 0, 0,\n",
       "       1, 0, 1, 0, 0, 0, 0, 0, 1, 0, 0, 1, 0, 1, 0, 0, 0, 1, 0, 1, 0, 1,\n",
       "       0, 0, 0, 0, 0, 1, 0, 0, 0, 1, 0, 0, 0, 0, 0, 1, 1, 0, 1, 1, 1, 0,\n",
       "       0, 0, 0, 0, 0, 0, 0, 0, 0, 1, 0, 0, 0, 0, 1, 0, 0, 1, 1, 0, 0, 1,\n",
       "       1, 0, 0, 0, 1, 0, 0, 0, 1, 0, 1, 0, 1, 0, 0, 0, 0, 1, 0, 1, 0, 0,\n",
       "       1, 0, 1, 1, 1, 0, 0, 0, 0, 1, 0, 1, 0, 0, 0, 0, 0, 0, 0, 1, 1, 0,\n",
       "       1, 0, 1, 1, 1, 0, 0, 0, 1, 0, 1, 0, 0, 0, 0, 0, 0, 1, 0, 0, 0, 1,\n",
       "       0, 0, 1, 0, 0, 0, 1, 0, 1, 1, 1, 0, 0, 0, 1, 0, 0, 0, 0, 0, 0, 1,\n",
       "       0, 0, 0, 0, 0, 0, 1, 0, 0, 1, 1, 1, 1, 1, 0, 1, 0, 0, 0, 1, 0, 0,\n",
       "       1, 0, 0, 0, 1, 0, 1, 0, 0, 1, 1, 0, 0, 0, 1, 0, 0, 1, 0, 0, 0, 0,\n",
       "       1, 1, 0, 0], dtype=int64)"
      ]
     },
     "execution_count": 44,
     "metadata": {},
     "output_type": "execute_result"
    }
   ],
   "source": [
    "sk_tree.predict(test_data[input_cols])"
   ]
  },
  {
   "cell_type": "code",
   "execution_count": 45,
   "id": "fdd15571",
   "metadata": {},
   "outputs": [
    {
     "data": {
      "text/plain": [
       "0.8283582089552238"
      ]
     },
     "execution_count": 45,
     "metadata": {},
     "output_type": "execute_result"
    }
   ],
   "source": [
    "sk_tree.score(test_data[input_cols],test_data[out_cols])"
   ]
  },
  {
   "cell_type": "markdown",
   "id": "ab6d3358",
   "metadata": {},
   "source": [
    "# Graph Visualization of Decision tree"
   ]
  },
  {
   "cell_type": "code",
   "execution_count": 46,
   "id": "d7b342ff",
   "metadata": {},
   "outputs": [],
   "source": [
    "import pydotplus"
   ]
  },
  {
   "cell_type": "code",
   "execution_count": 49,
   "id": "a377e2fe",
   "metadata": {},
   "outputs": [],
   "source": [
    "import six\n",
    "import sys\n",
    "sys.modules['sklearn.externals.six'] = six"
   ]
  },
  {
   "cell_type": "code",
   "execution_count": 50,
   "id": "c1872d55",
   "metadata": {},
   "outputs": [],
   "source": [
    "from sklearn.externals.six import StringIO\n",
    "from IPython.display import Image\n",
    "from sklearn.tree import export_graphviz"
   ]
  },
  {
   "cell_type": "code",
   "execution_count": 51,
   "id": "cf4dee35",
   "metadata": {},
   "outputs": [],
   "source": [
    "dot_data = StringIO()\n",
    "export_graphviz(sk_tree,out_file=dot_data,filled=True,rounded=True)"
   ]
  },
  {
   "cell_type": "code",
   "execution_count": 52,
   "id": "63d1913c",
   "metadata": {},
   "outputs": [
    {
     "ename": "InvocationException",
     "evalue": "GraphViz's executables not found",
     "output_type": "error",
     "traceback": [
      "\u001b[1;31m---------------------------------------------------------------------------\u001b[0m",
      "\u001b[1;31mInvocationException\u001b[0m                       Traceback (most recent call last)",
      "\u001b[1;32m<ipython-input-52-9c8769a81553>\u001b[0m in \u001b[0;36m<module>\u001b[1;34m\u001b[0m\n\u001b[0;32m      1\u001b[0m \u001b[0mgraph\u001b[0m \u001b[1;33m=\u001b[0m \u001b[0mpydotplus\u001b[0m\u001b[1;33m.\u001b[0m\u001b[0mgraph_from_dot_data\u001b[0m\u001b[1;33m(\u001b[0m\u001b[0mdot_data\u001b[0m\u001b[1;33m.\u001b[0m\u001b[0mgetvalue\u001b[0m\u001b[1;33m(\u001b[0m\u001b[1;33m)\u001b[0m\u001b[1;33m)\u001b[0m\u001b[1;33m\u001b[0m\u001b[1;33m\u001b[0m\u001b[0m\n\u001b[1;32m----> 2\u001b[1;33m \u001b[0mImage\u001b[0m\u001b[1;33m(\u001b[0m\u001b[0mgraph\u001b[0m\u001b[1;33m.\u001b[0m\u001b[0mcreate_png\u001b[0m\u001b[1;33m(\u001b[0m\u001b[1;33m)\u001b[0m\u001b[1;33m)\u001b[0m\u001b[1;33m\u001b[0m\u001b[1;33m\u001b[0m\u001b[0m\n\u001b[0m",
      "\u001b[1;32mc:\\users\\aanan\\appdata\\local\\programs\\python\\python39\\lib\\site-packages\\pydotplus\\graphviz.py\u001b[0m in \u001b[0;36m<lambda>\u001b[1;34m(f, prog)\u001b[0m\n\u001b[0;32m   1795\u001b[0m             self.__setattr__(\n\u001b[0;32m   1796\u001b[0m                 \u001b[1;34m'create_'\u001b[0m \u001b[1;33m+\u001b[0m \u001b[0mfrmt\u001b[0m\u001b[1;33m,\u001b[0m\u001b[1;33m\u001b[0m\u001b[1;33m\u001b[0m\u001b[0m\n\u001b[1;32m-> 1797\u001b[1;33m                 \u001b[1;32mlambda\u001b[0m \u001b[0mf\u001b[0m\u001b[1;33m=\u001b[0m\u001b[0mfrmt\u001b[0m\u001b[1;33m,\u001b[0m \u001b[0mprog\u001b[0m\u001b[1;33m=\u001b[0m\u001b[0mself\u001b[0m\u001b[1;33m.\u001b[0m\u001b[0mprog\u001b[0m\u001b[1;33m:\u001b[0m \u001b[0mself\u001b[0m\u001b[1;33m.\u001b[0m\u001b[0mcreate\u001b[0m\u001b[1;33m(\u001b[0m\u001b[0mformat\u001b[0m\u001b[1;33m=\u001b[0m\u001b[0mf\u001b[0m\u001b[1;33m,\u001b[0m \u001b[0mprog\u001b[0m\u001b[1;33m=\u001b[0m\u001b[0mprog\u001b[0m\u001b[1;33m)\u001b[0m\u001b[1;33m\u001b[0m\u001b[1;33m\u001b[0m\u001b[0m\n\u001b[0m\u001b[0;32m   1798\u001b[0m             )\n\u001b[0;32m   1799\u001b[0m             \u001b[0mf\u001b[0m \u001b[1;33m=\u001b[0m \u001b[0mself\u001b[0m\u001b[1;33m.\u001b[0m\u001b[0m__dict__\u001b[0m\u001b[1;33m[\u001b[0m\u001b[1;34m'create_'\u001b[0m \u001b[1;33m+\u001b[0m \u001b[0mfrmt\u001b[0m\u001b[1;33m]\u001b[0m\u001b[1;33m\u001b[0m\u001b[1;33m\u001b[0m\u001b[0m\n",
      "\u001b[1;32mc:\\users\\aanan\\appdata\\local\\programs\\python\\python39\\lib\\site-packages\\pydotplus\\graphviz.py\u001b[0m in \u001b[0;36mcreate\u001b[1;34m(self, prog, format)\u001b[0m\n\u001b[0;32m   1957\u001b[0m             \u001b[0mself\u001b[0m\u001b[1;33m.\u001b[0m\u001b[0mprogs\u001b[0m \u001b[1;33m=\u001b[0m \u001b[0mfind_graphviz\u001b[0m\u001b[1;33m(\u001b[0m\u001b[1;33m)\u001b[0m\u001b[1;33m\u001b[0m\u001b[1;33m\u001b[0m\u001b[0m\n\u001b[0;32m   1958\u001b[0m             \u001b[1;32mif\u001b[0m \u001b[0mself\u001b[0m\u001b[1;33m.\u001b[0m\u001b[0mprogs\u001b[0m \u001b[1;32mis\u001b[0m \u001b[1;32mNone\u001b[0m\u001b[1;33m:\u001b[0m\u001b[1;33m\u001b[0m\u001b[1;33m\u001b[0m\u001b[0m\n\u001b[1;32m-> 1959\u001b[1;33m                 raise InvocationException(\n\u001b[0m\u001b[0;32m   1960\u001b[0m                     'GraphViz\\'s executables not found')\n\u001b[0;32m   1961\u001b[0m \u001b[1;33m\u001b[0m\u001b[0m\n",
      "\u001b[1;31mInvocationException\u001b[0m: GraphViz's executables not found"
     ]
    }
   ],
   "source": [
    "graph = pydotplus.graph_from_dot_data(dot_data.getvalue())\n",
    "Image(graph.create_png())"
   ]
  },
  {
   "attachments": {
    "image.png": {
     "image/png": "[encoded data removed]"
    }
   },
   "cell_type": "markdown",
   "id": "07e08e6a",
   "metadata": {},
   "source": [
    "![image.png](attachment:image.png)"
   ]
  },
  {
   "cell_type": "markdown",
   "id": "e2e48b98",
   "metadata": {},
   "source": [
    "# Random forest - Decision tress suffer from  over fitting and high variance, high variance means that our model is going to change even if we change our data as give us different value of entropy. So instead of making a single tree we make many tress and called them forest. This is a ensombling technique where we train multiple model and take average of the model."
   ]
  },
  {
   "cell_type": "code",
   "execution_count": 54,
   "id": "8f7067b3",
   "metadata": {},
   "outputs": [],
   "source": [
    "X_train = train_data[input_cols]\n",
    "Y_train = np.array(train_data[out_cols]).reshape((-1,))\n",
    "X_test = test_data[input_cols]\n",
    "Y_test = np.array(test_data[out_cols]).reshape((-1,))"
   ]
  },
  {
   "cell_type": "code",
   "execution_count": 55,
   "id": "9a6a4ddc",
   "metadata": {},
   "outputs": [],
   "source": [
    "sk_tree = DecisionTreeClassifier(criterion='entropy') # wthout giving the depth"
   ]
  },
  {
   "cell_type": "code",
   "execution_count": 58,
   "id": "fefd6e3e",
   "metadata": {},
   "outputs": [
    {
     "data": {
      "text/plain": [
       "0.9823434991974318"
      ]
     },
     "execution_count": 58,
     "metadata": {},
     "output_type": "execute_result"
    }
   ],
   "source": [
    "sk_tree.fit(X_train,Y_train)\n",
    "sk_tree.score(X_train,Y_train)"
   ]
  },
  {
   "cell_type": "code",
   "execution_count": 59,
   "id": "f622b5f7",
   "metadata": {},
   "outputs": [
    {
     "data": {
      "text/plain": [
       "0.7723880597014925"
      ]
     },
     "execution_count": 59,
     "metadata": {},
     "output_type": "execute_result"
    }
   ],
   "source": [
    "sk_tree.score(X_test,Y_test)"
   ]
  },
  {
   "cell_type": "markdown",
   "id": "ee9240cc",
   "metadata": {},
   "source": [
    "## Accuracy decreases when we donot give maximum depth for the decision tree"
   ]
  },
  {
   "cell_type": "markdown",
   "id": "c8554d3c",
   "metadata": {},
   "source": [
    "# Now going to learn multiple such trees and then"
   ]
  },
  {
   "cell_type": "code",
   "execution_count": 61,
   "id": "7eb66099",
   "metadata": {},
   "outputs": [],
   "source": [
    "from sklearn.ensemble import RandomForestClassifier"
   ]
  },
  {
   "cell_type": "code",
   "execution_count": 67,
   "id": "80542a7a",
   "metadata": {},
   "outputs": [],
   "source": [
    "rf = RandomForestClassifier(n_estimators=10,criterion='entropy',max_depth=5) # n_estimators denotes how many tress"
   ]
  },
  {
   "cell_type": "code",
   "execution_count": 68,
   "id": "ee9f8825",
   "metadata": {},
   "outputs": [
    {
     "data": {
      "text/plain": [
       "RandomForestClassifier(criterion='entropy', max_depth=5, n_estimators=10)"
      ]
     },
     "execution_count": 68,
     "metadata": {},
     "output_type": "execute_result"
    }
   ],
   "source": [
    "rf.fit(X_train,Y_train)"
   ]
  },
  {
   "cell_type": "code",
   "execution_count": 69,
   "id": "a7071cf0",
   "metadata": {},
   "outputs": [
    {
     "data": {
      "text/plain": [
       "0.8459069020866774"
      ]
     },
     "execution_count": 69,
     "metadata": {},
     "output_type": "execute_result"
    }
   ],
   "source": [
    "rf.score(X_train,Y_train)"
   ]
  },
  {
   "cell_type": "code",
   "execution_count": 70,
   "id": "a2fe9e48",
   "metadata": {},
   "outputs": [
    {
     "data": {
      "text/plain": [
       "0.832089552238806"
      ]
     },
     "execution_count": 70,
     "metadata": {},
     "output_type": "execute_result"
    }
   ],
   "source": [
    "rf.score(X_test,Y_test)"
   ]
  },
  {
   "cell_type": "code",
   "execution_count": 71,
   "id": "b411893a",
   "metadata": {},
   "outputs": [],
   "source": [
    "from sklearn.model_selection import cross_val_score"
   ]
  },
  {
   "cell_type": "code",
   "execution_count": 72,
   "id": "a0af777f",
   "metadata": {},
   "outputs": [],
   "source": [
    "acc = cross_val_score(RandomForestClassifier(n_estimators=10,max_depth=5,criterion='entropy'),X_train,Y_train,cv=5).mean()"
   ]
  },
  {
   "cell_type": "code",
   "execution_count": 73,
   "id": "ade463df",
   "metadata": {},
   "outputs": [
    {
     "name": "stdout",
     "output_type": "stream",
     "text": [
      "0.8009290322580644\n"
     ]
    }
   ],
   "source": [
    "print(acc)"
   ]
  },
  {
   "cell_type": "markdown",
   "id": "fb55b736",
   "metadata": {},
   "source": [
    "### Reason for decrease in accuracy is as we are tarining on 4 different parts so we are taking the average."
   ]
  },
  {
   "cell_type": "code",
   "execution_count": 74,
   "id": "24022759",
   "metadata": {},
   "outputs": [],
   "source": [
    "# What happens when we change estimaters \n",
    "acc_list = []\n",
    "for i in range(1,50):\n",
    "    acc = cross_val_score(RandomForestClassifier(n_estimators=i,max_depth=5,criterion='entropy'),X_train,Y_train,cv=5).mean()\n",
    "    acc_list.append(acc)"
   ]
  },
  {
   "cell_type": "code",
   "execution_count": 75,
   "id": "c02609b1",
   "metadata": {},
   "outputs": [
    {
     "name": "stdout",
     "output_type": "stream",
     "text": [
      "[0.7640774193548389, 0.7689548387096774, 0.7930193548387098, 0.8169290322580645, 0.7929548387096774, 0.7992903225806451, 0.794516129032258, 0.7849548387096773, 0.8008903225806451, 0.7961548387096774, 0.8185677419354839, 0.8217548387096774, 0.8105419354838709, 0.8153677419354839, 0.8105419354838709, 0.8057677419354838, 0.8057677419354838, 0.8089806451612903, 0.8089548387096773, 0.8025032258064517, 0.8089548387096773, 0.8234322580645161, 0.8185419354838709, 0.8105806451612902, 0.8153677419354839, 0.8234322580645161, 0.8186064516129032, 0.8169677419354839, 0.816941935483871, 0.8105419354838709, 0.8217935483870967, 0.8233806451612903, 0.8121548387096773, 0.8329806451612903, 0.8153935483870967, 0.8201548387096775, 0.8154193548387096, 0.8185806451612903, 0.8105677419354839, 0.8169677419354839, 0.8121290322580645, 0.8137548387096775, 0.8202064516129033, 0.8218064516129033, 0.8234064516129033, 0.8217935483870967, 0.8265677419354838, 0.8233677419354839, 0.8137548387096774]\n"
     ]
    }
   ],
   "source": [
    "print(acc_list)"
   ]
  },
  {
   "cell_type": "code",
   "execution_count": 77,
   "id": "90bea701",
   "metadata": {},
   "outputs": [],
   "source": [
    "import matplotlib.pyplot as plt"
   ]
  },
  {
   "cell_type": "code",
   "execution_count": 78,
   "id": "641a4638",
   "metadata": {},
   "outputs": [
    {
     "data": {
      "text/plain": [
       "[<matplotlib.lines.Line2D at 0x1c9b4e03430>]"
      ]
     },
     "execution_count": 78,
     "metadata": {},
     "output_type": "execute_result"
    },
    {
     "data": {
      "image/png": "[encoded data removed]",
      "text/plain": [
       "<Figure size 576x396 with 1 Axes>"
      ]
     },
     "metadata": {},
     "output_type": "display_data"
    }
   ],
   "source": [
    "plt.style.use(\"seaborn\")\n",
    "plt.plot(acc_list)"
   ]
  },
  {
   "cell_type": "code",
   "execution_count": 79,
   "id": "991828d8",
   "metadata": {},
   "outputs": [
    {
     "name": "stdout",
     "output_type": "stream",
     "text": [
      "33\n"
     ]
    }
   ],
   "source": [
    "print(np.argmax(acc_list))"
   ]
  },
  {
   "cell_type": "markdown",
   "id": "4c7e6c9c",
   "metadata": {},
   "source": [
    "### So we get best accuracy on the 34 estimator as indexing is from 0."
   ]
  },
  {
   "cell_type": "code",
   "execution_count": 80,
   "id": "4177f221",
   "metadata": {},
   "outputs": [
    {
     "data": {
      "text/plain": [
       "0.8571428571428571"
      ]
     },
     "execution_count": 80,
     "metadata": {},
     "output_type": "execute_result"
    }
   ],
   "source": [
    "rf = RandomForestClassifier(n_estimators=33,max_depth=5,criterion='entropy')\n",
    "rf.fit(X_train,Y_train)\n",
    "rf.score(X_train,Y_train)"
   ]
  },
  {
   "cell_type": "code",
   "execution_count": 81,
   "id": "d2116a4d",
   "metadata": {},
   "outputs": [
    {
     "data": {
      "text/plain": [
       "0.8283582089552238"
      ]
     },
     "execution_count": 81,
     "metadata": {},
     "output_type": "execute_result"
    }
   ],
   "source": [
    "rf.score(X_test,Y_test)"
   ]
  },
  {
   "cell_type": "code",
   "execution_count": null,
   "id": "9d47624c",
   "metadata": {},
   "outputs": [],
   "source": []
  }
 ],
 "metadata": {
  "kernelspec": {
   "display_name": "Python 3",
   "language": "python",
   "name": "python3"
  },
  "language_info": {
   "codemirror_mode": {
    "name": "ipython",
    "version": 3
   },
   "file_extension": ".py",
   "mimetype": "text/x-python",
   "name": "python",
   "nbconvert_exporter": "python",
   "pygments_lexer": "ipython3",
   "version": "3.9.4"
  }
 },
 "nbformat": 4,
 "nbformat_minor": 5
}
