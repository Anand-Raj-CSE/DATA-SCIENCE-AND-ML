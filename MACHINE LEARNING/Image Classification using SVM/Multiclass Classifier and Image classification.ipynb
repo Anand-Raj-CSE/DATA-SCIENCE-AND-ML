{
 "cells": [
  {
   "cell_type": "markdown",
   "id": "1183110b",
   "metadata": {},
   "source": [
    "# We are going to do multiclasss classification , logistic regression gave us output {0,1} , SVM gave us ouput in {-1,1}. "
   ]
  },
  {
   "cell_type": "markdown",
   "id": "dfad04d4",
   "metadata": {},
   "source": [
    "## One vs One is technique in which we assume that we have N classes then we train Nc2 parameters classifiers for each two classes. So prediction happens using the majority vote from Nc2 classifiers. This takes O(N^2) time , this can be used for large datasets which cannot be fit into the memory.\n",
    "## Another technique is One vs Rest, here we take a single class and rest of the class(es) are treated as -ve(-1), while training with SVM. This type of classifier will need more memory but will take only N classifiers. Each N classifier will tell wheather the point belongs to that class or not. We can train N classifiers parallely and hence takes O(N) time.\n",
    "## sklearn has 'ovo' and 'ovr' in SVM and Logistic regression for One vs One and One vs Rest"
   ]
  },
  {
   "cell_type": "code",
   "execution_count": null,
   "id": "c0a7e29b",
   "metadata": {},
   "outputs": [],
   "source": []
  }
 ],
 "metadata": {
  "kernelspec": {
   "display_name": "Python 3",
   "language": "python",
   "name": "python3"
  },
  "language_info": {
   "codemirror_mode": {
    "name": "ipython",
    "version": 3
   },
   "file_extension": ".py",
   "mimetype": "text/x-python",
   "name": "python",
   "nbconvert_exporter": "python",
   "pygments_lexer": "ipython3",
   "version": "3.9.4"
  }
 },
 "nbformat": 4,
 "nbformat_minor": 5
}
