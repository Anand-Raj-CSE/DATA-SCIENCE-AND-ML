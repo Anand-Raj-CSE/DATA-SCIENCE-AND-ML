{
 "cells": [
  {
   "cell_type": "markdown",
   "id": "de943b52",
   "metadata": {},
   "source": [
    "# We are going to do multiclasss classification , logistic regression gave us output {0,1} , SVM gave us ouput in {-1,1}. One vs One is technique in which we assume that we have N classes then we train Nc2 parameters classifiers for each two classes."
   ]
  }
 ],
 "metadata": {
  "kernelspec": {
   "display_name": "Python 3",
   "language": "python",
   "name": "python3"
  },
  "language_info": {
   "codemirror_mode": {
    "name": "ipython",
    "version": 3
   },
   "file_extension": ".py",
   "mimetype": "text/x-python",
   "name": "python",
   "nbconvert_exporter": "python",
   "pygments_lexer": "ipython3",
   "version": "3.9.4"
  }
 },
 "nbformat": 4,
 "nbformat_minor": 5
}
