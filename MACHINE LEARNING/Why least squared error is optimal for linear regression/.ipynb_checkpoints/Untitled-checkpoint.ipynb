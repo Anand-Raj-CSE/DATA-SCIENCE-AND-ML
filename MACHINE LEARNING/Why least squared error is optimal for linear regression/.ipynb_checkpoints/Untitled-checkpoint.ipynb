{
 "cells": [
  {
   "cell_type": "code",
   "execution_count": 1,
   "id": "3e0dbb1f",
   "metadata": {},
   "outputs": [],
   "source": [
    "import numpy as np\n",
    "import matplotlib.pyplot as plt\n",
    "import pandas as pd"
   ]
  },
  {
   "cell_type": "code",
   "execution_count": 2,
   "id": "093700fe",
   "metadata": {},
   "outputs": [
    {
     "name": "stdout",
     "output_type": "stream",
     "text": [
      "[ 0  1  2  3  4  5  6  7  8  9 10 11 12 13 14 15 16 17 18 19]\n"
     ]
    }
   ],
   "source": [
    "X = np.arange(20)\n",
    "print(X)"
   ]
  },
  {
   "cell_type": "code",
   "execution_count": 3,
   "id": "8f07e7b9",
   "metadata": {},
   "outputs": [
    {
     "name": "stdout",
     "output_type": "stream",
     "text": [
      "[-4.54530486 -3.97737322 -1.1820691  -1.34258671  3.61036359  3.47645523\n",
      "  0.56544935  0.98754179  2.65077918  4.36015688 -2.03715035  0.61725672\n",
      "  0.32687722 -2.76913376  0.60074864 -5.35382806  1.95619731 -1.85868258\n",
      " -0.04205272  1.47263012]\n"
     ]
    }
   ],
   "source": [
    "Theta= np.array([2,3])\n",
    "\n",
    "# np.random.randn() gives us the random normal distribution of 0 mean and 1 sigma\n",
    "noise = 3*np.random.randn(20) # Here wetook standard deviation as 3\n",
    "print(noise)"
   ]
  },
  {
   "cell_type": "code",
   "execution_count": 4,
   "id": "633cb3ab",
   "metadata": {},
   "outputs": [],
   "source": [
    "y_ideal = Theta[1]*X + Theta[0]\n",
    "Y = noise\n",
    "y_real = Theta[1]*X + Theta[0] + noise"
   ]
  },
  {
   "cell_type": "code",
   "execution_count": 5,
   "id": "bc8c8461",
   "metadata": {},
   "outputs": [
    {
     "data": {
      "image/png": "[encoded data removed]",
      "text/plain": [
       "<Figure size 432x288 with 1 Axes>"
      ]
     },
     "metadata": {
      "needs_background": "light"
     },
     "output_type": "display_data"
    }
   ],
   "source": [
    "plt.scatter(X,Y)\n",
    "plt.show()\n",
    "# MOst of the points will lie in the range +3 to -3"
   ]
  },
  {
   "cell_type": "code",
   "execution_count": 6,
   "id": "5eb8afdb",
   "metadata": {},
   "outputs": [
    {
     "data": {
      "image/png": "[encoded data removed]",
      "text/plain": [
       "<Figure size 432x288 with 1 Axes>"
      ]
     },
     "metadata": {
      "needs_background": "light"
     },
     "output_type": "display_data"
    }
   ],
   "source": [
    "plt.plot(X,y_ideal,color = 'orange')\n",
    "plt.scatter(X,y_real)\n",
    "plt.show()\n",
    "# Our points are noise which donot exactly lie on the line but are somewhat closer to the line"
   ]
  },
  {
   "cell_type": "markdown",
   "id": "76038f8f",
   "metadata": {},
   "source": [
    "# Here each point is shifted by Theta(tanspose) * X(i) , higher the value more is the shifting . So mean is changed by Theta(tanspose) * X(i)"
   ]
  },
  {
   "cell_type": "code",
   "execution_count": null,
   "id": "5dba742c",
   "metadata": {},
   "outputs": [],
   "source": []
  },
  {
   "cell_type": "code",
   "execution_count": null,
   "id": "03d628e0",
   "metadata": {},
   "outputs": [],
   "source": []
  }
 ],
 "metadata": {
  "kernelspec": {
   "display_name": "Python 3",
   "language": "python",
   "name": "python3"
  },
  "language_info": {
   "codemirror_mode": {
    "name": "ipython",
    "version": 3
   },
   "file_extension": ".py",
   "mimetype": "text/x-python",
   "name": "python",
   "nbconvert_exporter": "python",
   "pygments_lexer": "ipython3",
   "version": "3.9.4"
  }
 },
 "nbformat": 4,
 "nbformat_minor": 5
}
